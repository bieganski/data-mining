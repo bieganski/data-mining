{
 "cells": [
  {
   "cell_type": "code",
   "execution_count": 1,
   "metadata": {},
   "outputs": [
    {
     "name": "stderr",
     "output_type": "stream",
     "text": [
      "Warning message in fread(DATA_FNAME):\n",
      "“Detected 3 column names but the data has 9 columns (i.e. invalid file). Added 6 extra default column names at the end.”\n"
     ]
    }
   ],
   "source": [
    "\n",
    "# WARNING - disk size of data file is about 5.4GB, and after reading it into RAM\n",
    "# R process uses about 6.4GB of memory.\n",
    "DATA_FNAME = \"MINI_TRIMMED.csv\" # \"clash_royale_games_Jan_2019.csv\"\n",
    "library(data.table)\n",
    "data = fread(DATA_FNAME)\n",
    "DATA_LEN = length(data$timestamp)\n",
    "\n",
    "\n"
   ]
  },
  {
   "cell_type": "code",
   "execution_count": 2,
   "metadata": {},
   "outputs": [
    {
     "data": {
      "text/html": "<table class=\"dataframe\">\n<caption>A data.table: 10 × 9</caption>\n<thead>\n\t<tr><th scope=col>timestamp</th><th scope=col>player</th><th scope=col>deck</th><th scope=col>V4</th><th scope=col>V5</th><th scope=col>V6</th><th scope=col>V7</th><th scope=col>V8</th><th scope=col>V9</th></tr>\n\t<tr><th scope=col>&lt;dttm&gt;</th><th scope=col>&lt;chr&gt;</th><th scope=col>&lt;chr&gt;</th><th scope=col>&lt;chr&gt;</th><th scope=col>&lt;chr&gt;</th><th scope=col>&lt;chr&gt;</th><th scope=col>&lt;chr&gt;</th><th scope=col>&lt;chr&gt;</th><th scope=col>&lt;chr&gt;</th></tr>\n</thead>\n<tbody>\n\t<tr><td>2018-12-31 23:00:46</td><td>elixir-collector</td><td>golem           </td><td>mega-knight     </td><td>mega-minion  </td><td>night-witch   </td><td>rage          </td><td>witch        </td><td>zap      </td></tr>\n\t<tr><td>2018-12-31 23:01:34</td><td>dark-prince     </td><td>goblin-gang     </td><td>miner           </td><td>pekka        </td><td>the-log       </td><td>tornado       </td><td>wizard       </td><td>zap      </td></tr>\n\t<tr><td>2018-12-31 23:02:00</td><td>baby-dragon     </td><td>balloon         </td><td>barbarian-barrel</td><td>bowler       </td><td>freeze        </td><td>inferno-dragon</td><td>lumberjack   </td><td>tornado  </td></tr>\n\t<tr><td>2018-12-31 23:02:00</td><td>baby-dragon     </td><td>fireball        </td><td>inferno-dragon  </td><td>mega-minion  </td><td>miner         </td><td>royal-giant   </td><td>the-log      </td><td>tombstone</td></tr>\n\t<tr><td>2018-12-31 23:02:02</td><td>archers         </td><td>barbarian-barrel</td><td>goblins         </td><td>hog-rider    </td><td>knight        </td><td>poison        </td><td>tesla        </td><td>zap      </td></tr>\n\t<tr><td>2018-12-31 23:02:21</td><td>goblin-barrel   </td><td>hog-rider       </td><td>inferno-tower   </td><td>minion-horde </td><td>prince        </td><td>rocket        </td><td>skeleton-army</td><td>wizard   </td></tr>\n\t<tr><td>2018-12-31 23:03:12</td><td>arrows          </td><td>balloon         </td><td>electro-wizard  </td><td>ice-wizard   </td><td>inferno-dragon</td><td>mega-knight   </td><td>minions      </td><td>tombstone</td></tr>\n\t<tr><td>2018-12-31 23:03:42</td><td>baby-dragon     </td><td>balloon         </td><td>barbarian-barrel</td><td>bowler       </td><td>freeze        </td><td>inferno-dragon</td><td>lumberjack   </td><td>tornado  </td></tr>\n\t<tr><td>2018-12-31 23:04:20</td><td>dart-goblin     </td><td>electro-wizard  </td><td>giant-skeleton  </td><td>goblin-barrel</td><td>lumberjack    </td><td>the-log       </td><td>valkyrie     </td><td>zap      </td></tr>\n\t<tr><td>2018-12-31 23:04:47</td><td>dark-prince     </td><td>goblin-gang     </td><td>miner           </td><td>pekka        </td><td>the-log       </td><td>tornado       </td><td>wizard       </td><td>zap      </td></tr>\n</tbody>\n</table>\n",
      "text/latex": "A data.table: 10 × 9\n\\begin{tabular}{lllllllll}\n timestamp & player & deck & V4 & V5 & V6 & V7 & V8 & V9\\\\\n <dttm> & <chr> & <chr> & <chr> & <chr> & <chr> & <chr> & <chr> & <chr>\\\\\n\\hline\n\t 2018-12-31 23:00:46 & elixir-collector & golem            & mega-knight      & mega-minion   & night-witch    & rage           & witch         & zap      \\\\\n\t 2018-12-31 23:01:34 & dark-prince      & goblin-gang      & miner            & pekka         & the-log        & tornado        & wizard        & zap      \\\\\n\t 2018-12-31 23:02:00 & baby-dragon      & balloon          & barbarian-barrel & bowler        & freeze         & inferno-dragon & lumberjack    & tornado  \\\\\n\t 2018-12-31 23:02:00 & baby-dragon      & fireball         & inferno-dragon   & mega-minion   & miner          & royal-giant    & the-log       & tombstone\\\\\n\t 2018-12-31 23:02:02 & archers          & barbarian-barrel & goblins          & hog-rider     & knight         & poison         & tesla         & zap      \\\\\n\t 2018-12-31 23:02:21 & goblin-barrel    & hog-rider        & inferno-tower    & minion-horde  & prince         & rocket         & skeleton-army & wizard   \\\\\n\t 2018-12-31 23:03:12 & arrows           & balloon          & electro-wizard   & ice-wizard    & inferno-dragon & mega-knight    & minions       & tombstone\\\\\n\t 2018-12-31 23:03:42 & baby-dragon      & balloon          & barbarian-barrel & bowler        & freeze         & inferno-dragon & lumberjack    & tornado  \\\\\n\t 2018-12-31 23:04:20 & dart-goblin      & electro-wizard   & giant-skeleton   & goblin-barrel & lumberjack     & the-log        & valkyrie      & zap      \\\\\n\t 2018-12-31 23:04:47 & dark-prince      & goblin-gang      & miner            & pekka         & the-log        & tornado        & wizard        & zap      \\\\\n\\end{tabular}\n",
      "text/markdown": "\nA data.table: 10 × 9\n\n| timestamp &lt;dttm&gt; | player &lt;chr&gt; | deck &lt;chr&gt; | V4 &lt;chr&gt; | V5 &lt;chr&gt; | V6 &lt;chr&gt; | V7 &lt;chr&gt; | V8 &lt;chr&gt; | V9 &lt;chr&gt; |\n|---|---|---|---|---|---|---|---|---|\n| 2018-12-31 23:00:46 | elixir-collector | golem            | mega-knight      | mega-minion   | night-witch    | rage           | witch         | zap       |\n| 2018-12-31 23:01:34 | dark-prince      | goblin-gang      | miner            | pekka         | the-log        | tornado        | wizard        | zap       |\n| 2018-12-31 23:02:00 | baby-dragon      | balloon          | barbarian-barrel | bowler        | freeze         | inferno-dragon | lumberjack    | tornado   |\n| 2018-12-31 23:02:00 | baby-dragon      | fireball         | inferno-dragon   | mega-minion   | miner          | royal-giant    | the-log       | tombstone |\n| 2018-12-31 23:02:02 | archers          | barbarian-barrel | goblins          | hog-rider     | knight         | poison         | tesla         | zap       |\n| 2018-12-31 23:02:21 | goblin-barrel    | hog-rider        | inferno-tower    | minion-horde  | prince         | rocket         | skeleton-army | wizard    |\n| 2018-12-31 23:03:12 | arrows           | balloon          | electro-wizard   | ice-wizard    | inferno-dragon | mega-knight    | minions       | tombstone |\n| 2018-12-31 23:03:42 | baby-dragon      | balloon          | barbarian-barrel | bowler        | freeze         | inferno-dragon | lumberjack    | tornado   |\n| 2018-12-31 23:04:20 | dart-goblin      | electro-wizard   | giant-skeleton   | goblin-barrel | lumberjack     | the-log        | valkyrie      | zap       |\n| 2018-12-31 23:04:47 | dark-prince      | goblin-gang      | miner            | pekka         | the-log        | tornado        | wizard        | zap       |\n\n",
      "text/plain": "   timestamp           player           deck             V4              \n1  2018-12-31 23:00:46 elixir-collector golem            mega-knight     \n2  2018-12-31 23:01:34 dark-prince      goblin-gang      miner           \n3  2018-12-31 23:02:00 baby-dragon      balloon          barbarian-barrel\n4  2018-12-31 23:02:00 baby-dragon      fireball         inferno-dragon  \n5  2018-12-31 23:02:02 archers          barbarian-barrel goblins         \n6  2018-12-31 23:02:21 goblin-barrel    hog-rider        inferno-tower   \n7  2018-12-31 23:03:12 arrows           balloon          electro-wizard  \n8  2018-12-31 23:03:42 baby-dragon      balloon          barbarian-barrel\n9  2018-12-31 23:04:20 dart-goblin      electro-wizard   giant-skeleton  \n10 2018-12-31 23:04:47 dark-prince      goblin-gang      miner           \n   V5            V6             V7             V8            V9       \n1  mega-minion   night-witch    rage           witch         zap      \n2  pekka         the-log        tornado        wizard        zap      \n3  bowler        freeze         inferno-dragon lumberjack    tornado  \n4  mega-minion   miner          royal-giant    the-log       tombstone\n5  hog-rider     knight         poison         tesla         zap      \n6  minion-horde  prince         rocket         skeleton-army wizard   \n7  ice-wizard    inferno-dragon mega-knight    minions       tombstone\n8  bowler        freeze         inferno-dragon lumberjack    tornado  \n9  goblin-barrel lumberjack     the-log        valkyrie      zap      \n10 pekka         the-log        tornado        wizard        zap      "
     },
     "metadata": {},
     "output_type": "display_data"
    }
   ],
   "source": [
    "ordered = data[order(data$timestamp)]\n",
    "head(ordered, n=10)"
   ]
  },
  {
   "cell_type": "code",
   "execution_count": 44,
   "metadata": {},
   "outputs": [],
   "source": [
    "library(arules);\n",
    "\n",
    "# Python-like fstrings.\n",
    "library(glue);"
   ]
  },
  {
   "cell_type": "code",
   "execution_count": 4,
   "metadata": {},
   "outputs": [],
   "source": [
    "transactions = arules::read.transactions(DATA_FNAME, format=\"basket\", head=1, sep=',', cols=1)"
   ]
  },
  {
   "cell_type": "code",
   "execution_count": 5,
   "metadata": {},
   "outputs": [
    {
     "name": "stdout",
     "output_type": "stream",
     "text": [
      "    items                     transactionID\n",
      "[1] {elixir-collector,                     \n",
      "     golem,                                \n",
      "     mega-knight,                          \n",
      "     mega-minion,                          \n",
      "     night-witch,                          \n",
      "     rage,                                 \n",
      "     witch,                                \n",
      "     zap}              2018-12-31T23:00:46Z\n",
      "[2] {dark-prince,                          \n",
      "     goblin-gang,                          \n",
      "     miner,                                \n",
      "     pekka,                                \n",
      "     the-log,                              \n",
      "     tornado,                              \n",
      "     wizard,                               \n",
      "     zap}              2018-12-31T23:01:34Z\n",
      "[3] {baby-dragon,                          \n",
      "     balloon,                              \n",
      "     barbarian-barrel,                     \n",
      "     bowler,                               \n",
      "     freeze,                               \n",
      "     inferno-dragon,                       \n",
      "     lumberjack,                           \n",
      "     tornado}          2018-12-31T23:02:00Z\n",
      "[4] {baby-dragon,                          \n",
      "     fireball,                             \n",
      "     inferno-dragon,                       \n",
      "     mega-minion,                          \n",
      "     miner,                                \n",
      "     royal-giant,                          \n",
      "     the-log,                              \n",
      "     tombstone}        2018-12-31T23:02:00Z\n",
      "[5] {archers,                              \n",
      "     barbarian-barrel,                     \n",
      "     goblins,                              \n",
      "     hog-rider,                            \n",
      "     knight,                               \n",
      "     poison,                               \n",
      "     tesla,                                \n",
      "     zap}              2018-12-31T23:02:02Z\n",
      "[6] {goblin-barrel,                        \n",
      "     hog-rider,                            \n",
      "     inferno-tower,                        \n",
      "     minion-horde,                         \n",
      "     prince,                               \n",
      "     rocket,                               \n",
      "     skeleton-army,                        \n",
      "     wizard}           2018-12-31T23:02:21Z\n"
     ]
    }
   ],
   "source": [
    "inspect(head(transactions))"
   ]
  },
  {
   "cell_type": "code",
   "execution_count": 34,
   "metadata": {},
   "outputs": [],
   "source": [
    "minSupport = 0.01\n",
    "frequentItemSets = apriori(transactions, \n",
    "                           parameter = list(supp = minSupport, \n",
    "                                            minlen = 1, \n",
    "                                            target = \"frequent itemsets\"),\n",
    "                           appearance = NULL, control = list(verbose = FALSE))\n",
    "\n",
    "# frequentItemSets = eclat(transactions, parameter = list(supp = minSupport, \n",
    "#                                                         minlen = 2, \n",
    "#                                                         target = \"frequent itemsets\",\n",
    "#                                                         tidLists = FALSE),\n",
    "#                               control = list(verbose = FALSE))"
   ]
  },
  {
   "cell_type": "code",
   "execution_count": 96,
   "metadata": {},
   "outputs": [],
   "source": [
    "\n",
    "n_sets = function(n) arules::sort(frequentItemSets[which(size(frequentItemSets) == n)], decreasing=TRUE)\n",
    "m = function(x) methods(class=class(x))\n",
    "p = function(x) print(glue(x))"
   ]
  },
  {
   "cell_type": "code",
   "execution_count": 55,
   "metadata": {},
   "outputs": [
    {
     "name": "stdout",
     "output_type": "stream",
     "text": [
      "    items        support transIdenticalToItemsets count\n",
      "[1] {cannon,                                           \n",
      "     fireball,                                         \n",
      "     hog-rider,                                        \n",
      "     ice-golem,                                        \n",
      "     ice-spirit,                                       \n",
      "     musketeer,                                        \n",
      "     skeletons,                                        \n",
      "     the-log}     0.0158                   0.0158   158\n"
     ]
    }
   ],
   "source": [
    "\n",
    "inspect(head(sort(n_sets(8), decreasing=TRUE)))\n"
   ]
  },
  {
   "cell_type": "code",
   "execution_count": 98,
   "metadata": {},
   "outputs": [
    {
     "name": "stdout",
     "output_type": "stream",
     "text": [
      "    items         support transIdenticalToItemsets count\n",
      "[1] {zap}         0.4319  0                        4319 \n",
      "[2] {fireball}    0.3424  0                        3424 \n",
      "[3] {the-log}     0.3255  0                        3255 \n",
      "[4] {hog-rider}   0.2816  0                        2816 \n",
      "[5] {goblin-gang} 0.2715  0                        2715 \n",
      "[6] {wizard}      0.2269  0                        2269 \n",
      "Here is the list of most popular cards (overall). The most popular card, the {zap} was used in 43.19% of all decks!\n"
     ]
    }
   ],
   "source": [
    "a = n_sets(1)\n",
    "inspect(head(a))\n",
    "l = labels(a[1])# [1]\n",
    "s = support(a[1], transactions)\n",
    "p(\"Here is the list of most popular cards (overall). The most popular card, the {l} was used in {100 * s}% of all decks!\")\n"
   ]
  }
 ],
 "metadata": {
  "kernelspec": {
   "display_name": "R",
   "language": "R",
   "name": "ir"
  },
  "language_info": {
   "codemirror_mode": "r",
   "file_extension": ".r",
   "mimetype": "text/x-r-source",
   "name": "R",
   "pygments_lexer": "r",
   "version": "4.0.4"
  }
 },
 "nbformat": 4,
 "nbformat_minor": 5
}