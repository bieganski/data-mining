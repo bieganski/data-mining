{
 "cells": [
  {
   "cell_type": "code",
   "execution_count": 17,
   "metadata": {},
   "outputs": [],
   "source": [
    "\n",
    "# WARNING - disk size of data file is about 5.4GB, and after reading it into RAM\n",
    "# R process uses about 6.4GB of memory.\n",
    "DATA_FNAME = \"clash_royale_games_Jan_2019.csv\"\n",
    "data = read.csv(DATA_FNAME)\n",
    "DATA_LEN = length(data$timestamp)\n",
    "\n"
   ]
  },
  {
   "cell_type": "code",
   "execution_count": 26,
   "metadata": {},
   "outputs": [],
   "source": [
    "transaction_summary = function(data) {\n",
    "    res = aggregate(cbind(data$has_won, data$tag) ~ data$timestamp, data, id)\n",
    "    bad_indices = res$V1 %in% c(\"0\", \"1\", \"0.5\") # || res$V1 == \"1\"]\n",
    "    library(dplyr)\n",
    "    filter(res, !bad_indices)\n",
    "}\n",
    "data_summary = transaction_summary(data[1:(DATA_LEN),])\n",
    "\n",
    "data_summary"
   ]
  },
  {
   "cell_type": "code",
   "execution_count": null,
   "metadata": {},
   "outputs": [
    {
     "ename": "Error",
     "evalue": "Session cannot generate requests",
     "output_type": "error",
     "traceback": [
      "Error: Session cannot generate requests",
      "at w.executeCodeCell (/home/mateusz/.vscode-insiders/extensions/ms-toolsai.jupyter-2021.6.732501275/out/client/extension.js:49:635275)",
      "at w.execute (/home/mateusz/.vscode-insiders/extensions/ms-toolsai.jupyter-2021.6.732501275/out/client/extension.js:49:634664)",
      "at w.start (/home/mateusz/.vscode-insiders/extensions/ms-toolsai.jupyter-2021.6.732501275/out/client/extension.js:49:629573)",
      "at runMicrotasks (<anonymous>)",
      "at processTicksAndRejections (internal/process/task_queues.js:97:5)",
      "at async t.CellExecutionQueue.executeQueuedCells (/home/mateusz/.vscode-insiders/extensions/ms-toolsai.jupyter-2021.6.732501275/out/client/extension.js:49:644764)",
      "at async t.CellExecutionQueue.start (/home/mateusz/.vscode-insiders/extensions/ms-toolsai.jupyter-2021.6.732501275/out/client/extension.js:49:644304)"
     ]
    }
   ],
   "source": [
    "1"
   ]
  }
 ],
 "metadata": {
  "kernelspec": {
   "display_name": "R",
   "language": "R",
   "name": "ir"
  },
  "language_info": {}
 },
 "nbformat": 4,
 "nbformat_minor": 5
}