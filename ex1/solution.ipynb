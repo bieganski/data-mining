{
 "cells": [
  {
   "cell_type": "code",
   "execution_count": null,
   "id": "metric-analysis",
   "metadata": {},
   "outputs": [],
   "source": [
    "# Mateusz Biegański\n",
    "# mb385162\n",
    "\n",
    "# Data Mining 2020-2021 course, MIMUW"
   ]
  },
  {
   "cell_type": "code",
   "execution_count": 109,
   "id": "eastern-vehicle",
   "metadata": {},
   "outputs": [],
   "source": [
    "# Libraries used.\n",
    "\n",
    "# Frequent itemsets + association rules\n",
    "library(arules);\n",
    "\n",
    "# Python-like fstrings.\n",
    "library(glue);\n",
    "\n",
    "# Misc utils.\n",
    "library(dplyr);\n",
    "\n",
    "# Plots.\n",
    "library(ggplot2);\n",
    "\n",
    "# B-splines for 'ggplot' smooth plots. \n",
    "library(splines);\n",
    "\n",
    "# Reading .csv in efficient way.\n",
    "library(data.table);\n"
   ]
  },
  {
   "cell_type": "code",
   "execution_count": 110,
   "id": "ahead-russia",
   "metadata": {},
   "outputs": [],
   "source": [
    "# Helper functions.\n",
    "\n",
    "m  = function(x) print(methods(class=class(x)))\n",
    "p  = function(x) print(glue(x))\n",
    "ph = function(x) print(head(x))\n",
    "pt = function(x) print(tail(x))\n",
    "pc = function(x) print(class(x))\n"
   ]
  },
  {
   "cell_type": "code",
   "execution_count": 119,
   "id": "racial-logging",
   "metadata": {},
   "outputs": [
    {
     "name": "stderr",
     "output_type": "stream",
     "text": [
      "Warning message in fread(DATA_FNAME):\n",
      "“Detected 3 column names but the data has 9 columns (i.e. invalid file). Added 6 extra default column names at the end.”\n"
     ]
    }
   ],
   "source": [
    "# IMPORTANT - disk size of whole data file is about 5.4GB, and after reading it into RAM\n",
    "# R process uses about 6.4GB of memory.\n",
    "\n",
    "# For computation time I decided to shuffle dataset and take 1M of records \n",
    "# (about 1/50 of dataset - full data is about 54M records).\n",
    "\n",
    "# To convert data quickly (about 40s to shuffle, optionally take only winning ones and take first 1M)\n",
    "# I created bash script \"convert_csv.sh\" that I append to my solution.\n",
    "# It uses standard UNIX tools like grep, head, sed, shuf.\n",
    "# To generate DATA_FNAME run command './convert_csv.sh --basic'\n",
    "# To generate WINNING_DATA_FNAME run command './convert_csv.sh --basic --winning'\n",
    "\n",
    "# Or, you can download it via\n",
    "# $ wget https://students.mimuw.edu.pl/~mb385162/data-mining.zip -O data-mining.zip\n",
    "\n",
    "DATA_FNAME = \"shuffled1M.csv\"\n",
    "WINNING_DATA_FNAME = \"shuffled_winning1M.csv\"\n",
    "data = fread(DATA_FNAME)\n"
   ]
  },
  {
   "cell_type": "code",
   "execution_count": 120,
   "id": "thirty-calgary",
   "metadata": {},
   "outputs": [
    {
     "name": "stdout",
     "output_type": "stream",
     "text": [
      "Our dataset contains results of 999999 games played from 31-12-2018 up to 31-01-2019.\n"
     ]
    }
   ],
   "source": [
    "# Sort games by timestamp.\n",
    "data = data[order(data$timestamp, decreasing=FALSE)]\n",
    "data_len = length(data$timestamp)\n",
    "data_begin_day = format(data$timestamp[[1]], '%d-%m-%Y')\n",
    "data_end_day = format(data$timestamp[[data_len]], '%d-%m-%Y')\n",
    "\n",
    "p(\"Our dataset contains results of {data_len} games played from {data_begin_day} up to {data_end_day}.\")\n"
   ]
  },
  {
   "cell_type": "code",
   "execution_count": 114,
   "id": "duplicate-morning",
   "metadata": {},
   "outputs": [],
   "source": [
    "# Read transactions.\n",
    "transactions = arules::read.transactions(DATA_FNAME, format=\"basket\", head=1, sep=',', cols=1)"
   ]
  },
  {
   "cell_type": "code",
   "execution_count": 121,
   "id": "artistic-dating",
   "metadata": {},
   "outputs": [
    {
     "name": "stdout",
     "output_type": "stream",
     "text": [
      "    items                  transactionID\n",
      "[1] {barbarian-hut,                     \n",
      "     dart-goblin,                       \n",
      "     goblin-hut,                        \n",
      "     minions,                           \n",
      "     princess,                          \n",
      "     the-log,                           \n",
      "     valkyrie,                          \n",
      "     x-bow}         2019-01-05T00:29:59Z\n",
      "    items                     transactionID\n",
      "[1] {elite-barbarians,                     \n",
      "     fire-spirits,                         \n",
      "     inferno-tower,                        \n",
      "     miner,                                \n",
      "     prince,                               \n",
      "     skeleton-army,                        \n",
      "     the-log,                              \n",
      "     zap}              2019-01-04T08:45:14Z\n"
     ]
    }
   ],
   "source": [
    "# For each game we introduce two transactions - one for each players (single transaction contains set of cards from one player's deck).\n",
    "inspect(head(transactions, n=1))\n",
    "inspect(tail(transactions, n=1))"
   ]
  },
  {
   "cell_type": "code",
   "execution_count": 122,
   "id": "confidential-fleece",
   "metadata": {},
   "outputs": [],
   "source": [
    "minSupport = 0.01\n",
    "\n",
    "# Generate frequent itemsets (using arules::Apriori implementation). \n",
    "frequentItemSets = apriori(transactions, \n",
    "                           parameter = list(supp = minSupport, \n",
    "                                            minlen = 1, \n",
    "                                            target = \"frequent itemsets\"),\n",
    "                           appearance = NULL, control = list(verbose = FALSE))"
   ]
  },
  {
   "cell_type": "code",
   "execution_count": 123,
   "id": "asian-trance",
   "metadata": {},
   "outputs": [],
   "source": [
    "# n_sets(x) returns list of frequent itemsets of size 'x', sorted decreasing by support value.\n",
    "n_sets = function(frequent_itemsets, n) arules::sort(frequent_itemsets[which(size(frequent_itemsets) == n)], decreasing=TRUE)\n"
   ]
  },
  {
   "cell_type": "code",
   "execution_count": 124,
   "id": "biological-airport",
   "metadata": {},
   "outputs": [
    {
     "name": "stdout",
     "output_type": "stream",
     "text": [
      "    items         support   transIdenticalToItemsets count \n",
      "[1] {zap}         0.4328844 0                        432884\n",
      "[2] {fireball}    0.3339913 0                        333991\n",
      "[3] {wizard}      0.2866393 0                        286639\n",
      "[4] {the-log}     0.2803573 0                        280357\n",
      "[5] {hog-rider}   0.2690483 0                        269048\n",
      "[6] {goblin-gang} 0.2599583 0                        259958\n",
      "Here is the list of most popular cards (overall). The most popular card, the {zap} was used in 43.2884432884433% of all decks!\n"
     ]
    }
   ],
   "source": [
    "# Look for single most-popular cards (Overall time).\n",
    "a = n_sets(frequentItemSets, 1)\n",
    "inspect(head(a))\n",
    "l = labels(a[1])\n",
    "s = support(a[1], transactions)\n",
    "p(\"Here is the list of most popular cards (overall). The most popular card, the {l} was used in {100 * s}% of all decks!\")\n"
   ]
  },
  {
   "cell_type": "code",
   "execution_count": 128,
   "id": "blocked-boxing",
   "metadata": {},
   "outputs": [
    {
     "data": {
      "image/png": "[encoded data removed]",
      "text/plain": [
       "plot without title"
      ]
     },
     "metadata": {
      "image/png": {
       "height": 420,
       "width": 420
      }
     },
     "output_type": "display_data"
    }
   ],
   "source": [
    "itemFrequencyPlot(transactions, topN=10, xlab=\"Top 10 cards in terms of popularity.\")"
   ]
  },
  {
   "cell_type": "code",
   "execution_count": 134,
   "id": "intended-sheet",
   "metadata": {},
   "outputs": [],
   "source": [
    "# What about card popularity in time?\n",
    "# Calculate daily frequent itemsets to gain ability of comparing support in time series.\n",
    "\n",
    "df = as.Date(transactionInfo(transactions)$transactionID, format=\"%Y-%m-%dT%H:%M:%S\")\n",
    "split_groups = df - min(df)\n",
    "s = split(transactions, split_groups)\n",
    "\n",
    "x_axis = lapply(s, function(x) transactionInfo(x)[[1]][[1]])\n",
    "x_axis = lapply(x_axis, as.Date, format=\"%Y-%m-%dT%H:%M:%S\")\n",
    "\n",
    "res = data.frame()\n",
    "popular_cards = c()\n",
    "for (v in 1:length(s)) {\n",
    "    f = apriori(s[[v]], \n",
    "                parameter = list(supp = minSupport, \n",
    "                                minlen = 1, \n",
    "                                maxlen = 1,\n",
    "                                target = \"frequent itemsets\"),\n",
    "                appearance = NULL, control = list(verbose = FALSE))\n",
    "    f = DATAFRAME(n_sets(f, 1))\n",
    "    f$chunk = v\n",
    "    f$chunk_start_date = x_axis[[v]]\n",
    "    popular_cards = c(popular_cards, as.character(f$items[1:4]))\n",
    "    res = rbind(res, f)\n",
    "}\n",
    "popular_cards = as(popular_cards, \"matrix\")\n",
    "popular_in_time = dplyr::filter(res, items %in% popular_cards)\n"
   ]
  },
  {
   "cell_type": "code",
   "execution_count": 136,
   "id": "characteristic-ballot",
   "metadata": {},
   "outputs": [
    {
     "name": "stdout",
     "output_type": "stream",
     "text": [
      "Popularity of 5 most frequently used cards in time.\n",
      "[1] \"As we see, the Wizard card's usage trend is growing, while anothers' top cards trends going down.\"\n"
     ]
    },
    {
     "data": {
      "image/png": "[encoded data removed]",
      "text/plain": [
       "plot without title"
      ]
     },
     "metadata": {
      "image/png": {
       "height": 420,
       "width": 420
      }
     },
     "output_type": "display_data"
    }
   ],
   "source": [
    "p(\"Popularity of {length(unique(popular_cards))} most frequently used cards in time.\")\n",
    "gg = ggplot(popular_in_time, aes(x=chunk_start_date, y=support, colour=items))\n",
    "gg = gg + stat_smooth(\n",
    "    aes(x = chunk_start_date, y = support, colour=items), \n",
    "    method = \"lm\", \n",
    "    se=FALSE, \n",
    "    fullrange=TRUE, \n",
    "    formula = y ~ x, # ns(x, 30)\n",
    ") \n",
    "gg = gg + geom_point()\n",
    "gg = gg + xlab(\"Date\") + ylab(\"Card support\")\n",
    "# gg = gg + theme(legend.position = \"none\")\n",
    "plot(gg)\n",
    "print(\"As we see, the Wizard card's usage trend is growing, while anothers' top cards trends going down.\")"
   ]
  },
  {
   "cell_type": "code",
   "execution_count": 137,
   "id": "controlling-phone",
   "metadata": {},
   "outputs": [
    {
     "data": {
      "text/html": [
       "<table class=\"dataframe\">\n",
       "<caption>A data.frame: 6 × 7</caption>\n",
       "<thead>\n",
       "\t<tr><th></th><th scope=col>LHS</th><th scope=col>RHS</th><th scope=col>support</th><th scope=col>confidence</th><th scope=col>coverage</th><th scope=col>lift</th><th scope=col>count</th></tr>\n",
       "\t<tr><th></th><th scope=col>&lt;fct&gt;</th><th scope=col>&lt;fct&gt;</th><th scope=col>&lt;dbl&gt;</th><th scope=col>&lt;dbl&gt;</th><th scope=col>&lt;dbl&gt;</th><th scope=col>&lt;dbl&gt;</th><th scope=col>&lt;int&gt;</th></tr>\n",
       "</thead>\n",
       "<tbody>\n",
       "\t<tr><th scope=row>1</th><td>{cannon}          </td><td>{hog-rider}</td><td>0.01865502</td><td>0.7058000</td><td>0.02643103</td><td>2.623321</td><td>18655</td></tr>\n",
       "\t<tr><th scope=row>2</th><td>{cannon}          </td><td>{fireball} </td><td>0.01844302</td><td>0.6977791</td><td>0.02643103</td><td>2.089213</td><td>18443</td></tr>\n",
       "\t<tr><th scope=row>39</th><td>{cannon,hog-rider}</td><td>{fireball} </td><td>0.01530002</td><td>0.8201555</td><td>0.01865502</td><td>2.455619</td><td>15300</td></tr>\n",
       "\t<tr><th scope=row>40</th><td>{cannon,fireball} </td><td>{hog-rider}</td><td>0.01530002</td><td>0.8295830</td><td>0.01844302</td><td>3.083399</td><td>15300</td></tr>\n",
       "\t<tr><th scope=row>31</th><td>{cannon,musketeer}</td><td>{hog-rider}</td><td>0.01359001</td><td>0.8989284</td><td>0.01511802</td><td>3.341142</td><td>13590</td></tr>\n",
       "\t<tr><th scope=row>32</th><td>{cannon,hog-rider}</td><td>{musketeer}</td><td>0.01359001</td><td>0.7284910</td><td>0.01865502</td><td>7.108193</td><td>13590</td></tr>\n",
       "</tbody>\n",
       "</table>\n"
      ],
      "text/latex": [
       "A data.frame: 6 × 7\n",
       "\\begin{tabular}{r|lllllll}\n",
       "  & LHS & RHS & support & confidence & coverage & lift & count\\\\\n",
       "  & <fct> & <fct> & <dbl> & <dbl> & <dbl> & <dbl> & <int>\\\\\n",
       "\\hline\n",
       "\t1 & \\{cannon\\}           & \\{hog-rider\\} & 0.01865502 & 0.7058000 & 0.02643103 & 2.623321 & 18655\\\\\n",
       "\t2 & \\{cannon\\}           & \\{fireball\\}  & 0.01844302 & 0.6977791 & 0.02643103 & 2.089213 & 18443\\\\\n",
       "\t39 & \\{cannon,hog-rider\\} & \\{fireball\\}  & 0.01530002 & 0.8201555 & 0.01865502 & 2.455619 & 15300\\\\\n",
       "\t40 & \\{cannon,fireball\\}  & \\{hog-rider\\} & 0.01530002 & 0.8295830 & 0.01844302 & 3.083399 & 15300\\\\\n",
       "\t31 & \\{cannon,musketeer\\} & \\{hog-rider\\} & 0.01359001 & 0.8989284 & 0.01511802 & 3.341142 & 13590\\\\\n",
       "\t32 & \\{cannon,hog-rider\\} & \\{musketeer\\} & 0.01359001 & 0.7284910 & 0.01865502 & 7.108193 & 13590\\\\\n",
       "\\end{tabular}\n"
      ],
      "text/markdown": [
       "\n",
       "A data.frame: 6 × 7\n",
       "\n",
       "| <!--/--> | LHS &lt;fct&gt; | RHS &lt;fct&gt; | support &lt;dbl&gt; | confidence &lt;dbl&gt; | coverage &lt;dbl&gt; | lift &lt;dbl&gt; | count &lt;int&gt; |\n",
       "|---|---|---|---|---|---|---|---|\n",
       "| 1 | {cannon}           | {hog-rider} | 0.01865502 | 0.7058000 | 0.02643103 | 2.623321 | 18655 |\n",
       "| 2 | {cannon}           | {fireball}  | 0.01844302 | 0.6977791 | 0.02643103 | 2.089213 | 18443 |\n",
       "| 39 | {cannon,hog-rider} | {fireball}  | 0.01530002 | 0.8201555 | 0.01865502 | 2.455619 | 15300 |\n",
       "| 40 | {cannon,fireball}  | {hog-rider} | 0.01530002 | 0.8295830 | 0.01844302 | 3.083399 | 15300 |\n",
       "| 31 | {cannon,musketeer} | {hog-rider} | 0.01359001 | 0.8989284 | 0.01511802 | 3.341142 | 13590 |\n",
       "| 32 | {cannon,hog-rider} | {musketeer} | 0.01359001 | 0.7284910 | 0.01865502 | 7.108193 | 13590 |\n",
       "\n"
      ],
      "text/plain": [
       "   LHS                RHS         support    confidence coverage   lift    \n",
       "1  {cannon}           {hog-rider} 0.01865502 0.7058000  0.02643103 2.623321\n",
       "2  {cannon}           {fireball}  0.01844302 0.6977791  0.02643103 2.089213\n",
       "39 {cannon,hog-rider} {fireball}  0.01530002 0.8201555  0.01865502 2.455619\n",
       "40 {cannon,fireball}  {hog-rider} 0.01530002 0.8295830  0.01844302 3.083399\n",
       "31 {cannon,musketeer} {hog-rider} 0.01359001 0.8989284  0.01511802 3.341142\n",
       "32 {cannon,hog-rider} {musketeer} 0.01359001 0.7284910  0.01865502 7.108193\n",
       "   count\n",
       "1  18655\n",
       "2  18443\n",
       "39 15300\n",
       "40 15300\n",
       "31 13590\n",
       "32 13590"
      ]
     },
     "metadata": {},
     "output_type": "display_data"
    }
   ],
   "source": [
    "# Association rules might be helpful for recommendation engine.\n",
    "\n",
    "rules = ruleInduction(frequentItemSets, transactions, confidence = 0.6, \n",
    "                           control = list(method = \"apriori\", verbose = FALSE))\n",
    "\n",
    "# inspect(head(rules))\n",
    "\n",
    "lhs_rules = function(lhs) {\n",
    "    res = dplyr::filter(DATAFRAME(rules), grepl(lhs, as.character(LHS)))\n",
    "    res = res[order(res$support, decreasing=TRUE),]\n",
    "    res\n",
    "}\n",
    "cannon_rules = lhs_rules(\"cannon\")\n",
    "head(cannon_rules)\n"
   ]
  },
  {
   "cell_type": "markdown",
   "id": "hearing-spine",
   "metadata": {},
   "source": [
    "We managed to find most popular cards and set of cards, and to investigate it's popularity in time.\n",
    "We have mined some association rules, which is first step to create our recommendation system.\n",
    "However, for now **we haven't took games results (win or lose) into consideration**. Now it's time to take deck winning ratio into account."
   ]
  },
  {
   "cell_type": "code",
   "execution_count": 138,
   "id": "stopped-toronto",
   "metadata": {},
   "outputs": [
    {
     "name": "stderr",
     "output_type": "stream",
     "text": [
      "Warning message in fread(WINNING_DATA_FNAME):\n",
      "“Detected 3 column names but the data has 9 columns (i.e. invalid file). Added 6 extra default column names at the end.”\n"
     ]
    },
    {
     "data": {
      "text/html": [
       "<table class=\"dataframe\">\n",
       "<caption>A data.table: 6 × 9</caption>\n",
       "<thead>\n",
       "\t<tr><th scope=col>timestamp</th><th scope=col>player</th><th scope=col>deck</th><th scope=col>V4</th><th scope=col>V5</th><th scope=col>V6</th><th scope=col>V7</th><th scope=col>V8</th><th scope=col>V9</th></tr>\n",
       "\t<tr><th scope=col>&lt;dttm&gt;</th><th scope=col>&lt;chr&gt;</th><th scope=col>&lt;chr&gt;</th><th scope=col>&lt;chr&gt;</th><th scope=col>&lt;chr&gt;</th><th scope=col>&lt;chr&gt;</th><th scope=col>&lt;chr&gt;</th><th scope=col>&lt;chr&gt;</th><th scope=col>&lt;chr&gt;</th></tr>\n",
       "</thead>\n",
       "<tbody>\n",
       "\t<tr><td>2019-01-29 23:30:09</td><td>baby-dragon</td><td>bandit          </td><td>mini-pekka  </td><td>pekka        </td><td>rage       </td><td>rocket       </td><td>valkyrie     </td><td>wizard </td></tr>\n",
       "\t<tr><td>2019-01-07 02:21:04</td><td>executioner</td><td>fireball        </td><td>hog-rider   </td><td>ice-spirit   </td><td>minions    </td><td>mini-pekka   </td><td>the-log      </td><td>tornado</td></tr>\n",
       "\t<tr><td>2019-01-03 23:59:49</td><td>archers    </td><td>dart-goblin     </td><td>freeze      </td><td>hog-rider    </td><td>mega-knight</td><td>tesla        </td><td>wizard       </td><td>zap    </td></tr>\n",
       "\t<tr><td>2019-01-07 02:18:27</td><td>archers    </td><td>fireball        </td><td>fire-spirits</td><td>goblin-barrel</td><td>hog-rider  </td><td>inferno-tower</td><td>skeleton-army</td><td>zap    </td></tr>\n",
       "\t<tr><td>2019-01-08 00:55:56</td><td>archers    </td><td>elite-barbarians</td><td>heal        </td><td>ice-wizard   </td><td>knight     </td><td>minion-horde </td><td>prince       </td><td>zap    </td></tr>\n",
       "\t<tr><td>2019-01-14 04:42:21</td><td>freeze     </td><td>graveyard       </td><td>guards      </td><td>pekka        </td><td>poison     </td><td>tesla        </td><td>wizard       </td><td>zap    </td></tr>\n",
       "</tbody>\n",
       "</table>\n"
      ],
      "text/latex": [
       "A data.table: 6 × 9\n",
       "\\begin{tabular}{lllllllll}\n",
       " timestamp & player & deck & V4 & V5 & V6 & V7 & V8 & V9\\\\\n",
       " <dttm> & <chr> & <chr> & <chr> & <chr> & <chr> & <chr> & <chr> & <chr>\\\\\n",
       "\\hline\n",
       "\t 2019-01-29 23:30:09 & baby-dragon & bandit           & mini-pekka   & pekka         & rage        & rocket        & valkyrie      & wizard \\\\\n",
       "\t 2019-01-07 02:21:04 & executioner & fireball         & hog-rider    & ice-spirit    & minions     & mini-pekka    & the-log       & tornado\\\\\n",
       "\t 2019-01-03 23:59:49 & archers     & dart-goblin      & freeze       & hog-rider     & mega-knight & tesla         & wizard        & zap    \\\\\n",
       "\t 2019-01-07 02:18:27 & archers     & fireball         & fire-spirits & goblin-barrel & hog-rider   & inferno-tower & skeleton-army & zap    \\\\\n",
       "\t 2019-01-08 00:55:56 & archers     & elite-barbarians & heal         & ice-wizard    & knight      & minion-horde  & prince        & zap    \\\\\n",
       "\t 2019-01-14 04:42:21 & freeze      & graveyard        & guards       & pekka         & poison      & tesla         & wizard        & zap    \\\\\n",
       "\\end{tabular}\n"
      ],
      "text/markdown": [
       "\n",
       "A data.table: 6 × 9\n",
       "\n",
       "| timestamp &lt;dttm&gt; | player &lt;chr&gt; | deck &lt;chr&gt; | V4 &lt;chr&gt; | V5 &lt;chr&gt; | V6 &lt;chr&gt; | V7 &lt;chr&gt; | V8 &lt;chr&gt; | V9 &lt;chr&gt; |\n",
       "|---|---|---|---|---|---|---|---|---|\n",
       "| 2019-01-29 23:30:09 | baby-dragon | bandit           | mini-pekka   | pekka         | rage        | rocket        | valkyrie      | wizard  |\n",
       "| 2019-01-07 02:21:04 | executioner | fireball         | hog-rider    | ice-spirit    | minions     | mini-pekka    | the-log       | tornado |\n",
       "| 2019-01-03 23:59:49 | archers     | dart-goblin      | freeze       | hog-rider     | mega-knight | tesla         | wizard        | zap     |\n",
       "| 2019-01-07 02:18:27 | archers     | fireball         | fire-spirits | goblin-barrel | hog-rider   | inferno-tower | skeleton-army | zap     |\n",
       "| 2019-01-08 00:55:56 | archers     | elite-barbarians | heal         | ice-wizard    | knight      | minion-horde  | prince        | zap     |\n",
       "| 2019-01-14 04:42:21 | freeze      | graveyard        | guards       | pekka         | poison      | tesla         | wizard        | zap     |\n",
       "\n"
      ],
      "text/plain": [
       "  timestamp           player      deck             V4           V5           \n",
       "1 2019-01-29 23:30:09 baby-dragon bandit           mini-pekka   pekka        \n",
       "2 2019-01-07 02:21:04 executioner fireball         hog-rider    ice-spirit   \n",
       "3 2019-01-03 23:59:49 archers     dart-goblin      freeze       hog-rider    \n",
       "4 2019-01-07 02:18:27 archers     fireball         fire-spirits goblin-barrel\n",
       "5 2019-01-08 00:55:56 archers     elite-barbarians heal         ice-wizard   \n",
       "6 2019-01-14 04:42:21 freeze      graveyard        guards       pekka        \n",
       "  V6          V7            V8            V9     \n",
       "1 rage        rocket        valkyrie      wizard \n",
       "2 minions     mini-pekka    the-log       tornado\n",
       "3 mega-knight tesla         wizard        zap    \n",
       "4 hog-rider   inferno-tower skeleton-army zap    \n",
       "5 knight      minion-horde  prince        zap    \n",
       "6 poison      tesla         wizard        zap    "
      ]
     },
     "metadata": {},
     "output_type": "display_data"
    }
   ],
   "source": [
    "# shuffled data, only has_win=1 taken.\n",
    "winning = fread(WINNING_DATA_FNAME)\n",
    "\n",
    "head(winning)"
   ]
  },
  {
   "cell_type": "code",
   "execution_count": 140,
   "id": "documentary-elements",
   "metadata": {},
   "outputs": [],
   "source": [
    "# Generate frequent itemsets (this time only for winning decks). \n",
    "minSupport = 0.01\n",
    "\n",
    "winningTransactions = arules::read.transactions(WINNING_DATA_FNAME, format=\"basket\", head=1, sep=',', cols=1)\n",
    "\n",
    "frequentWinningItemSets = apriori(winningTransactions, \n",
    "                           parameter = list(supp = minSupport, \n",
    "                                            minlen = 1, \n",
    "                                            target = \"frequent itemsets\"),\n",
    "                           appearance = NULL, control = list(verbose = FALSE))\n"
   ]
  },
  {
   "cell_type": "code",
   "execution_count": 141,
   "id": "hungry-gamma",
   "metadata": {},
   "outputs": [
    {
     "name": "stdout",
     "output_type": "stream",
     "text": [
      "[1] \"=================== AVERAGE VS WINNING =====================================================\"\n",
      "[1] \"============================================================================================\"\n",
      "    items         support   transIdenticalToItemsets count \n",
      "[1] {zap}         0.4328844 0                        432884\n",
      "[2] {fireball}    0.3339913 0                        333991\n",
      "[3] {wizard}      0.2866393 0                        286639\n",
      "[4] {the-log}     0.2803573 0                        280357\n",
      "[5] {hog-rider}   0.2690483 0                        269048\n",
      "[6] {goblin-gang} 0.2599583 0                        259958\n",
      "    items         support   transIdenticalToItemsets count \n",
      "[1] {zap}         0.4393064 0                        439306\n",
      "[2] {fireball}    0.3374183 0                        337418\n",
      "[3] {the-log}     0.2830283 0                        283028\n",
      "[4] {wizard}      0.2802543 0                        280254\n",
      "[5] {hog-rider}   0.2723163 0                        272316\n",
      "[6] {goblin-gang} 0.2656263 0                        265626\n",
      "[1] \"=================== AVERAGE VS WINNING =====================================================\"\n",
      "[1] \"============================================================================================\"\n",
      "    items                support   transIdenticalToItemsets count \n",
      "[1] {fireball,zap}       0.1501052 0                        150105\n",
      "[2] {hog-rider,zap}      0.1268771 0                        126877\n",
      "[3] {goblin-gang,zap}    0.1187461 0                        118746\n",
      "[4] {fireball,hog-rider} 0.1152851 0                        115285\n",
      "[5] {wizard,zap}         0.1051751 0                        105175\n",
      "[6] {fireball,the-log}   0.1025901 0                        102590\n",
      "    items                support   transIdenticalToItemsets count \n",
      "[1] {fireball,zap}       0.1540082 0                        154008\n",
      "[2] {hog-rider,zap}      0.1300251 0                        130025\n",
      "[3] {goblin-gang,zap}    0.1225211 0                        122521\n",
      "[4] {fireball,hog-rider} 0.1171351 0                        117135\n",
      "[5] {wizard,zap}         0.1054831 0                        105483\n",
      "[6] {fireball,the-log}   0.1046291 0                        104629\n",
      "[1] \"=================== AVERAGE VS WINNING =====================================================\"\n",
      "[1] \"============================================================================================\"\n",
      "    items                                support    transIdenticalToItemsets\n",
      "[1] {fireball,hog-rider,zap}             0.05353905 0                       \n",
      "[2] {fireball,hog-rider,the-log}         0.04228104 0                       \n",
      "[3] {bats,goblin-gang,zap}               0.03988304 0                       \n",
      "[4] {fireball,minions,zap}               0.03893604 0                       \n",
      "[5] {fireball,goblin-gang,zap}           0.03710804 0                       \n",
      "[6] {goblin-barrel,goblin-gang,princess} 0.03463003 0                       \n",
      "    count\n",
      "[1] 53539\n",
      "[2] 42281\n",
      "[3] 39883\n",
      "[4] 38936\n",
      "[5] 37108\n",
      "[6] 34630\n",
      "    items                        support    transIdenticalToItemsets count\n",
      "[1] {fireball,hog-rider,zap}     0.05502406 0                        55024\n",
      "[2] {fireball,hog-rider,the-log} 0.04326704 0                        43267\n",
      "[3] {bats,goblin-gang,zap}       0.04076804 0                        40768\n",
      "[4] {fireball,minions,zap}       0.04061004 0                        40610\n",
      "[5] {fireball,goblin-gang,zap}   0.03770904 0                        37709\n",
      "[6] {goblin-gang,hog-rider,zap}  0.03587904 0                        35879\n",
      "[1] \"=================== AVERAGE VS WINNING =====================================================\"\n",
      "[1] \"============================================================================================\"\n",
      "    items                                              support   \n",
      "[1] {goblin-barrel,goblin-gang,princess,the-log}       0.02612903\n",
      "[2] {goblin-barrel,goblin-gang,princess,rocket}        0.02216702\n",
      "[3] {goblin-barrel,goblin-gang,rocket,the-log}         0.02103402\n",
      "[4] {goblin-barrel,princess,rocket,the-log}            0.02038102\n",
      "[5] {goblin-gang,princess,rocket,the-log}              0.02004202\n",
      "[6] {goblin-barrel,goblin-gang,inferno-tower,princess} 0.01902902\n",
      "    transIdenticalToItemsets count\n",
      "[1] 0                        26129\n",
      "[2] 0                        22167\n",
      "[3] 0                        21034\n",
      "[4] 0                        20381\n",
      "[5] 0                        20042\n",
      "[6] 0                        19029\n",
      "    items                                              support   \n",
      "[1] {goblin-barrel,goblin-gang,princess,the-log}       0.02707603\n",
      "[2] {goblin-barrel,goblin-gang,princess,rocket}        0.02288702\n",
      "[3] {goblin-barrel,goblin-gang,rocket,the-log}         0.02174002\n",
      "[4] {goblin-barrel,princess,rocket,the-log}            0.02103702\n",
      "[5] {goblin-gang,princess,rocket,the-log}              0.02065802\n",
      "[6] {goblin-barrel,goblin-gang,inferno-tower,princess} 0.01966802\n",
      "    transIdenticalToItemsets count\n",
      "[1] 0                        27076\n",
      "[2] 0                        22887\n",
      "[3] 0                        21740\n",
      "[4] 0                        21037\n",
      "[5] 0                        20658\n",
      "[6] 0                        19668\n"
     ]
    }
   ],
   "source": [
    "# Now, let's investigate support of both average and winning sets.\n",
    "size = c(1,2,3,4)\n",
    "SUPP = lapply(size, function(x) head(n_sets(frequentItemSets, x)))\n",
    "WINNING_SUPP = lapply(size, function(x) head(n_sets(frequentWinningItemSets, x)))\n",
    "                      \n",
    "for (i in 1:length(size)) {\n",
    "    print(\"=================== AVERAGE VS WINNING =====================================================\")\n",
    "    print(\"============================================================================================\")\n",
    "    inspect(SUPP[[i]])\n",
    "    inspect(WINNING_SUPP[[i]])\n",
    "}\n"
   ]
  },
  {
   "cell_type": "markdown",
   "id": "velvet-voluntary",
   "metadata": {},
   "source": [
    "Very interesting observation we have done - **frequent sets of winning games contain almost the same cards as frequent sets of all games (of which 50% is lost)**. Main visible difference is, that winning sets' support of most popular cards is higher, and increases with size of set (roghly about 5% higher than for average decks for 4-sets). "
   ]
  },
  {
   "cell_type": "markdown",
   "id": "accompanied-translation",
   "metadata": {},
   "source": [
    "### Recommendation engine\n",
    "\n",
    "To build recommendation engine, we will use SVD decomposition, calculate concepts and suggest cards that were frequently used by another players with deck, that contained chosen profile (as profile we consider set of 4 chosen cards). To increase probability of recommending good cards, we will create our SVD decomposition based on **only winning decks**."
   ]
  },
  {
   "cell_type": "markdown",
   "id": "existing-delay",
   "metadata": {},
   "source": [
    "('highly' inspired by \"DM_lab4_recommender_systems.Rmd\")"
   ]
  },
  {
   "cell_type": "code",
   "execution_count": 142,
   "id": "leading-grounds",
   "metadata": {},
   "outputs": [
    {
     "data": {
      "text/html": [
       "<style>\n",
       ".list-inline {list-style: none; margin:0; padding: 0}\n",
       ".list-inline>li {display: inline-block}\n",
       ".list-inline>li:not(:last-child)::after {content: \"\\00b7\"; padding: 0 .5ex}\n",
       "</style>\n",
       "<ol class=list-inline><li>999999</li><li>90</li></ol>\n"
      ],
      "text/latex": [
       "\\begin{enumerate*}\n",
       "\\item 999999\n",
       "\\item 90\n",
       "\\end{enumerate*}\n"
      ],
      "text/markdown": [
       "1. 999999\n",
       "2. 90\n",
       "\n",
       "\n"
      ],
      "text/plain": [
       "[1] 999999     90"
      ]
     },
     "metadata": {},
     "output_type": "display_data"
    }
   ],
   "source": [
    "winning_matrix = as(items(winningTransactions), \"matrix\")\n",
    "dim(winning_matrix) # TRUE/FALSE matrix."
   ]
  },
  {
   "cell_type": "code",
   "execution_count": 143,
   "id": "north-christianity",
   "metadata": {},
   "outputs": [],
   "source": [
    "ratingsDataSVD = svd(winning_matrix)"
   ]
  },
  {
   "cell_type": "code",
   "execution_count": 147,
   "id": "beginning-sauce",
   "metadata": {},
   "outputs": [
    {
     "name": "stdout",
     "output_type": "stream",
     "text": [
      "dim U: c(999999L, 50L)\n",
      "dim V: c(90L, 50L)\n"
     ]
    }
   ],
   "source": [
    "NUM_CONCEPTS = 50\n",
    "names(ratingsDataSVD$d) = paste(\"concept\", 1:NUM_CONCEPTS, sep = \"\")\n",
    "# we will use only NUM_CONCEPTS best concepts.\n",
    "# round(ratingsDataSVD$d, 3)\n",
    "\n",
    "rownames(ratingsDataSVD$v) = colnames(winning_matrix)\n",
    "colnames(ratingsDataSVD$v) = paste(\"concept\", 1:90, sep = \"\")\n",
    "# movies with a high absolute value in a column have a strong association with the corresponding concept \n",
    "# round(ratingsDataSVD$v, 3)\n",
    "\n",
    "rownames(ratingsDataSVD$u) = rownames(winning_matrix)\n",
    "colnames(ratingsDataSVD$u) = paste(\"concept\", 1:90, sep = \"\")\n",
    "# # analogically, persons with a high absolute value in a column have a stron association with the corresponding concept\n",
    "\n",
    "\n",
    "D = diag(ratingsDataSVD$d[1:NUM_CONCEPTS])\n",
    "V = ratingsDataSVD$v[,1:NUM_CONCEPTS]\n",
    "U = ratingsDataSVD$u[,1:NUM_CONCEPTS]\n",
    "\n",
    "p(\"dim U: { deparse(dim(U)) }\")\n",
    "p(\"dim V: { deparse(dim(V)) }\")"
   ]
  },
  {
   "cell_type": "code",
   "execution_count": 148,
   "id": "boring-prompt",
   "metadata": {},
   "outputs": [
    {
     "data": {
      "text/html": [
       "<table class=\"dataframe\">\n",
       "<caption>A matrix: 6 × 90 of type dbl</caption>\n",
       "<thead>\n",
       "\t<tr><th scope=col>archers</th><th scope=col>arrows</th><th scope=col>baby-dragon</th><th scope=col>balloon</th><th scope=col>bandit</th><th scope=col>barbarian-barrel</th><th scope=col>barbarian-hut</th><th scope=col>barbarians</th><th scope=col>bats</th><th scope=col>battle-ram</th><th scope=col>⋯</th><th scope=col>the-log</th><th scope=col>three-musketeers</th><th scope=col>tombstone</th><th scope=col>tornado</th><th scope=col>valkyrie</th><th scope=col>witch</th><th scope=col>wizard</th><th scope=col>x-bow</th><th scope=col>zap</th><th scope=col>zappies</th></tr>\n",
       "</thead>\n",
       "<tbody>\n",
       "\t<tr><td>0</td><td>0</td><td>1</td><td>0</td><td>1</td><td>0</td><td>0</td><td>0</td><td>0</td><td>0</td><td>⋯</td><td>0</td><td>0</td><td>0</td><td>0</td><td>1</td><td>0</td><td>1</td><td>0</td><td>0</td><td>0</td></tr>\n",
       "\t<tr><td>0</td><td>0</td><td>0</td><td>0</td><td>0</td><td>0</td><td>0</td><td>0</td><td>0</td><td>0</td><td>⋯</td><td>1</td><td>0</td><td>0</td><td>1</td><td>0</td><td>0</td><td>0</td><td>0</td><td>0</td><td>0</td></tr>\n",
       "\t<tr><td>1</td><td>0</td><td>0</td><td>0</td><td>0</td><td>0</td><td>0</td><td>0</td><td>0</td><td>0</td><td>⋯</td><td>0</td><td>0</td><td>0</td><td>0</td><td>0</td><td>0</td><td>1</td><td>0</td><td>1</td><td>0</td></tr>\n",
       "\t<tr><td>1</td><td>0</td><td>0</td><td>0</td><td>0</td><td>0</td><td>0</td><td>0</td><td>0</td><td>0</td><td>⋯</td><td>0</td><td>0</td><td>0</td><td>0</td><td>0</td><td>0</td><td>0</td><td>0</td><td>1</td><td>0</td></tr>\n",
       "\t<tr><td>1</td><td>0</td><td>0</td><td>0</td><td>0</td><td>0</td><td>0</td><td>0</td><td>0</td><td>0</td><td>⋯</td><td>0</td><td>0</td><td>0</td><td>0</td><td>0</td><td>0</td><td>0</td><td>0</td><td>1</td><td>0</td></tr>\n",
       "\t<tr><td>0</td><td>0</td><td>0</td><td>0</td><td>0</td><td>0</td><td>0</td><td>0</td><td>0</td><td>0</td><td>⋯</td><td>0</td><td>0</td><td>0</td><td>0</td><td>0</td><td>0</td><td>1</td><td>0</td><td>1</td><td>0</td></tr>\n",
       "</tbody>\n",
       "</table>\n"
      ],
      "text/latex": [
       "A matrix: 6 × 90 of type dbl\n",
       "\\begin{tabular}{lllllllllllllllllllll}\n",
       " archers & arrows & baby-dragon & balloon & bandit & barbarian-barrel & barbarian-hut & barbarians & bats & battle-ram & ⋯ & the-log & three-musketeers & tombstone & tornado & valkyrie & witch & wizard & x-bow & zap & zappies\\\\\n",
       "\\hline\n",
       "\t 0 & 0 & 1 & 0 & 1 & 0 & 0 & 0 & 0 & 0 & ⋯ & 0 & 0 & 0 & 0 & 1 & 0 & 1 & 0 & 0 & 0\\\\\n",
       "\t 0 & 0 & 0 & 0 & 0 & 0 & 0 & 0 & 0 & 0 & ⋯ & 1 & 0 & 0 & 1 & 0 & 0 & 0 & 0 & 0 & 0\\\\\n",
       "\t 1 & 0 & 0 & 0 & 0 & 0 & 0 & 0 & 0 & 0 & ⋯ & 0 & 0 & 0 & 0 & 0 & 0 & 1 & 0 & 1 & 0\\\\\n",
       "\t 1 & 0 & 0 & 0 & 0 & 0 & 0 & 0 & 0 & 0 & ⋯ & 0 & 0 & 0 & 0 & 0 & 0 & 0 & 0 & 1 & 0\\\\\n",
       "\t 1 & 0 & 0 & 0 & 0 & 0 & 0 & 0 & 0 & 0 & ⋯ & 0 & 0 & 0 & 0 & 0 & 0 & 0 & 0 & 1 & 0\\\\\n",
       "\t 0 & 0 & 0 & 0 & 0 & 0 & 0 & 0 & 0 & 0 & ⋯ & 0 & 0 & 0 & 0 & 0 & 0 & 1 & 0 & 1 & 0\\\\\n",
       "\\end{tabular}\n"
      ],
      "text/markdown": [
       "\n",
       "A matrix: 6 × 90 of type dbl\n",
       "\n",
       "| archers | arrows | baby-dragon | balloon | bandit | barbarian-barrel | barbarian-hut | barbarians | bats | battle-ram | ⋯ | the-log | three-musketeers | tombstone | tornado | valkyrie | witch | wizard | x-bow | zap | zappies |\n",
       "|---|---|---|---|---|---|---|---|---|---|---|---|---|---|---|---|---|---|---|---|---|\n",
       "| 0 | 0 | 1 | 0 | 1 | 0 | 0 | 0 | 0 | 0 | ⋯ | 0 | 0 | 0 | 0 | 1 | 0 | 1 | 0 | 0 | 0 |\n",
       "| 0 | 0 | 0 | 0 | 0 | 0 | 0 | 0 | 0 | 0 | ⋯ | 1 | 0 | 0 | 1 | 0 | 0 | 0 | 0 | 0 | 0 |\n",
       "| 1 | 0 | 0 | 0 | 0 | 0 | 0 | 0 | 0 | 0 | ⋯ | 0 | 0 | 0 | 0 | 0 | 0 | 1 | 0 | 1 | 0 |\n",
       "| 1 | 0 | 0 | 0 | 0 | 0 | 0 | 0 | 0 | 0 | ⋯ | 0 | 0 | 0 | 0 | 0 | 0 | 0 | 0 | 1 | 0 |\n",
       "| 1 | 0 | 0 | 0 | 0 | 0 | 0 | 0 | 0 | 0 | ⋯ | 0 | 0 | 0 | 0 | 0 | 0 | 0 | 0 | 1 | 0 |\n",
       "| 0 | 0 | 0 | 0 | 0 | 0 | 0 | 0 | 0 | 0 | ⋯ | 0 | 0 | 0 | 0 | 0 | 0 | 1 | 0 | 1 | 0 |\n",
       "\n"
      ],
      "text/plain": [
       "     archers arrows baby-dragon balloon bandit barbarian-barrel barbarian-hut\n",
       "[1,] 0       0      1           0       1      0                0            \n",
       "[2,] 0       0      0           0       0      0                0            \n",
       "[3,] 1       0      0           0       0      0                0            \n",
       "[4,] 1       0      0           0       0      0                0            \n",
       "[5,] 1       0      0           0       0      0                0            \n",
       "[6,] 0       0      0           0       0      0                0            \n",
       "     barbarians bats battle-ram ⋯ the-log three-musketeers tombstone tornado\n",
       "[1,] 0          0    0          ⋯ 0       0                0         0      \n",
       "[2,] 0          0    0          ⋯ 1       0                0         1      \n",
       "[3,] 0          0    0          ⋯ 0       0                0         0      \n",
       "[4,] 0          0    0          ⋯ 0       0                0         0      \n",
       "[5,] 0          0    0          ⋯ 0       0                0         0      \n",
       "[6,] 0          0    0          ⋯ 0       0                0         0      \n",
       "     valkyrie witch wizard x-bow zap zappies\n",
       "[1,] 1        0     1      0     0   0      \n",
       "[2,] 0        0     0      0     0   0      \n",
       "[3,] 0        0     1      0     1   0      \n",
       "[4,] 0        0     0      0     1   0      \n",
       "[5,] 0        0     0      0     1   0      \n",
       "[6,] 0        0     1      0     1   0      "
      ]
     },
     "metadata": {},
     "output_type": "display_data"
    }
   ],
   "source": [
    "head(round(U %*% D %*% t(V)))"
   ]
  },
  {
   "cell_type": "code",
   "execution_count": 149,
   "id": "statistical-uncle",
   "metadata": {},
   "outputs": [
    {
     "data": {
      "text/html": [
       "<table class=\"dataframe\">\n",
       "<caption>A matrix: 6 × 90 of type lgl</caption>\n",
       "<thead>\n",
       "\t<tr><th scope=col>archers</th><th scope=col>arrows</th><th scope=col>baby-dragon</th><th scope=col>balloon</th><th scope=col>bandit</th><th scope=col>barbarian-barrel</th><th scope=col>barbarian-hut</th><th scope=col>barbarians</th><th scope=col>bats</th><th scope=col>battle-ram</th><th scope=col>⋯</th><th scope=col>the-log</th><th scope=col>three-musketeers</th><th scope=col>tombstone</th><th scope=col>tornado</th><th scope=col>valkyrie</th><th scope=col>witch</th><th scope=col>wizard</th><th scope=col>x-bow</th><th scope=col>zap</th><th scope=col>zappies</th></tr>\n",
       "</thead>\n",
       "<tbody>\n",
       "\t<tr><td>FALSE</td><td>FALSE</td><td> TRUE</td><td>FALSE</td><td> TRUE</td><td>FALSE</td><td>FALSE</td><td>FALSE</td><td>FALSE</td><td>FALSE</td><td>⋯</td><td>FALSE</td><td>FALSE</td><td>FALSE</td><td>FALSE</td><td> TRUE</td><td>FALSE</td><td> TRUE</td><td>FALSE</td><td>FALSE</td><td>FALSE</td></tr>\n",
       "\t<tr><td>FALSE</td><td>FALSE</td><td>FALSE</td><td>FALSE</td><td>FALSE</td><td>FALSE</td><td>FALSE</td><td>FALSE</td><td>FALSE</td><td>FALSE</td><td>⋯</td><td> TRUE</td><td>FALSE</td><td>FALSE</td><td> TRUE</td><td>FALSE</td><td>FALSE</td><td>FALSE</td><td>FALSE</td><td>FALSE</td><td>FALSE</td></tr>\n",
       "\t<tr><td> TRUE</td><td>FALSE</td><td>FALSE</td><td>FALSE</td><td>FALSE</td><td>FALSE</td><td>FALSE</td><td>FALSE</td><td>FALSE</td><td>FALSE</td><td>⋯</td><td>FALSE</td><td>FALSE</td><td>FALSE</td><td>FALSE</td><td>FALSE</td><td>FALSE</td><td> TRUE</td><td>FALSE</td><td> TRUE</td><td>FALSE</td></tr>\n",
       "\t<tr><td> TRUE</td><td>FALSE</td><td>FALSE</td><td>FALSE</td><td>FALSE</td><td>FALSE</td><td>FALSE</td><td>FALSE</td><td>FALSE</td><td>FALSE</td><td>⋯</td><td>FALSE</td><td>FALSE</td><td>FALSE</td><td>FALSE</td><td>FALSE</td><td>FALSE</td><td>FALSE</td><td>FALSE</td><td> TRUE</td><td>FALSE</td></tr>\n",
       "\t<tr><td> TRUE</td><td>FALSE</td><td>FALSE</td><td>FALSE</td><td>FALSE</td><td>FALSE</td><td>FALSE</td><td>FALSE</td><td>FALSE</td><td>FALSE</td><td>⋯</td><td>FALSE</td><td>FALSE</td><td>FALSE</td><td>FALSE</td><td>FALSE</td><td>FALSE</td><td>FALSE</td><td>FALSE</td><td> TRUE</td><td>FALSE</td></tr>\n",
       "\t<tr><td>FALSE</td><td>FALSE</td><td>FALSE</td><td>FALSE</td><td>FALSE</td><td>FALSE</td><td>FALSE</td><td>FALSE</td><td>FALSE</td><td>FALSE</td><td>⋯</td><td>FALSE</td><td>FALSE</td><td>FALSE</td><td>FALSE</td><td>FALSE</td><td>FALSE</td><td> TRUE</td><td>FALSE</td><td> TRUE</td><td>FALSE</td></tr>\n",
       "</tbody>\n",
       "</table>\n"
      ],
      "text/latex": [
       "A matrix: 6 × 90 of type lgl\n",
       "\\begin{tabular}{lllllllllllllllllllll}\n",
       " archers & arrows & baby-dragon & balloon & bandit & barbarian-barrel & barbarian-hut & barbarians & bats & battle-ram & ⋯ & the-log & three-musketeers & tombstone & tornado & valkyrie & witch & wizard & x-bow & zap & zappies\\\\\n",
       "\\hline\n",
       "\t FALSE & FALSE &  TRUE & FALSE &  TRUE & FALSE & FALSE & FALSE & FALSE & FALSE & ⋯ & FALSE & FALSE & FALSE & FALSE &  TRUE & FALSE &  TRUE & FALSE & FALSE & FALSE\\\\\n",
       "\t FALSE & FALSE & FALSE & FALSE & FALSE & FALSE & FALSE & FALSE & FALSE & FALSE & ⋯ &  TRUE & FALSE & FALSE &  TRUE & FALSE & FALSE & FALSE & FALSE & FALSE & FALSE\\\\\n",
       "\t  TRUE & FALSE & FALSE & FALSE & FALSE & FALSE & FALSE & FALSE & FALSE & FALSE & ⋯ & FALSE & FALSE & FALSE & FALSE & FALSE & FALSE &  TRUE & FALSE &  TRUE & FALSE\\\\\n",
       "\t  TRUE & FALSE & FALSE & FALSE & FALSE & FALSE & FALSE & FALSE & FALSE & FALSE & ⋯ & FALSE & FALSE & FALSE & FALSE & FALSE & FALSE & FALSE & FALSE &  TRUE & FALSE\\\\\n",
       "\t  TRUE & FALSE & FALSE & FALSE & FALSE & FALSE & FALSE & FALSE & FALSE & FALSE & ⋯ & FALSE & FALSE & FALSE & FALSE & FALSE & FALSE & FALSE & FALSE &  TRUE & FALSE\\\\\n",
       "\t FALSE & FALSE & FALSE & FALSE & FALSE & FALSE & FALSE & FALSE & FALSE & FALSE & ⋯ & FALSE & FALSE & FALSE & FALSE & FALSE & FALSE &  TRUE & FALSE &  TRUE & FALSE\\\\\n",
       "\\end{tabular}\n"
      ],
      "text/markdown": [
       "\n",
       "A matrix: 6 × 90 of type lgl\n",
       "\n",
       "| archers | arrows | baby-dragon | balloon | bandit | barbarian-barrel | barbarian-hut | barbarians | bats | battle-ram | ⋯ | the-log | three-musketeers | tombstone | tornado | valkyrie | witch | wizard | x-bow | zap | zappies |\n",
       "|---|---|---|---|---|---|---|---|---|---|---|---|---|---|---|---|---|---|---|---|---|\n",
       "| FALSE | FALSE |  TRUE | FALSE |  TRUE | FALSE | FALSE | FALSE | FALSE | FALSE | ⋯ | FALSE | FALSE | FALSE | FALSE |  TRUE | FALSE |  TRUE | FALSE | FALSE | FALSE |\n",
       "| FALSE | FALSE | FALSE | FALSE | FALSE | FALSE | FALSE | FALSE | FALSE | FALSE | ⋯ |  TRUE | FALSE | FALSE |  TRUE | FALSE | FALSE | FALSE | FALSE | FALSE | FALSE |\n",
       "|  TRUE | FALSE | FALSE | FALSE | FALSE | FALSE | FALSE | FALSE | FALSE | FALSE | ⋯ | FALSE | FALSE | FALSE | FALSE | FALSE | FALSE |  TRUE | FALSE |  TRUE | FALSE |\n",
       "|  TRUE | FALSE | FALSE | FALSE | FALSE | FALSE | FALSE | FALSE | FALSE | FALSE | ⋯ | FALSE | FALSE | FALSE | FALSE | FALSE | FALSE | FALSE | FALSE |  TRUE | FALSE |\n",
       "|  TRUE | FALSE | FALSE | FALSE | FALSE | FALSE | FALSE | FALSE | FALSE | FALSE | ⋯ | FALSE | FALSE | FALSE | FALSE | FALSE | FALSE | FALSE | FALSE |  TRUE | FALSE |\n",
       "| FALSE | FALSE | FALSE | FALSE | FALSE | FALSE | FALSE | FALSE | FALSE | FALSE | ⋯ | FALSE | FALSE | FALSE | FALSE | FALSE | FALSE |  TRUE | FALSE |  TRUE | FALSE |\n",
       "\n"
      ],
      "text/plain": [
       "     archers arrows baby-dragon balloon bandit barbarian-barrel barbarian-hut\n",
       "[1,] FALSE   FALSE   TRUE       FALSE    TRUE  FALSE            FALSE        \n",
       "[2,] FALSE   FALSE  FALSE       FALSE   FALSE  FALSE            FALSE        \n",
       "[3,]  TRUE   FALSE  FALSE       FALSE   FALSE  FALSE            FALSE        \n",
       "[4,]  TRUE   FALSE  FALSE       FALSE   FALSE  FALSE            FALSE        \n",
       "[5,]  TRUE   FALSE  FALSE       FALSE   FALSE  FALSE            FALSE        \n",
       "[6,] FALSE   FALSE  FALSE       FALSE   FALSE  FALSE            FALSE        \n",
       "     barbarians bats  battle-ram ⋯ the-log three-musketeers tombstone tornado\n",
       "[1,] FALSE      FALSE FALSE      ⋯ FALSE   FALSE            FALSE     FALSE  \n",
       "[2,] FALSE      FALSE FALSE      ⋯  TRUE   FALSE            FALSE      TRUE  \n",
       "[3,] FALSE      FALSE FALSE      ⋯ FALSE   FALSE            FALSE     FALSE  \n",
       "[4,] FALSE      FALSE FALSE      ⋯ FALSE   FALSE            FALSE     FALSE  \n",
       "[5,] FALSE      FALSE FALSE      ⋯ FALSE   FALSE            FALSE     FALSE  \n",
       "[6,] FALSE      FALSE FALSE      ⋯ FALSE   FALSE            FALSE     FALSE  \n",
       "     valkyrie witch wizard x-bow zap   zappies\n",
       "[1,]  TRUE    FALSE  TRUE  FALSE FALSE FALSE  \n",
       "[2,] FALSE    FALSE FALSE  FALSE FALSE FALSE  \n",
       "[3,] FALSE    FALSE  TRUE  FALSE  TRUE FALSE  \n",
       "[4,] FALSE    FALSE FALSE  FALSE  TRUE FALSE  \n",
       "[5,] FALSE    FALSE FALSE  FALSE  TRUE FALSE  \n",
       "[6,] FALSE    FALSE  TRUE  FALSE  TRUE FALSE  "
      ]
     },
     "metadata": {},
     "output_type": "display_data"
    }
   ],
   "source": [
    "head(winning_matrix)"
   ]
  },
  {
   "cell_type": "markdown",
   "id": "dynamic-argentina",
   "metadata": {},
   "source": [
    "Correctness quick check - We see match of compressed data (SVD format) with original data. "
   ]
  },
  {
   "cell_type": "code",
   "execution_count": 154,
   "id": "blank-finger",
   "metadata": {},
   "outputs": [
    {
     "name": "stdout",
     "output_type": "stream",
     "text": [
      "We will recommend player following 4 cards:\n",
      " lava-hound tombstone barbarians guards \n",
      "to 4 that he chose ( balloon barbarian-hut goblin-giant skeleton-barrel )."
     ]
    }
   ],
   "source": [
    "profile = rep(0, 90)\n",
    "profile[sample(1:90, 4, replace=FALSE)] = 1 # pick 4 random cards\n",
    "\n",
    "conceptRepresentation = profile %*% V\n",
    "# round(conceptRepresentation, 3)\n",
    "\n",
    "preferencePrediction = conceptRepresentation %*% t(V)\n",
    "colnames(preferencePrediction) = colnames(winning_matrix)\n",
    "# round(preferencePrediction, 3)\n",
    "\n",
    "# we may want to scale our prediction, so that they fit to known ratings:\n",
    "a = round(mean((profile/preferencePrediction)[profile > 0]) * preferencePrediction)\n",
    "\n",
    "cat(\"We will recommend player following 4 cards:\\n\", \n",
    "    names(sort(preferencePrediction[, profile == 0], decreasing = TRUE)[1:4]), \n",
    "    \"\\nto 4 that he chose (\", colnames(winning_matrix[, profile==1]), \").\")\n",
    "\n"
   ]
  },
  {
   "cell_type": "markdown",
   "id": "living-constraint",
   "metadata": {},
   "source": [
    "### Engine evaluation\n",
    "\n",
    "One way of evaluating engine effectiveness would be to find all games (decks) containing same 8 cards as chosen (4 by user and 4 proposed) and calculate probability of winning game with that set. However, we got roughly 54M of records (~$10^7$), while $\\binom{90}{8}$ ~= $10^{10}$ (We got 90 different cards in our dataset). There are too many deck combinations for this method to be usable, so we need to find different one.\n",
    "\n",
    "Instead we could mine association rules for winning decks, and search for rules with LHS same as user profile. Score of our SVD prediction would be size of intersection of prediction set with sum of all rules' RHS sets (it's not perfect solution - it makes score of our prediction dependent of another engine prediction)."
   ]
  }
 ],
 "metadata": {
  "kernelspec": {
   "display_name": "R",
   "language": "R",
   "name": "ir"
  },
  "language_info": {
   "codemirror_mode": "r",
   "file_extension": ".r",
   "mimetype": "text/x-r-source",
   "name": "R",
   "pygments_lexer": "r",
   "version": "4.0.4"
  }
 },
 "nbformat": 4,
 "nbformat_minor": 5
}
