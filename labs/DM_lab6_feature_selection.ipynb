{
    "cells": [
        {
            "cell_type": "markdown",
            "metadata": {},
            "source": [
                "### The plan:\n",
                "\n",
                "0. An example.\n",
                "1. Filtering approach to feature selection (FS).\n",
                "2. Evaluation of FS methods. \n"
            ]
        },
        {
            "cell_type": "code",
            "execution_count": null,
            "metadata": {},
            "outputs": [],
            "source": [
                "options(width = 120)\n",
                "library(data.table)\n",
                "library(ggplot2)\n",
                "library(caret)\n",
                "library(caTools)\n",
                "library(proxy)\n",
                "library(kknn)\n",
                "library(mlbench)\n",
                "\n",
                "F1score = function(x, y) {\n",
                "  common = intersect(x, y)\n",
                "  precision = length(common)/length(x)\n",
                "  recall = length(common)/length(y)\n",
                "  (2*precision*recall)/(precision + recall)\n",
                "}\n"
            ]
        },
        {
            "cell_type": "markdown",
            "metadata": {},
            "source": [
                "### Example\n",
                "\n",
                "In our experiments, we will use a data set called _DNA_ from the _mlbench_ library. It consists of $3186$ data points (splice junctions). The data points are described by $180$ indicator binary variables and the problem is to recognize the $3$ classes (_ei_, _ie_, _neither_), i.e., the boundaries between exons (the parts of the DNA sequence retained after splicing) and introns (the parts of the DNA sequence that are spliced out).   \n",
                "\n",
                "From the description of data, we know that the most informative features for this set are those in columns _F61_ to _F120_. You can read more about this set by typing _?DNA_ in R console.\n"
            ]
        },
        {
            "cell_type": "code",
            "execution_count": null,
            "metadata": {},
            "outputs": [],
            "source": [
                "data(DNA)\n",
                "relevantFeatures = paste0(\"F\", 61:120)\n",
                "\n",
                "# data size:\n",
                "dim(DNA)\n",
                "\n",
                "# let's do some data preprocessing\n",
                "dataSet = data.table(DNA)\n",
                "setnames(dataSet, c(paste0(\"F\", 1:180), \"Class\"))\n",
                "DT = copy(dataSet)  # I'm creating a copy for convenience - this is a very small set\n",
                "DT$Class = NULL\n",
                "# I'm converting all columns from factors to integers - I'm going to need this later\n",
                "DT = DT[, lapply(.SD, as.integer)]\n",
                "\n",
                "# I create a copy of the classification vector - again, just for convenience\n",
                "clsVec = dataSet$Class\n",
                "table(clsVec)\n",
                "\n",
                "numericClasses = integer(length(clsVec))\n",
                "numericClasses[clsVec == 'ei'] = 1\n",
                "numericClasses[clsVec == 'ie'] = -1\n"
            ]
        },
        {
            "cell_type": "markdown",
            "metadata": {},
            "source": [
                "\n",
                "\n"
            ]
        },
        {
            "cell_type": "code",
            "execution_count": null,
            "metadata": {},
            "outputs": [],
            "source": [
                "pca = prcomp(DT)\n",
                "\n",
                "fig1 <- ggplot(data.table(pca$x), aes(x=PC1, y=PC2, color = clsVec)) +\n",
                "  geom_point() + \n",
                "  labs(x = \"PC1\", y = \"PC2\", title = \"Data visualization - DNA\")\n",
                "\n",
                "bar_plot <- ggplot(data=data.table(id = 1:30, std = pca$sdev[1:30]), aes(x=id, y=std^2)) +\n",
                "                   geom_bar(stat=\"identity\", position=position_dodge()) +\n",
                "                   labs(title = \"Variance of PCs\")\n",
                "\n",
                "gridExtra::grid.arrange(bar_plot, fig1, ncol=2)\n"
            ]
        },
        {
            "cell_type": "markdown",
            "metadata": {},
            "source": [
                "Let's conduct a simple experiment - we divide the data into separate training and test sets and check how well a simple prediction algorithm, i.e., _k-NN_ can predict classes of examples from the test set. I'm assuming that you know this algorithm well. __If not, Google it!__\n",
                "\n"
            ]
        },
        {
            "cell_type": "code",
            "execution_count": null,
            "metadata": {},
            "outputs": [],
            "source": [
                "# let's define some division into a training and test set...\n",
                "set.seed(12345)\n",
                "trainingIdx = sort(sample(1:nrow(dataSet), round(3*(nrow(dataSet)/5))))\n",
                "trainingSet = dataSet[trainingIdx,]\n",
                "testSet = dataSet[-trainingIdx,]\n",
                "clsTr = clsVec[trainingIdx]\n",
                "clsTe = clsVec[-trainingIdx]\n",
                "\n",
                "# and roughly estimate the efficiency of a simple classification model (k-NN)\n",
                "knnModel = kknn(Class~., trainingSet, testSet,\n",
                "                k = 7, distance = 2, kernel = \"triangular\")\n",
                "cat(\"Accuracy on the test set:\\t\", \n",
                "    mean(knnModel$fitted.values == clsTe), \"\\n\", sep = \"\")\n",
                "\n",
                "# the confusion matrix\n",
                "table(clsTe, knnModel$fitted.values)\n"
            ]
        },
        {
            "cell_type": "markdown",
            "metadata": {},
            "source": [
                "### Filtering approach to feature selection\n",
                "\n",
                "Can we improve this result by selecting good features?    \n",
                "\n",
                "We may consider various feature ranking methods i.e. the attribute filtering approach. We start from the simplest ones - univariate attribute rankers such as:\n",
                " \n",
                " - linear correlation,\n",
                " - statistical tests, e.g. t-test, Wilcoxon test, chi2-test\n",
                " - AUC\n",
                " - 'Gain' measures, e.g. InfoGain, GiniGain, discernibility\n"
            ]
        },
        {
            "cell_type": "code",
            "execution_count": null,
            "metadata": {},
            "outputs": [],
            "source": [
                "# An Example 1: the correlation filter\n",
                "K = 90\n",
                "# we simply compute Pearson correlations between attributes and the classification vector\n",
                "corrVec = abs(cor(DT[trainingIdx], numericClasses[trainingIdx]))\n",
                "head(corrVec)\n",
                "\n",
                "# now, we select features with the highest absolute value of correlations\n",
                "selectedAttrs1 = colnames(dataSet)[order(abs(corrVec), decreasing = TRUE)[1:K]]\n",
                "head(selectedAttrs1)\n",
                "\n",
                "# we may check how many features indicated by experts are in the selected set\n",
                "featFound = sum(selectedAttrs1 %in% relevantFeatures)\n",
                "cat(\"The correlation filter found: \", round(100*featFound/60,2), \n",
                "    \"% of relevant features\\n with F1-score: \", F1score(selectedAttrs1, relevantFeatures), \"\\n\", sep = \"\")\n",
                "\n",
                "# now, we can chceck whether the reduction of data dimensionality brings any improvement to predictions\n",
                "knnModelFS1 = kknn(Class~., trainingSet[, c(selectedAttrs1, 'Class'), with = FALSE], \n",
                "                   testSet[, ..selectedAttrs1],\n",
                "                   k = 7, distance = 2, kernel = \"triangular\")\n",
                "cat(\"The accuracy on the test set when we use only the selected features is: \", \n",
                "    mean(knnModelFS1$fitted.values == clsTe), \"\\n\", sep = \"\")\n",
                "\n",
                "# the confusion matrix\n",
                "table(clsTe, knnModelFS1$fitted.values)\n"
            ]
        },
        {
            "cell_type": "markdown",
            "metadata": {},
            "source": [
                "\n",
                "\n"
            ]
        },
        {
            "cell_type": "code",
            "execution_count": null,
            "metadata": {},
            "outputs": [],
            "source": [
                "#' Some other examples of attribute filters:\n",
                "#' wilcox.test-based\n",
                "wilcoxTestFS = function(x, dec) {\n",
                "  1 - t.test(x[dec == 'ei'], x[dec == 'ie'])$p.value\n",
                "}\n",
                "\n",
                "wilcoxScores = sapply(DT[trainingIdx], wilcoxTestFS, clsTr)\n",
                "head(sort(wilcoxScores, decreasing = TRUE))\n",
                "\n",
                "#' chi2.test-based\n",
                "chi2TestFS = function(x, dec) {1 - chisq.test(x, dec)$p.value}\n",
                "\n",
                "chi2Scores = sapply(DT[trainingIdx], chi2TestFS, clsTr)\n",
                "head(sort(chi2Scores, decreasing = TRUE))\n",
                "\n",
                "#' AUC-based\n",
                "aucFS = function(x, dec) {mean(caTools::colAUC(x, dec))}\n",
                "\n",
                "aucScores = sapply(DT[trainingIdx], aucFS, clsTr)\n",
                "head(sort(aucScores, decreasing = TRUE))\n"
            ]
        },
        {
            "cell_type": "markdown",
            "metadata": {},
            "source": [
                "### Exercise 1:\n",
                "Please try to select top-K features using the above scores. Which seems to be the best one?    \n",
                "\n",
                "When we have the feature scores, we need to make a decision on which attributes we should choose for the final set. Some common strategies are:\n",
                "\n",
                " - take the best K features - the value of K must be decided in advance - how?\n",
                "    + we ask an expert ;-)\n",
                "    + we use a prediction model (a hybrid with _the wrapper approach_)\n",
                "    + we estimate K using _the permutation test_\n",
                " - eliminate features that are weaker than a threshold\n",
                " - for each feature, we estimate a probability that it represents an illusionary dependency with the decision classes - _the permutation test_\n",
                " - use other heuristics, such as the _mRMR_ approach\n"
            ]
        },
        {
            "cell_type": "code",
            "execution_count": null,
            "metadata": {},
            "outputs": [],
            "source": [
                "# An example 2: the permutation test\n",
                "\n",
                "# For each attribute, we create a number of 'random probes' and compute their scores:\n",
                "nRand = 1000\n",
                "randomProbe_corScores = lapply(DT[trainingIdx], \n",
                "                               function(x,y) replicate(nRand, abs(cor(x, sample(y)))),\n",
                "                               numericClasses[trainingIdx])\n",
                "  \n",
                "# the probability that a random probe obtains at least as high score as the attribute F83 is:\n",
                "(sum(randomProbe_corScores[['F83']] >= corrVec['F83', ]) + 1)/(nRand + 2)\n",
                "\n",
                "# the probability that a random probe obtains at least as high score as the attribute F1 is:\n",
                "(sum(randomProbe_corScores[['F1']] >= corrVec['F1', ]) + 1)/(nRand + 2)\n",
                "\n",
                "# Instead of choosing an arbitrary value of K, we may choose the attributes for which the\n",
                "# probability that their score was obtained by a chance is small:\n",
                "selectedAttrs2 = colnames(dataSet)[mapply(function(x,randCorrs) x > quantile(randCorrs, 0.995), \n",
                "                                          corrVec, randomProbe_corScores)]\n",
                "length(selectedAttrs2)\n",
                "\n",
                "# How many features indicated by experts we selected this time?\n",
                "featFound = sum(selectedAttrs2 %in% relevantFeatures)\n",
                "cat(\"Using the permutation test, we found: \", round(100*featFound/60,2), \n",
                "    \"% of relevant features\\n with F1-score: \", F1score(selectedAttrs2, relevantFeatures), \"\\n\", sep = \"\")\n",
                "\n",
                "# let's check the prediction quality\n",
                "knnModelFS2 = kknn(Class~., trainingSet[, c(selectedAttrs2, 'Class'), with = FALSE], \n",
                "                   testSet[, ..selectedAttrs2],\n",
                "                   k = 7, distance = 2, kernel = \"triangular\")\n",
                "\n",
                "cat(\"The accuracy on the test set when we use only the selected features is: \", \n",
                "    mean(knnModelFS2$fitted.values == clsTe), \"\\n\", sep = \"\")\n",
                "\n",
                "# the confusion matrix\n",
                "table(clsTe, knnModelFS2$fitted.values)\n"
            ]
        },
        {
            "cell_type": "markdown",
            "metadata": {},
            "source": [
                "### Relevance, redundancy and optimality\n",
                "\n",
                "An _optimal_ subset of features for a _model_ is the one that maximizes its performance. There is no simple relation between the _relevance_ of individual features and optimality:   \n",
                "\n",
                "  - an irrelevant/ redundant feature may be optimal,\n",
                "  - a relevant feature may be redundant.\n",
                "  \n",
                "Consider the following examples (from _Guyon & Elisseeff: An Introduction to Feature Extraction, 2006_)\n",
                "  \n",
                "![Example 1 (from Guyon & Elisseeff, 2006)](univariate_relevance1.png) \n",
                "![Example 2 (Guyon & Elisseeff, 2006)](univariate_relevance2.png)\n",
                " \n",
                "The feature filters can be _univariate_ (as in the previous example) or _multivariate_, i.e., they may consider features not by themselves, but in the context of other features.\n"
            ]
        },
        {
            "cell_type": "code",
            "execution_count": null,
            "metadata": {},
            "outputs": [],
            "source": [
                "reliefRank = function(dataSet, clsVec, \n",
                "                      sampleSize = min(nrow(dataSet), 1000), proxyLoaded = FALSE)  {\n",
                "  if(!proxyLoaded) library(proxy)\n",
                "  if(!is.factor(clsVec)) clsVec = factor(clsVec)\n",
                "  \n",
                "  hitVec = vector(\"numeric\", length=ncol(dataSet))\n",
                "  missVec = vector(\"numeric\", length=ncol(dataSet))\n",
                "  uniqueDecVec = unique(clsVec)\n",
                "  clsIdxList = split(1:nrow(dataSet), clsVec)\n",
                "  clsIdxVec = as.integer(clsVec)\n",
                "  sampleIdx = sort(sample(1:nrow(dataSet), sampleSize))\n",
                "  \n",
                "  clsIdxs = clsIdxVec[sampleIdx]\n",
                "  for(i in 1:sampleSize)  {\n",
                "    tmpIdxs = setdiff(clsIdxList[[clsIdxs[i]]], sampleIdx[i])\n",
                "    distVec = as.numeric(proxy::dist(dataSet[sampleIdx[i],], \n",
                "                                     dataSet[tmpIdxs,]))\n",
                "    hitIdx = tmpIdxs[which.min(distVec)]\n",
                "    distVec = as.numeric(proxy::dist(dataSet[sampleIdx[i],], \n",
                "                                     dataSet[-clsIdxList[[clsIdxs[i]]], ]))\n",
                "    missIdx = (1:nrow(dataSet))[-clsIdxList[[clsIdxs[i]]]][which.min(distVec)]\n",
                "    rm(distVec)\n",
                "    \n",
                "    missVec = missVec + abs(dataSet[sampleIdx[i],] - dataSet[missIdx,])\n",
                "    hitVec = hitVec + abs(dataSet[sampleIdx[i],] - dataSet[hitIdx,])\n",
                "  }\n",
                "  \n",
                "  rankVec = (missVec/hitVec)\n",
                "  return(rankVec)\n",
                "}\n"
            ]
        },
        {
            "cell_type": "markdown",
            "metadata": {},
            "source": [
                "\n",
                "\n"
            ]
        },
        {
            "cell_type": "code",
            "execution_count": null,
            "metadata": {},
            "outputs": [],
            "source": [
                "# An example of a multivariate filter is a relief algorithm:\n",
                "reliefScores = reliefRank(DT[trainingIdx], clsTr, 100) \n",
                "# the code of this function is hidden - check it in the source of this html\n",
                "\n",
                "selectedAttrs3 = names(reliefScores)[order(reliefScores, decreasing = TRUE)[1:K]]\n",
                "length(selectedAttrs3)\n",
                "\n",
                "# How many features indicated by experts we found?\n",
                "featFound = sum(selectedAttrs3 %in% relevantFeatures)\n",
                "cat(\"Using the relief algorithm, we found: \", round(100*featFound/60,2), \n",
                "    \"% of relevant features\\n with F1-score: \", F1score(selectedAttrs3, relevantFeatures), \"\\n\", sep = \"\")\n",
                "\n",
                "# let's check the prediction quality\n",
                "knnModelFS3 = kknn(Class~., trainingSet[, c(selectedAttrs3, 'Class'), with = FALSE], \n",
                "                   testSet[, ..selectedAttrs3],\n",
                "                   k = 7, distance = 2, kernel = \"triangular\")\n",
                "\n",
                "cat(\"The accuracy on the test set when we use only the selected features is: \", \n",
                "    mean(knnModelFS3$fitted.values == clsTe), \"\\n\", sep = \"\")\n",
                "\n",
                "# the confusion matrix\n",
                "table(clsTe, knnModelFS3$fitted.values)\n"
            ]
        },
        {
            "cell_type": "markdown",
            "metadata": {},
            "source": [
                "A different example of a multivariate FS algorithm is the reduct-based ranked from the theory of _rough sets_.\n",
                "\n",
                "### Evaluation of FS algorithms\n",
                "\n",
                "How do we measure the performance of a feature selection algorithm? This is a difficult \n",
                "question and we should consider a few aspects of the answer:\n",
                "\n",
                " - computation time\n",
                " - size of the resulting feature set (the minimal description length principle)\n",
                " - feature set stability (whether the set of selected features changes a lot when we slightly change our data)\n",
                " - performance of prediction models (the ability to identify valid dependencies in the data)\n",
                " \n",
                "There are several popular methods of testing the FS performance.   \n",
                "\n",
                "1. The best way - compare the resulting feature sets to the ground truth. Unfortunately, in practice, this is possible only for synthetic data or relatively simple data that can be analyzed by experts.\n",
                "2. If we cannot directly compare with the ground truth, then we can at least estimate how often a given algorithm makes obvious errors. One way of doing that is to artificially add a set of random probes to the data before we start our analysis and check what portion of the selected features comes from this set.\n",
                "3. We may draw several bootstrap samples of data a empirically check the stability of FS.\n",
                "4. We may assess the FS algorithm indirectly by estimating the performance of a prediction algorithm that uses the selected features. **This method requires caution**. We must not use the same data for FS and the estimation!    \n",
                "\n",
                "Please consider the following experiment.\n"
            ]
        },
        {
            "cell_type": "code",
            "execution_count": null,
            "metadata": {},
            "outputs": [],
            "source": [
                "#' Gollub's experiment\n",
                "nRows = 100\n",
                "nCols = 10000\n",
                "\n",
                "# Let's generate some random data...\n",
                "dataTab = as.data.frame(matrix(runif(nRows*nCols, -1, 1), nRows, nCols))\n",
                "# and a random decision vector\n",
                "decisionClasses = sample(c(0,1), nRows, replace = TRUE)\n",
                "\n",
                "# When we evaluate any prediction algorithm (e.g., using cross-validation), the results are poor...\n",
                "predsAll = cv.kknn(decision~., \n",
                "                   cbind(decision = factor(decisionClasses), dataTab), \n",
                "                   kcv = 10, k = 7, distance = 2, kernel = \"triangular\")\n",
                "cat('The accuracy of k-NN using all features is: ', mean(predsAll[[1]][,1] == predsAll[[1]][,2]), '\\n')\n",
                "\n",
                "# We may rank the features using any method, e.g. correlation filter, and select the top 5\n",
                "corScores = abs(cor(dataTab, decisionClasses))\n",
                "selectedAttrs = order(corScores, decreasing = TRUE)[1:5]\n",
                "\n",
                "# Now, we can measure the performance of a prediction model using cross-validation\n",
                "predsFS = cv.kknn(decision~., \n",
                "                  cbind(decision = factor(decisionClasses), dataTab[, selectedAttrs]), \n",
                "                  kcv = 10, k = 7, distance = 2, kernel = \"triangular\")\n",
                "cat('The accuracy of k-NN with FS is: ', mean(predsFS[[1]][,1] == predsFS[[1]][,2]), '\\n')\n"
            ]
        },
        {
            "cell_type": "markdown",
            "metadata": {},
            "source": [
                "The accuracy after the feature selection is high, event though there is no relation between the attributes and the classes (they were randomly generated). Obviously, we did something wrong...\n",
                "\n",
                "### Exercise 2:\n",
                "Try to repeat the experiment but this time, conduct the feature selection independently in each iteration of the cross-validation loop. Which result is more realistic? What lesson does it teach?\n",
                "\n",
                "\\\n",
                "\\\n",
                "\\\n",
                "  \n",
                "  \n",
                "  \n"
            ]
        }
    ],
    "metadata": {
        "anaconda-cloud": "",
        "kernelspec": {
            "display_name": "R",
            "langauge": "R",
            "name": "ir"
        },
        "language_info": {
            "codemirror_mode": "r",
            "file_extension": ".r",
            "mimetype": "text/x-r-source",
            "name": "R",
            "pygments_lexer": "r",
            "version": "3.4.1"
        }
    },
    "nbformat": 4,
    "nbformat_minor": 1
}
