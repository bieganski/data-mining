{
 "cells": [
  {
   "cell_type": "markdown",
   "metadata": {},
   "source": [
    "### The plan:\n",
    "\n",
    "1. _K-means_ algorithm, its variants and extensions.\n",
    "2. Visualization of clustering results.\n",
    "3. Hierarchical clustering.\n",
    "4. Density-based clustering - _DBscan_ algorithm.  \n"
   ]
  },
  {
   "cell_type": "code",
   "execution_count": null,
   "metadata": {},
   "outputs": [],
   "source": [
    "options(width = 120)\n",
    "library(data.table)\n",
    "library(cluster)\n",
    "library(proxy)\n",
    "library(dbscan)\n",
    "library(mlbench)\n",
    "library(ggplot2)\n",
    "library(ggfortify)\n",
    "library(gridExtra)\n"
   ]
  },
  {
   "cell_type": "markdown",
   "metadata": {},
   "source": [
    "### The k-means algorithm\n",
    "\n",
    "The basic _k-means_ consists of the following steps:   \n",
    "\n",
    "1. Choose at random k initial cluster centers - points in the original attribute space.\n",
    "2. Assign each data point to the closest center - points are divided into k groups.\n",
    "3. Compute new cluster centers (e.g. by averaging points within each cluster).\n",
    "4. Repeat steps 2 and 3 until the algorithm converges.\n",
    "\n",
    "The most widely used implementation of this algorithm in R is the _kmeans_ function.  \n",
    "\n",
    "Since the results of _k-means_ clustering are strongly dependent on the initial selection of cluster centers, this part of the algorithm is the most important one. Many strategies for selecting the initial centers have been developed, however, the most common approach is based on the idea of repeating _k-means_ many times from random seeds and selecting 'the best' results. In the example below, the _nstart_ parameter indicates the number of repetitions of the algorithm.\n",
    "\n",
    "Some fundamental questions arise:   \n",
    "\n",
    " - how can we visualize the clustering results?\n",
    " - which clustering is the best for our data?\n",
    " - can we compare two clustering results and say which one is better?\n",
    " - how can we select good parameter settings for our clustering algorithm?\n"
   ]
  },
  {
   "cell_type": "code",
   "execution_count": null,
   "metadata": {},
   "outputs": [],
   "source": [
    "# An example - we use a toy data set about Isotopic Composition Plutonium Batches:\n",
    "data(pluton)\n",
    "pluton = as.data.frame(scale(pluton,TRUE,TRUE)) # simple scaling...\n",
    "\n",
    "# let's compute PCA to vizualize the data\n",
    "pca = prcomp(pluton)\n",
    "fig1 <- ggplot(data.table(pca$x), aes(x=PC1, y=PC2)) +\n",
    "  geom_point() + \n",
    "  labs(x = \"PC1\", y = \"PC2\", title = \"Wizualizacja danych pluton - PCA\")\n",
    "\n",
    "bar_plot <- ggplot(data=data.table(id = 1:4, std = pca$sdev), aes(x=id, y=std)) +\n",
    "                   geom_bar(stat=\"identity\", position=position_dodge()) +\n",
    "                   labs(title = \"Comparison of embeddings\")\n",
    "\n",
    "gridExtra::grid.arrange(bar_plot, fig1, ncol=2)\n",
    "\n",
    "set.seed(12345)\n",
    "clustering1 = kmeans(pluton, centers = 5, iter.max = 50, nstart = 1, algorithm = \"Lloyd\")\n",
    "suppressWarnings({\n",
    "  clustering2 = kmeans(pluton, centers = 5, iter.max = 50, nstart = 150, algorithm = \"Lloyd\")\n",
    "})\n",
    "\n",
    "fig2 <- ggplot(data.table(pca$x), aes(x=PC1, y=PC2, colour = factor(clustering1$cluster))) +\n",
    "  geom_point() + \n",
    "  labs(x = \"PC1\", y = \"PC2\", colour = \"group\", title = \"Visualization of grouping 1\")\n",
    "fig3 <- ggplot(data.table(pca$x), aes(x=PC1, y=PC2, colour = factor(clustering2$cluster))) +\n",
    "  geom_point() + \n",
    "  labs(x = \"PC1\", y = \"PC2\", colour = \"group\", title = \"Visualization of grouping 2\")\n",
    "\n",
    "gridExtra::grid.arrange(fig2, fig3, ncol=2)\n"
   ]
  },
  {
   "cell_type": "markdown",
   "metadata": {},
   "source": [
    "To compare different clustering results (e.g., to select suitable clustering algorithm or good parameter settings), we need to use some quality criterion. Since in general, there is no single 'objective' way to decide what is _a good clustering_ without considering the context of a specific application domain, it is important to choose a quality measure that is appropriate for the task at hand.   \n",
    "\n",
    "We can divide clustering quality criteria into _extrinsic_ and _intrinsic_ measures:  \n",
    "\n",
    "1. _Extrinsic_ measures require _ground truth_ cluster labels. Examples are _adjusted rand index_, _Fowlkes-Mallows scores_, _mutual information_ based scores, _homogeneity_, and _completeness_. Those measures have little practical usefulness - if you have labels for some part of your data, it is more beneficial to use _supervised_ (preduction models) or _semi-supervised_ learning techniques.\n",
    "2. _Intrinsic_ measures does not require _ground truth_ labels. Some of the intrinsic clustering performance measures are:  \n",
    "\n",
    " - sum/mean of squared distances to cluster centers\n",
    " - _silhouette coefficient_ or _silhouette width_, \n",
    " - _Calinski-Harabasz index_, _Davies-Bouldin_ index, _Dunn index_ etc.,\n",
    "\n",
    "How can we compare clusterings with different numbers of groups?\n"
   ]
  },
  {
   "cell_type": "code",
   "execution_count": null,
   "metadata": {},
   "outputs": [],
   "source": [
    "# For example, let's take the total sum of squared distances to cluster centers:\n",
    "cat(\"For the first clustering:\", mean(clustering1$withinss), \"\\n\", sep = \"\\t\")\n",
    "cat(\"For the second clustering:\", mean(clustering2$withinss), \"\\n\", sep = \"\\t\")\n",
    "\n",
    "#' We may compare values of this measure for various cluster sizes:\n",
    "tmpVec = rep(0,20)\n",
    "for(i in 2:20)  {\n",
    "  tmpClust = kmeans(pluton, centers = i, iter.max = 50, nstart = 150) \n",
    "  tmpVec[i] = mean(tmpClust$withinss/tmpClust$size)\n",
    "}\n",
    "ggplot(data.frame(x = 1:20, y = tmpVec)) + \n",
    "  geom_line(aes(x, y), color = 'blue') + xlab('Number of groups') + ylab('WSS') +\n",
    "  ggtitle(\"We can use 'the elbow rule'\")\n",
    "rm(tmpClust, tmpVec)\n"
   ]
  },
  {
   "cell_type": "markdown",
   "metadata": {},
   "source": [
    "An example of a different measure, which is not monotonic with regard to the number of clusters, is the _silhouette width_. For a single data point _silhouette_ is defined as:\n",
    "$$s(i) = \\frac{\\left( b(i) - a(i)\\right)}{max( a(i), b(i) )},$$\n",
    "where $a(i)$ is the average distance (or dissimilarity) of point $i$ to points from the same cluster, and $b(i)$ is a minimum of the average distances of $i$ to points from a different cluster. The _silhouette width_ is a mean of the silhouette coefficients of all data points: $$\\frac{1}{N}\\sum_{i = 1}^{N} s(i).$$\n"
   ]
  },
  {
   "cell_type": "code",
   "execution_count": null,
   "metadata": {},
   "outputs": [],
   "source": [
    "# an example:\n",
    "silhouetteVec = rep(0,20)\n",
    "distMatrix = dist(pluton)\n",
    "for(i in 2:20)  {\n",
    "  clustering = kmeans(pluton, centers = i, iter.max = 50, nstart = 150)\n",
    "  silhouetteVec[i] = mean(silhouette(clustering$clust, distMatrix)[,3])\n",
    "  rm(clustering)\n",
    "}\n",
    "ggplot(data.frame(x = 1:20, y = silhouetteVec)) + \n",
    "  geom_line(aes(x, y), color = 'blue') + xlab('Number of groups') + ylab('silhouette width') +\n",
    "  ggtitle(paste0(\"According to the silhouette width, the best clustering is for the division into \", \n",
    "                   which.max(silhouetteVec), \" groups.\"))\n",
    "\n",
    "# There is also a method for plotting results of clustering called 'clusplot':\n",
    "clusterNames = paste(\"Gr\", 1:which.max(silhouetteVec), sep=\"\")\n",
    "clustering = kmeans(pluton, centers = which.max(silhouetteVec), iter.max = 50, nstart = 150)\n",
    "clusplot(pluton, clusterNames[clustering$cluster], labels = 2, \n",
    "         stand = TRUE, shade = TRUE)\n",
    "\n",
    "# We may also plot a 'silhouette plot':\n",
    "plot(silhouette(clustering$clust, dist(pluton)), do.n.k = TRUE, do.clus.stat = TRUE,\n",
    "     main=paste(\"Silhouette for clustering into \", which.max(silhouetteVec), \" groups\", sep=\"\"),\n",
    "     xlab = \"\", ylab = \"Points in consecutive groups (sorted by silhouette width)\")\n",
    "mtext(expression(\"Wilhouette width \"* s[i]), side = 1, line = 3)\n"
   ]
  },
  {
   "cell_type": "markdown",
   "metadata": {},
   "source": [
    "### Partitioning Around Medoids (PAM)\n",
    "\n",
    "_PAM_ is a modification to the _k-means_ algorithm that is more robust in a presence of data outliers.\n"
   ]
  },
  {
   "cell_type": "code",
   "execution_count": null,
   "metadata": {},
   "outputs": [],
   "source": [
    "# an additional advantage of PAM is the fact that we may use any dissimilarity measure to cluster the data\n",
    "par(mfrow =c(1,2))\n",
    "pamClustering = pam(pluton, k = 3, metric = \"manhattan\")\n",
    "plot(pamClustering, labels = 2, stand = TRUE, shade = TRUE)\n",
    "\n",
    "# We can get the same result by supplying a distance matrix (or dissimilarities)\n",
    "distMatrix = dist(pluton, method = \"manhattan\")\n",
    "pamClustering = pam(distMatrix, k = 3)\n",
    "plot(pamClustering, labels = 2, stand = TRUE, shade = TRUE, data = pluton)\n",
    "\n",
    "# PAM is less sensitive to outliers - let's add one to our data:\n",
    "par(mfrow =c(1,2))\n",
    "pl1 = ggplot(data.frame(pca$x)) + \n",
    "  geom_point(aes(PC1, PC2), color = 'blue') + xlab('PC1') + ylab('PC2')\n",
    "pluton = rbind(pluton, c(7, -1, 7, 1))\n",
    "pca = prcomp(pluton)\n",
    "pl2 = ggplot(data.frame(pca$x)) + \n",
    "  geom_point(aes(PC1, PC2), color = 'blue') + xlab('PC1') + ylab('PC2')\n",
    "gridExtra::grid.arrange(pl1, pl2, ncol = 2)\n"
   ]
  },
  {
   "cell_type": "markdown",
   "metadata": {},
   "source": [
    "\n",
    "\n"
   ]
  },
  {
   "cell_type": "code",
   "execution_count": null,
   "metadata": {},
   "outputs": [],
   "source": [
    "# Let's compute kmeans again\n",
    "kmeansClustering = kmeans(pluton, centers = 3, iter.max = 50, nstart = 150)\n",
    "pl1 = ggplot(data.frame(pca$x)) + \n",
    "  geom_point(aes(PC1, PC2), color = kmeansClustering$cluster + 1) + \n",
    "  ggtitle(\"kmeans - 3 groups\") + xlab('PC1') + ylab('PC2')\n",
    "\n",
    "pamClustering = pam(pluton, k = 3, metric = \"manhattan\")\n",
    "pl2 = ggplot(data.frame(pca$x)) + \n",
    "  geom_point(aes(PC1, PC2), color = pamClustering$clustering + 1) + \n",
    "  ggtitle(\"PAM - 3 groups\") + xlab('PC1') + ylab('PC2')\n",
    "gridExtra::grid.arrange(pl1, pl2, ncol = 2)\n"
   ]
  },
  {
   "cell_type": "markdown",
   "metadata": {},
   "source": [
    "The biggest disadvantage of _PAM_ is its computational complexity, however, there is an approximate version of this method called _clara_.\n",
    "\n"
   ]
  },
  {
   "cell_type": "code",
   "execution_count": null,
   "metadata": {},
   "outputs": [],
   "source": [
    "# on small data it can work in exactly the same way as PAM\n",
    "claraClustering = clara(pluton, k = 3, metric = \"manhattan\", \n",
    "                        samples = 5, sampsize = 10, pamLike = TRUE)\n",
    "plot(pca$x, col = claraClustering$clustering + 1, \n",
    "     main=\"clara - 3 groups\", xlab = \"X\", ylab = \"Y\")\n",
    "\n",
    "#' Let's try to apply those two methods on some larger data:\n",
    "dataSet = mlbench.2dnormals(10000, 3, r=3)$x\n",
    "plot(dataSet)\n",
    "\n",
    "system.time({\n",
    "  pamClustering = pam(dataSet, k = 3, metric = \"euclidean\");\n",
    "  plot(dataSet, col = pamClustering$clustering + 1, \n",
    "       main=\"PAM - 3 groups\", xlab = \"X\", ylab = \"Y\");\n",
    "})\n",
    "\n",
    "system.time({\n",
    "  claraClustering = clara(dataSet, k = 3, metric = \"euclidean\", samples = 100, sampsize = 50, pamLike = TRUE);\n",
    "  plot(dataSet, col = claraClustering$clustering + 1, \n",
    "       main=\"clara - 3 groups\", xlab = \"X\", ylab = \"Y\");\n",
    "})\n"
   ]
  },
  {
   "cell_type": "markdown",
   "metadata": {},
   "source": [
    "### Hierarchical clustering\n",
    "\n",
    "There are two main approaches to hierarchical clustering: _agglomerative_ and _divisive_.    \n",
    "\n",
    "In the _agglomerative_ approach, we start from a division into as many groups as there are points in the data. Then, in consecutive\n",
    "steps, we merge two closest groups. A distance between groups can be defined in various ways. We use for that purpose a _linkage function_. Typical examples of such functions are _single_ and _complete_ linkage.   \n",
    "Examples of implementations in R: _agnes_, _hclust_.\n"
   ]
  },
  {
   "cell_type": "code",
   "execution_count": null,
   "metadata": {},
   "outputs": [],
   "source": [
    "data(pluton)\n",
    "pluton = as.data.frame(scale(pluton,T,T))\n",
    "pca = prcomp(pluton)\n",
    "\n",
    "par(mfrow =c(1,2))\n",
    "distM = dist(pluton, method = \"euclidean\")\n",
    "agnesClustSingle = agnes(distM, method = \"single\")\n",
    "plot(agnesClustSingle, which.plots = 2, main = 'single link')\n",
    "\n",
    "agnesClustComplete = agnes(distM, method = \"complete\")\n",
    "plot(agnesClustComplete, which.plots = 2,  main = 'complete link')\n",
    "\n",
    "# we can extract the clustering into a specific number of clusters using 'cutree'\n",
    "flatClustering = cutree(agnesClustSingle, k = 3)\n",
    "par(mfrow =c(1,1))\n",
    "ggplot(data.frame(pca$x)) + \n",
    "  geom_point(aes(PC1, PC2), color = flatClustering + 1) + \n",
    "  ggtitle(\"single link - 3 groups\") + xlab('PC1') + ylab('PC2')\n"
   ]
  },
  {
   "cell_type": "markdown",
   "metadata": {},
   "source": [
    "In the _divisive_ approach to data clustering, we start by assigning all points to the same big group, and then, we divide it until each object becomes a different cluster. At each step, we divide a group with the largest diameter.    \n",
    "Example of an implementation in R: diana\n"
   ]
  },
  {
   "cell_type": "code",
   "execution_count": null,
   "metadata": {},
   "outputs": [],
   "source": [
    "dianaClustering = diana(distM)\n",
    "plot(dianaClustering, which.plots = 2)\n",
    "plot(pca$x, col = cutree(dianaClustering, k = 3) + 1, \n",
    "     main=\"diana - 3 clusters\")\n"
   ]
  },
  {
   "cell_type": "markdown",
   "metadata": {},
   "source": [
    "Visualization of clustering trees - augmentation of the plots.\n",
    "\n"
   ]
  },
  {
   "cell_type": "code",
   "execution_count": null,
   "metadata": {},
   "outputs": [],
   "source": [
    "#' An example of a tree trimming function which also modifies default labels in leaves:\n",
    "trim = function(node) {\n",
    "  if(attr(node, \"height\") < 0.3) attr(node, \"height\") = 0.3\n",
    "  if(is.leaf(node)) {\n",
    "    if(attr(node, \"height\") == 0.3) attr(node, \"height\") = 0.2\n",
    "    if(attr(node,\"x.member\") > 1)  attr(node, \"label\") = paste(sub(\"Branch\", \"Cluster\", attr(node, \"label\")), \": \", attr(node,\"x.member\"), \" members\", sep=\"\")\n",
    "    else attr(node, \"label\") = paste(sub(\"Branch\", \"Cluster\", attr(node, \"label\")), \": \", attr(node,\"x.member\"), \" member\", sep =\"\")\n",
    "  }\n",
    "  return(node)\n",
    "}\n",
    "\n",
    "# we iterate through the clustering tree with dendrapply\n",
    "trimmedTree = dendrapply(cut(as.dendrogram(agnesClustSingle), h = 0.7)$upper, trim)\n",
    "\n",
    "plot(trimmedTree, main = \"Trimmed clustering tree\", ylim = c(-0.1, 1.9), \n",
    "     edgePar = list(lwd = 1), center = TRUE,\n",
    "     nodePar = list(col=3:2, cex=c(4.0, 1.75), \n",
    "                    pch= 21:22, bg= c(\"light blue\", \"pink\"), \n",
    "                    lab.cex = 1.2, lab.col = \"Red\"))\n"
   ]
  },
  {
   "cell_type": "markdown",
   "metadata": {},
   "source": [
    "One big disadvantage of all hierarchical clustering algorithms its their high computational complexity - many require $O(N^3)$ time and $O(N^2)$ space.   \n",
    "\n",
    "When it is a good idea to use the hierarchical clustering methods? When shapes of clusters are irregular.\n"
   ]
  },
  {
   "cell_type": "code",
   "execution_count": null,
   "metadata": {},
   "outputs": [],
   "source": [
    "# Example 1:\n",
    "plot(mlbench.smiley())\n",
    "smileyData = mlbench.smiley()$x\n",
    "\n",
    "# let's try to cluster the data with PAM\n",
    "pamClustering = pam(smileyData, k = 4)\n",
    "plot(smileyData, main = \"PAM clustering for the smiley data\", xlab = \"\", ylab = \"\", \n",
    "     col = c(\"Red\", \"Green\", \"Black\", \"Blue\")[pamClustering$clustering])\n",
    "\n",
    "# and now, we do the same using single linkage\n",
    "distM = dist(smileyData, method = \"euclidean\")\n",
    "agnesClustSingle = agnes(distM, method = \"single\")\n",
    "plot(smileyData, main = \"single link clustering for the smiley data\", xlab = \"\", ylab = \"\", \n",
    "     col = c(\"Red\", \"Green\", \"Black\", \"Blue\")[cutree(agnesClustSingle, k = 4)])\n",
    "\n",
    "# Example 2:\n",
    "plot(mlbench.spirals(500,2,0.03))\n",
    "spiralsData = mlbench.spirals(500,2,0.03)$x\n",
    "\n",
    "# This time, let's try kmeans...\n",
    "kmeansClustering = kmeans(spiralsData, centers = 2, iter.max = 50, nstart = 150)\n",
    "plot(spiralsData, main = \"kmeans clustering for the spirals data\", xlab = \"\", ylab = \"\",\n",
    "     col = c(\"Red\", \"Green\", \"Black\", \"Blue\")[kmeansClustering$cluster])\n",
    "\n",
    "# and single link again\n",
    "distM = dist(spiralsData, method = \"euclidean\")\n",
    "agnesClustSingle = agnes(distM, method = \"single\")\n",
    "plot(spiralsData, main = \"single link clustering for the spirals data\", xlab = \"\", ylab = \"\",\n",
    "     col = c(\"Red\", \"Green\", \"Black\", \"Blue\")[cutree(agnesClustSingle, k = 2)])\n"
   ]
  },
  {
   "cell_type": "markdown",
   "metadata": {},
   "source": [
    "Unfortunately, hierarchical clustering algorithms are too slow for large data sets. Faster implementations of the _hclust_ function can be found in libraries _fastcluster_ and _flashClust_.\n",
    "\n",
    "Is there an alternative to hierarchical clustering?\n",
    "\n",
    "### Density-based clustering - the DBscan algorithm\n",
    "\n",
    "Density-based algorithms define clusters as areas in the attribute space where there are more points than in the surrounding area.\n"
   ]
  },
  {
   "cell_type": "code",
   "execution_count": null,
   "metadata": {},
   "outputs": [],
   "source": [
    "# to find good settings for the parameters of DBscan we may check the distribution of distances to k-th neighbor\n",
    "# let's do it for k = 4\n",
    "kNNdistplot(smileyData, k = 4)\n",
    "\n",
    "dbscanClustering = dbscan(smileyData, 0.1, 4)\n",
    "table(dbscanClustering$cluster)\n",
    "\n",
    "#' the points from cluster '0' are regarded as noise - we will plot them in white :-)\n",
    "plot(smileyData, main = \"dbscan clustering for the smiley data - no noise\", \n",
    "     col = dbscanClustering$cluster)\n",
    "\n",
    "#' now, let's plot all points\n",
    "plot(smileyData, main = \"dbscan clustering for the smiley data\", \n",
    "     col = dbscanClustering$cluster + 1)\n",
    "\n",
    "# This implementation can deal with larger data:\n",
    "bigSmileyData = mlbench.smiley(5000)$x\n",
    "\n",
    "system.time({\n",
    "  dbscanClustering = dbscan(bigSmileyData, 0.05, 4)\n",
    "  plot(bigSmileyData, col = dbscanClustering$cluster + 1, \n",
    "       main=\"dbscan clustering for the big smiley data\");\n",
    "})\n",
    "\n",
    "system.time({\n",
    "  distM = dist(bigSmileyData, method = \"euclidean\")\n",
    "  agnesClustSingle = agnes(distM, method = \"single\")\n",
    "  plot(bigSmileyData, main = \"single link clustering for the big smiley data\", \n",
    "       col = c(\"Red\", \"Green\", \"Black\", \"Blue\")[cutree(agnesClustSingle, k = 4)])\n",
    "})\n",
    "\n",
    "rm(list = ls())\n"
   ]
  },
  {
   "cell_type": "markdown",
   "metadata": {},
   "source": [
    "### Exercise:\n",
    "Would you be able to use some of the clustering methods from this class to segment customers from the _cosmeticsData.csv_ data? You can represent the customers by their spendings on products from different categories (e.g., by counting how many products they bought from each category or how much money they spent). Remember that you can combine the clustering task with the dimensionality reduction method from our previous class.\n",
    "\n",
    "A link to the cosmetics data set:  \n",
    "https://drive.google.com/file/d/1dbpYjIN3ArP2NZgviGWNiTIDj3KoitCf/view?usp=sharing\n"
   ]
  },
  {
   "cell_type": "code",
   "execution_count": null,
   "metadata": {},
   "outputs": [],
   "source": [
    "# loading the data\n",
    "cosmeticsData = data.table::fread('cosmeticsData.csv', sep = ',', header = TRUE) # the data set is available in the Drive\n",
    "\n",
    "# some of the data, including product ids, is missing...\n",
    "cosmeticsData[, any(is.na(productID))]\n",
    "\n",
    "cosmeticsData = cosmeticsData[!(is.na(categoryID) | is.na(customerID))]\n",
    "head(cosmeticsData)\n",
    "\n",
    "# number of customers in the data:\n",
    "cosmeticsData[, uniqueN(customerID)]\n",
    "\n",
    "# transforming data from long to wide format\n",
    "wideData = dcast(cosmeticsData, customerID ~ categoryID, \n",
    "                 fun.aggregate = sum, value.var = \"productValue\")\n",
    "head(wideData)\n",
    "\n",
    "# below is the space to solve the task:\n"
   ]
  },
  {
   "cell_type": "markdown",
   "metadata": {},
   "source": [
    "\\\n",
    "\\\n",
    "\\\n",
    "  \n",
    "  \n",
    "  \n"
   ]
  }
 ],
 "metadata": {
  "anaconda-cloud": "",
  "kernelspec": {
   "display_name": "R",
   "language": "R",
   "name": "ir"
  },
  "language_info": {
   "codemirror_mode": "r",
   "file_extension": ".r",
   "mimetype": "text/x-r-source",
   "name": "R",
   "pygments_lexer": "r",
   "version": "4.0.4"
  }
 },
 "nbformat": 4,
 "nbformat_minor": 1
}
