{
 "cells": [
  {
   "cell_type": "code",
   "execution_count": 1,
   "id": "metric-analysis",
   "metadata": {},
   "outputs": [],
   "source": [
    "# Mateusz Biegański\n",
    "# mb385162\n",
    "\n",
    "# Data Mining 2020-2021 course, MIMUW"
   ]
  },
  {
   "cell_type": "code",
   "execution_count": 135,
   "id": "eastern-vehicle",
   "metadata": {},
   "outputs": [],
   "source": [
    "# Libraries used.\n",
    "\n",
    "# Python-like fstrings.\n",
    "library(glue);\n",
    "\n",
    "# Misc utils.\n",
    "library(dplyr);\n",
    "\n",
    "# Plots.\n",
    "library(ggplot2);\n",
    "\n",
    "# B-splines for 'ggplot' smooth plots. \n",
    "library(splines);\n",
    "\n",
    "# Reading .csv in efficient way.\n",
    "library(data.table);\n",
    "\n",
    "library(glmnet)\n",
    "\n",
    "library(Rfast)\n"
   ]
  },
  {
   "cell_type": "code",
   "execution_count": 4,
   "id": "ahead-russia",
   "metadata": {},
   "outputs": [],
   "source": [
    "# Helper functions.\n",
    "\n",
    "m  = function(x) print(methods(class=class(x)))\n",
    "p  = function(x) print(glue(x))\n",
    "ph = function(x) print(head(x))\n",
    "pt = function(x) print(tail(x))\n",
    "pc = function(x) print(class(x))\n",
    "id = function(x) x"
   ]
  },
  {
   "cell_type": "code",
   "execution_count": 599,
   "id": "agricultural-transmission",
   "metadata": {},
   "outputs": [
    {
     "name": "stdout",
     "output_type": "stream",
     "text": [
      "[1] 38658   198\n",
      "[1] 38658   172\n",
      "[1] 38658   167\n",
      "[1] 38658   166\n",
      "[1] 38658  1628\n",
      "[1] 38658   300\n"
     ]
    },
    {
     "data": {
      "text/html": [
       "<table class=\"dataframe\">\n",
       "<caption>A matrix: 3 × 300 of type dbl</caption>\n",
       "<thead>\n",
       "\t<tr><th scope=col>version0.13.3</th><th scope=col>version0.9.2</th><th scope=col>map_nameMap03</th><th scope=col>map_nameMap04</th><th scope=col>map_nameMap05</th><th scope=col>map_nameMap07</th><th scope=col>map_nameMap08</th><th scope=col>map_nameMap10</th><th scope=col>map_nameMap11</th><th scope=col>map_nameMap12</th><th scope=col>⋯</th><th scope=col>teams.1.3.gadgets_stats.1.idbtrRam01</th><th scope=col>teams.1.3.gadgets_stats.1.idmed01</th><th scope=col>teams.1.3.gadgets_stats.1.idsprnt01</th><th scope=col>teams.1.3.gadgets_stats.1.idthrml01</th><th scope=col>teams.1.3.gadgets_stats.1.cnt</th><th scope=col>teams.1.3.gadgets_stats.2.idsprnt01</th><th scope=col>teams.1.3.gadgets_stats.2.cnt</th><th scope=col>teams.1.3.gadgets_stats.3.cnt</th><th scope=col>teams.1.3.gadgets_stats.4.cnt</th><th scope=col>t</th></tr>\n",
       "</thead>\n",
       "<tbody>\n",
       "\t<tr><td>-0.4164202</td><td>1.102649</td><td>-0.2087311</td><td>-0.216441</td><td> 4.6885802</td><td>-0.2075135</td><td>-0.2159822</td><td>-0.20731</td><td>-0.2153911</td><td>-0.2127478</td><td>⋯</td><td>-0.2165719</td><td>-0.4550151</td><td>-0.5551316</td><td>-0.2719937</td><td> 2.252134</td><td>-0.2719937</td><td> 1.8556420</td><td> 1.2603927</td><td>-0.2336948</td><td>0.4304238</td></tr>\n",
       "\t<tr><td>-0.4164202</td><td>1.102649</td><td>-0.2087311</td><td>-0.216441</td><td>-0.2132787</td><td>-0.2075135</td><td>-0.2159822</td><td>-0.20731</td><td>-0.2153911</td><td>-0.2127478</td><td>⋯</td><td>-0.2165719</td><td> 2.1976726</td><td>-0.5551316</td><td>-0.2719937</td><td> 1.015971</td><td>-0.2719937</td><td>-0.8845993</td><td>-0.5471552</td><td>-0.2336948</td><td>0.5669304</td></tr>\n",
       "\t<tr><td>-0.4164202</td><td>1.102649</td><td>-0.2087311</td><td>-0.216441</td><td>-0.2132787</td><td>-0.2075135</td><td>-0.2159822</td><td>-0.20731</td><td>-0.2153911</td><td>-0.2127478</td><td>⋯</td><td>-0.2165719</td><td>-0.4550151</td><td>-0.5551316</td><td>-0.2719937</td><td>-0.220193</td><td>-0.2719937</td><td>-0.8845993</td><td>-0.5471552</td><td>-0.2336948</td><td>0.4842836</td></tr>\n",
       "</tbody>\n",
       "</table>\n"
      ],
      "text/latex": [
       "A matrix: 3 × 300 of type dbl\n",
       "\\begin{tabular}{lllllllllllllllllllll}\n",
       " version0.13.3 & version0.9.2 & map\\_nameMap03 & map\\_nameMap04 & map\\_nameMap05 & map\\_nameMap07 & map\\_nameMap08 & map\\_nameMap10 & map\\_nameMap11 & map\\_nameMap12 & ⋯ & teams.1.3.gadgets\\_stats.1.idbtrRam01 & teams.1.3.gadgets\\_stats.1.idmed01 & teams.1.3.gadgets\\_stats.1.idsprnt01 & teams.1.3.gadgets\\_stats.1.idthrml01 & teams.1.3.gadgets\\_stats.1.cnt & teams.1.3.gadgets\\_stats.2.idsprnt01 & teams.1.3.gadgets\\_stats.2.cnt & teams.1.3.gadgets\\_stats.3.cnt & teams.1.3.gadgets\\_stats.4.cnt & t\\\\\n",
       "\\hline\n",
       "\t -0.4164202 & 1.102649 & -0.2087311 & -0.216441 &  4.6885802 & -0.2075135 & -0.2159822 & -0.20731 & -0.2153911 & -0.2127478 & ⋯ & -0.2165719 & -0.4550151 & -0.5551316 & -0.2719937 &  2.252134 & -0.2719937 &  1.8556420 &  1.2603927 & -0.2336948 & 0.4304238\\\\\n",
       "\t -0.4164202 & 1.102649 & -0.2087311 & -0.216441 & -0.2132787 & -0.2075135 & -0.2159822 & -0.20731 & -0.2153911 & -0.2127478 & ⋯ & -0.2165719 &  2.1976726 & -0.5551316 & -0.2719937 &  1.015971 & -0.2719937 & -0.8845993 & -0.5471552 & -0.2336948 & 0.5669304\\\\\n",
       "\t -0.4164202 & 1.102649 & -0.2087311 & -0.216441 & -0.2132787 & -0.2075135 & -0.2159822 & -0.20731 & -0.2153911 & -0.2127478 & ⋯ & -0.2165719 & -0.4550151 & -0.5551316 & -0.2719937 & -0.220193 & -0.2719937 & -0.8845993 & -0.5471552 & -0.2336948 & 0.4842836\\\\\n",
       "\\end{tabular}\n"
      ],
      "text/markdown": [
       "\n",
       "A matrix: 3 × 300 of type dbl\n",
       "\n",
       "| version0.13.3 | version0.9.2 | map_nameMap03 | map_nameMap04 | map_nameMap05 | map_nameMap07 | map_nameMap08 | map_nameMap10 | map_nameMap11 | map_nameMap12 | ⋯ | teams.1.3.gadgets_stats.1.idbtrRam01 | teams.1.3.gadgets_stats.1.idmed01 | teams.1.3.gadgets_stats.1.idsprnt01 | teams.1.3.gadgets_stats.1.idthrml01 | teams.1.3.gadgets_stats.1.cnt | teams.1.3.gadgets_stats.2.idsprnt01 | teams.1.3.gadgets_stats.2.cnt | teams.1.3.gadgets_stats.3.cnt | teams.1.3.gadgets_stats.4.cnt | t |\n",
       "|---|---|---|---|---|---|---|---|---|---|---|---|---|---|---|---|---|---|---|---|---|\n",
       "| -0.4164202 | 1.102649 | -0.2087311 | -0.216441 |  4.6885802 | -0.2075135 | -0.2159822 | -0.20731 | -0.2153911 | -0.2127478 | ⋯ | -0.2165719 | -0.4550151 | -0.5551316 | -0.2719937 |  2.252134 | -0.2719937 |  1.8556420 |  1.2603927 | -0.2336948 | 0.4304238 |\n",
       "| -0.4164202 | 1.102649 | -0.2087311 | -0.216441 | -0.2132787 | -0.2075135 | -0.2159822 | -0.20731 | -0.2153911 | -0.2127478 | ⋯ | -0.2165719 |  2.1976726 | -0.5551316 | -0.2719937 |  1.015971 | -0.2719937 | -0.8845993 | -0.5471552 | -0.2336948 | 0.5669304 |\n",
       "| -0.4164202 | 1.102649 | -0.2087311 | -0.216441 | -0.2132787 | -0.2075135 | -0.2159822 | -0.20731 | -0.2153911 | -0.2127478 | ⋯ | -0.2165719 | -0.4550151 | -0.5551316 | -0.2719937 | -0.220193 | -0.2719937 | -0.8845993 | -0.5471552 | -0.2336948 | 0.4842836 |\n",
       "\n"
      ],
      "text/plain": [
       "     version0.13.3 version0.9.2 map_nameMap03 map_nameMap04 map_nameMap05\n",
       "[1,] -0.4164202    1.102649     -0.2087311    -0.216441      4.6885802   \n",
       "[2,] -0.4164202    1.102649     -0.2087311    -0.216441     -0.2132787   \n",
       "[3,] -0.4164202    1.102649     -0.2087311    -0.216441     -0.2132787   \n",
       "     map_nameMap07 map_nameMap08 map_nameMap10 map_nameMap11 map_nameMap12 ⋯\n",
       "[1,] -0.2075135    -0.2159822    -0.20731      -0.2153911    -0.2127478    ⋯\n",
       "[2,] -0.2075135    -0.2159822    -0.20731      -0.2153911    -0.2127478    ⋯\n",
       "[3,] -0.2075135    -0.2159822    -0.20731      -0.2153911    -0.2127478    ⋯\n",
       "     teams.1.3.gadgets_stats.1.idbtrRam01 teams.1.3.gadgets_stats.1.idmed01\n",
       "[1,] -0.2165719                           -0.4550151                       \n",
       "[2,] -0.2165719                            2.1976726                       \n",
       "[3,] -0.2165719                           -0.4550151                       \n",
       "     teams.1.3.gadgets_stats.1.idsprnt01 teams.1.3.gadgets_stats.1.idthrml01\n",
       "[1,] -0.5551316                          -0.2719937                         \n",
       "[2,] -0.5551316                          -0.2719937                         \n",
       "[3,] -0.5551316                          -0.2719937                         \n",
       "     teams.1.3.gadgets_stats.1.cnt teams.1.3.gadgets_stats.2.idsprnt01\n",
       "[1,]  2.252134                     -0.2719937                         \n",
       "[2,]  1.015971                     -0.2719937                         \n",
       "[3,] -0.220193                     -0.2719937                         \n",
       "     teams.1.3.gadgets_stats.2.cnt teams.1.3.gadgets_stats.3.cnt\n",
       "[1,]  1.8556420                     1.2603927                   \n",
       "[2,] -0.8845993                    -0.5471552                   \n",
       "[3,] -0.8845993                    -0.5471552                   \n",
       "     teams.1.3.gadgets_stats.4.cnt t        \n",
       "[1,] -0.2336948                    0.4304238\n",
       "[2,] -0.2336948                    0.5669304\n",
       "[3,] -0.2336948                    0.4842836"
      ]
     },
     "metadata": {},
     "output_type": "display_data"
    },
    {
     "data": {
      "text/html": [
       "<table class=\"dataframe\">\n",
       "<caption>A matrix: 1 × 38658 of type int</caption>\n",
       "<tbody>\n",
       "\t<tr><th scope=row>winner</th><td>1</td><td>1</td><td>1</td><td>1</td><td>1</td><td>1</td><td>0</td><td>1</td><td>1</td><td>0</td><td>⋯</td><td>0</td><td>0</td><td>0</td><td>1</td><td>0</td><td>0</td><td>1</td><td>0</td><td>1</td><td>0</td></tr>\n",
       "</tbody>\n",
       "</table>\n"
      ],
      "text/latex": [
       "A matrix: 1 × 38658 of type int\n",
       "\\begin{tabular}{r|lllllllllllllllllllll}\n",
       "\twinner & 1 & 1 & 1 & 1 & 1 & 1 & 0 & 1 & 1 & 0 & ⋯ & 0 & 0 & 0 & 1 & 0 & 0 & 1 & 0 & 1 & 0\\\\\n",
       "\\end{tabular}\n"
      ],
      "text/markdown": [
       "\n",
       "A matrix: 1 × 38658 of type int\n",
       "\n",
       "| winner | 1 | 1 | 1 | 1 | 1 | 1 | 0 | 1 | 1 | 0 | ⋯ | 0 | 0 | 0 | 1 | 0 | 0 | 1 | 0 | 1 | 0 |\n",
       "\n"
      ],
      "text/plain": [
       "       [,1] [,2] [,3] [,4] [,5] [,6] [,7] [,8] [,9] [,10] [,11] [,12] [,13]\n",
       "winner 1    1    1    1    1    1    0    1    1    0     ⋯     0     0    \n",
       "       [,14] [,15] [,16] [,17] [,18] [,19] [,20] [,21]\n",
       "winner 0     1     0     0     1     0     1     0    "
      ]
     },
     "metadata": {},
     "output_type": "display_data"
    }
   ],
   "source": [
    "TRAIN_DATA_FNAME = \"training_data_tabular_format.csv\"\n",
    "TEST_DATA_FNAME = \"test_data_tabular_format.csv\"\n",
    "DATA_LEN=10000\n",
    "\n",
    "\n",
    "gen_model_matrix = function(fname, data_len=10000) {\n",
    "    df <- fread(fname)\n",
    "    print(dim(df))\n",
    "    tmp <- which(colSums(is.na(df)) < dim(df)[[1]]/5) # remove columns with >20% of NAs\n",
    "    df <- df[, ..tmp]\n",
    "    print(dim(df))\n",
    "    tmp <- (names(df) %in% c(\"players.0.ai\", \"players.1.ai\", \"id\", \"players.1.player_id\", \"players.0.player_id\")) # those values are irrelevant\n",
    "    df <- df[, -..tmp]\n",
    "    print(dim(df))\n",
    "#     df <- df[sample(nrow(df), data_len), ]\n",
    "    y <- df %>% select(\"winner\")\n",
    "    y <- y %>% as.matrix %>% t\n",
    "    t <- df[,\"t\"]\n",
    "    df <- df %>% select(-\"t\")\n",
    "    print(dim(df))\n",
    "    \n",
    "    invisible(gc())\n",
    "    mm <- model.matrix(~.-winner, df)\n",
    "    mm <- cbind(mm, t)\n",
    "\n",
    "    print(dim(mm))\n",
    "    \n",
    "    # Pick only most variant variables.\n",
    "    TOP_VAR_NUM = 300\n",
    "    variances <- colVars(as.matrix(mm))\n",
    "    variances <- cbind(colnames(mm) %>% data.frame, as.numeric(variances))\n",
    "    variances.top <- variances[order(variances[,2], decreasing=TRUE) ,] %>% head(n=TOP_VAR_NUM)\n",
    "    variances.top.names = variances.top[[1]]\n",
    "    mm <- as.matrix(mm)\n",
    "    mm <- mm[,which(colnames(mm) %in% variances.top.names)]\n",
    "    \n",
    "    mm <- as.matrix(mm)\n",
    "    \n",
    "    # TODO\n",
    "    mm <- scale(mm)\n",
    "    \n",
    "    print(dim(mm))\n",
    "    invisible(gc())\n",
    "    list(mm, y)\n",
    "}\n",
    "\n",
    "Xy <- gen_model_matrix(TRAIN_DATA_FNAME, DATA_LEN)\n",
    "mm <- Xy[[1]]\n",
    "y  <- Xy[[2]]\n",
    "head(mm, n=3)\n",
    "head(y, n=3)"
   ]
  },
  {
   "cell_type": "code",
   "execution_count": 371,
   "id": "interested-outside",
   "metadata": {},
   "outputs": [
    {
     "ename": "ERROR",
     "evalue": "Error in UseMethod(\"predict\"): no applicable method for 'predict' applied to an object of class \"xgb.cv.synchronous\"\n",
     "output_type": "error",
     "traceback": [
      "Error in UseMethod(\"predict\"): no applicable method for 'predict' applied to an object of class \"xgb.cv.synchronous\"\nTraceback:\n",
      "1. predict(mdcv)"
     ]
    }
   ],
   "source": [
    "predict(mdcv)"
   ]
  },
  {
   "cell_type": "code",
   "execution_count": 427,
   "id": "disciplinary-comment",
   "metadata": {},
   "outputs": [],
   "source": [
    "x <- prcomp(mm, center=T, scale=F)\n",
    "summary(x)"
   ]
  },
  {
   "cell_type": "code",
   "execution_count": 505,
   "id": "ruled-manufacturer",
   "metadata": {},
   "outputs": [],
   "source": [
    "mm_svd = svd(mm)"
   ]
  },
  {
   "cell_type": "code",
   "execution_count": 506,
   "id": "republican-enemy",
   "metadata": {},
   "outputs": [],
   "source": [
    "num_features = length(mm_svd$d)\n",
    "concept_names = paste(\"concept\", 1:num_features, sep=\"\")\n",
    "names(mm_svd$d) = concept_names\n",
    "\n",
    "xx <- round(mm_svd$d, 3)\n",
    "xx <- round(mm_svd$v, 3)\n",
    "xx <- round(mm_svd$u, 3)\n",
    "\n",
    "rownames(mm_svd$v) = colnames(mm)\n",
    "colnames(mm_svd$v) = concept_names\n",
    "\n",
    "rownames(mm_svd$u) = rownames(mm)\n",
    "colnames(mm_svd$u) = concept_names"
   ]
  },
  {
   "cell_type": "code",
   "execution_count": 519,
   "id": "received-heavy",
   "metadata": {},
   "outputs": [
    {
     "data": {
      "text/html": [
       "<table class=\"dataframe\">\n",
       "<caption>A matrix: 2 × 50 of type dbl</caption>\n",
       "<thead>\n",
       "\t<tr><th scope=col>concept1</th><th scope=col>concept2</th><th scope=col>concept3</th><th scope=col>concept4</th><th scope=col>concept5</th><th scope=col>concept6</th><th scope=col>concept7</th><th scope=col>concept8</th><th scope=col>concept9</th><th scope=col>concept10</th><th scope=col>⋯</th><th scope=col>concept41</th><th scope=col>concept42</th><th scope=col>concept43</th><th scope=col>concept44</th><th scope=col>concept45</th><th scope=col>concept46</th><th scope=col>concept47</th><th scope=col>concept48</th><th scope=col>concept49</th><th scope=col>concept50</th></tr>\n",
       "</thead>\n",
       "<tbody>\n",
       "\t<tr><td>-261.910</td><td>112.975</td><td>68.777</td><td>-38.605</td><td>  5.370</td><td>57.425</td><td>-79.501</td><td>  6.828</td><td>-12.410</td><td>-51.445</td><td>⋯</td><td>-17.172</td><td>1.337</td><td>-2.165</td><td>1.168</td><td> 0.702</td><td>-0.379</td><td>-0.800</td><td>-0.653</td><td>1.560</td><td>0.803</td></tr>\n",
       "\t<tr><td>-300.552</td><td> 35.313</td><td>70.004</td><td> 70.306</td><td>-15.374</td><td>16.645</td><td> 43.178</td><td>-16.485</td><td> 38.545</td><td>  7.378</td><td>⋯</td><td> -3.588</td><td>2.061</td><td> 0.552</td><td>1.832</td><td>-1.575</td><td> 0.631</td><td> 0.626</td><td> 1.184</td><td>0.524</td><td>0.760</td></tr>\n",
       "</tbody>\n",
       "</table>\n"
      ],
      "text/latex": [
       "A matrix: 2 × 50 of type dbl\n",
       "\\begin{tabular}{lllllllllllllllllllll}\n",
       " concept1 & concept2 & concept3 & concept4 & concept5 & concept6 & concept7 & concept8 & concept9 & concept10 & ⋯ & concept41 & concept42 & concept43 & concept44 & concept45 & concept46 & concept47 & concept48 & concept49 & concept50\\\\\n",
       "\\hline\n",
       "\t -261.910 & 112.975 & 68.777 & -38.605 &   5.370 & 57.425 & -79.501 &   6.828 & -12.410 & -51.445 & ⋯ & -17.172 & 1.337 & -2.165 & 1.168 &  0.702 & -0.379 & -0.800 & -0.653 & 1.560 & 0.803\\\\\n",
       "\t -300.552 &  35.313 & 70.004 &  70.306 & -15.374 & 16.645 &  43.178 & -16.485 &  38.545 &   7.378 & ⋯ &  -3.588 & 2.061 &  0.552 & 1.832 & -1.575 &  0.631 &  0.626 &  1.184 & 0.524 & 0.760\\\\\n",
       "\\end{tabular}\n"
      ],
      "text/markdown": [
       "\n",
       "A matrix: 2 × 50 of type dbl\n",
       "\n",
       "| concept1 | concept2 | concept3 | concept4 | concept5 | concept6 | concept7 | concept8 | concept9 | concept10 | ⋯ | concept41 | concept42 | concept43 | concept44 | concept45 | concept46 | concept47 | concept48 | concept49 | concept50 |\n",
       "|---|---|---|---|---|---|---|---|---|---|---|---|---|---|---|---|---|---|---|---|---|\n",
       "| -261.910 | 112.975 | 68.777 | -38.605 |   5.370 | 57.425 | -79.501 |   6.828 | -12.410 | -51.445 | ⋯ | -17.172 | 1.337 | -2.165 | 1.168 |  0.702 | -0.379 | -0.800 | -0.653 | 1.560 | 0.803 |\n",
       "| -300.552 |  35.313 | 70.004 |  70.306 | -15.374 | 16.645 |  43.178 | -16.485 |  38.545 |   7.378 | ⋯ |  -3.588 | 2.061 |  0.552 | 1.832 | -1.575 |  0.631 |  0.626 |  1.184 | 0.524 | 0.760 |\n",
       "\n"
      ],
      "text/plain": [
       "     concept1 concept2 concept3 concept4 concept5 concept6 concept7 concept8\n",
       "[1,] -261.910 112.975  68.777   -38.605    5.370  57.425   -79.501    6.828 \n",
       "[2,] -300.552  35.313  70.004    70.306  -15.374  16.645    43.178  -16.485 \n",
       "     concept9 concept10 ⋯ concept41 concept42 concept43 concept44 concept45\n",
       "[1,] -12.410  -51.445   ⋯ -17.172   1.337     -2.165    1.168      0.702   \n",
       "[2,]  38.545    7.378   ⋯  -3.588   2.061      0.552    1.832     -1.575   \n",
       "     concept46 concept47 concept48 concept49 concept50\n",
       "[1,] -0.379    -0.800    -0.653    1.560     0.803    \n",
       "[2,]  0.631     0.626     1.184    0.524     0.760    "
      ]
     },
     "metadata": {},
     "output_type": "display_data"
    }
   ],
   "source": [
    "N_FEATURES = 50\n",
    "\n",
    "D = diag(mm_svd$d[1:N_FEATURES])\n",
    "V = mm_svd$v[,1:N_FEATURES]\n",
    "U = mm_svd$u[,1:N_FEATURES]\n",
    "\n",
    "# approxData = U %*% D %*% t(V)\n",
    "conceptData = mm %*% V\n",
    "round(conceptData, 3) %>% head(n=2)"
   ]
  },
  {
   "cell_type": "code",
   "execution_count": 589,
   "id": "known-growth",
   "metadata": {},
   "outputs": [
    {
     "data": {
      "text/html": [
       "<table class=\"dataframe\">\n",
       "<caption>A matrix: 6 × 300 of type dbl</caption>\n",
       "<thead>\n",
       "\t<tr><th scope=col>version0.13.3</th><th scope=col>version0.9.2</th><th scope=col>map_nameMap03</th><th scope=col>map_nameMap04</th><th scope=col>map_nameMap05</th><th scope=col>map_nameMap07</th><th scope=col>map_nameMap08</th><th scope=col>map_nameMap10</th><th scope=col>map_nameMap11</th><th scope=col>map_nameMap12</th><th scope=col>⋯</th><th scope=col>teams.1.3.gadgets_stats.1.idbtrRam01</th><th scope=col>teams.1.3.gadgets_stats.1.idmed01</th><th scope=col>teams.1.3.gadgets_stats.1.idsprnt01</th><th scope=col>teams.1.3.gadgets_stats.1.idthrml01</th><th scope=col>teams.1.3.gadgets_stats.1.cnt</th><th scope=col>teams.1.3.gadgets_stats.2.idsprnt01</th><th scope=col>teams.1.3.gadgets_stats.2.cnt</th><th scope=col>teams.1.3.gadgets_stats.3.cnt</th><th scope=col>teams.1.3.gadgets_stats.4.cnt</th><th scope=col>t</th></tr>\n",
       "</thead>\n",
       "<tbody>\n",
       "\t<tr><td>-0.4164202</td><td> 1.1026489</td><td>-0.2087311</td><td>-0.216441</td><td> 4.6885802</td><td>-0.2075135</td><td>-0.2159822</td><td>-0.20731</td><td>-0.2153911</td><td>-0.2127478</td><td>⋯</td><td>-0.2165719</td><td>-0.4550151</td><td>-0.5551316</td><td>-0.2719937</td><td> 2.252134</td><td>-0.2719937</td><td> 1.8556420</td><td> 1.2603927</td><td>-0.2336948</td><td> 0.43042378</td></tr>\n",
       "\t<tr><td>-0.4164202</td><td> 1.1026489</td><td>-0.2087311</td><td>-0.216441</td><td>-0.2132787</td><td>-0.2075135</td><td>-0.2159822</td><td>-0.20731</td><td>-0.2153911</td><td>-0.2127478</td><td>⋯</td><td>-0.2165719</td><td> 2.1976726</td><td>-0.5551316</td><td>-0.2719937</td><td> 1.015971</td><td>-0.2719937</td><td>-0.8845993</td><td>-0.5471552</td><td>-0.2336948</td><td> 0.56693041</td></tr>\n",
       "\t<tr><td>-0.4164202</td><td> 1.1026489</td><td>-0.2087311</td><td>-0.216441</td><td>-0.2132787</td><td>-0.2075135</td><td>-0.2159822</td><td>-0.20731</td><td>-0.2153911</td><td>-0.2127478</td><td>⋯</td><td>-0.2165719</td><td>-0.4550151</td><td>-0.5551316</td><td>-0.2719937</td><td>-0.220193</td><td>-0.2719937</td><td>-0.8845993</td><td>-0.5471552</td><td>-0.2336948</td><td> 0.48428355</td></tr>\n",
       "\t<tr><td>-0.4164202</td><td>-0.9068835</td><td>-0.2087311</td><td>-0.216441</td><td>-0.2132787</td><td>-0.2075135</td><td>-0.2159822</td><td>-0.20731</td><td>-0.2153911</td><td>-0.2127478</td><td>⋯</td><td> 4.6172838</td><td>-0.4550151</td><td>-0.5551316</td><td>-0.2719937</td><td> 2.252134</td><td>-0.2719937</td><td> 1.8556420</td><td> 1.2603927</td><td>-0.2336948</td><td>-0.26056843</td></tr>\n",
       "\t<tr><td>-0.4164202</td><td>-0.9068835</td><td>-0.2087311</td><td>-0.216441</td><td>-0.2132787</td><td>-0.2075135</td><td>-0.2159822</td><td>-0.20731</td><td>-0.2153911</td><td>-0.2127478</td><td>⋯</td><td>-0.2165719</td><td> 2.1976726</td><td>-0.5551316</td><td>-0.2719937</td><td> 1.015971</td><td>-0.2719937</td><td> 0.4855213</td><td>-0.5471552</td><td> 3.4253467</td><td>-0.07343736</td></tr>\n",
       "\t<tr><td>-0.4164202</td><td> 1.1026489</td><td>-0.2087311</td><td>-0.216441</td><td>-0.2132787</td><td>-0.2075135</td><td>-0.2159822</td><td>-0.20731</td><td>-0.2153911</td><td>-0.2127478</td><td>⋯</td><td>-0.2165719</td><td> 2.1976726</td><td>-0.5551316</td><td>-0.2719937</td><td> 1.015971</td><td>-0.2719937</td><td> 0.4855213</td><td>-0.5471552</td><td>-0.2336948</td><td>-0.21651639</td></tr>\n",
       "</tbody>\n",
       "</table>\n"
      ],
      "text/latex": [
       "A matrix: 6 × 300 of type dbl\n",
       "\\begin{tabular}{lllllllllllllllllllll}\n",
       " version0.13.3 & version0.9.2 & map\\_nameMap03 & map\\_nameMap04 & map\\_nameMap05 & map\\_nameMap07 & map\\_nameMap08 & map\\_nameMap10 & map\\_nameMap11 & map\\_nameMap12 & ⋯ & teams.1.3.gadgets\\_stats.1.idbtrRam01 & teams.1.3.gadgets\\_stats.1.idmed01 & teams.1.3.gadgets\\_stats.1.idsprnt01 & teams.1.3.gadgets\\_stats.1.idthrml01 & teams.1.3.gadgets\\_stats.1.cnt & teams.1.3.gadgets\\_stats.2.idsprnt01 & teams.1.3.gadgets\\_stats.2.cnt & teams.1.3.gadgets\\_stats.3.cnt & teams.1.3.gadgets\\_stats.4.cnt & t\\\\\n",
       "\\hline\n",
       "\t -0.4164202 &  1.1026489 & -0.2087311 & -0.216441 &  4.6885802 & -0.2075135 & -0.2159822 & -0.20731 & -0.2153911 & -0.2127478 & ⋯ & -0.2165719 & -0.4550151 & -0.5551316 & -0.2719937 &  2.252134 & -0.2719937 &  1.8556420 &  1.2603927 & -0.2336948 &  0.43042378\\\\\n",
       "\t -0.4164202 &  1.1026489 & -0.2087311 & -0.216441 & -0.2132787 & -0.2075135 & -0.2159822 & -0.20731 & -0.2153911 & -0.2127478 & ⋯ & -0.2165719 &  2.1976726 & -0.5551316 & -0.2719937 &  1.015971 & -0.2719937 & -0.8845993 & -0.5471552 & -0.2336948 &  0.56693041\\\\\n",
       "\t -0.4164202 &  1.1026489 & -0.2087311 & -0.216441 & -0.2132787 & -0.2075135 & -0.2159822 & -0.20731 & -0.2153911 & -0.2127478 & ⋯ & -0.2165719 & -0.4550151 & -0.5551316 & -0.2719937 & -0.220193 & -0.2719937 & -0.8845993 & -0.5471552 & -0.2336948 &  0.48428355\\\\\n",
       "\t -0.4164202 & -0.9068835 & -0.2087311 & -0.216441 & -0.2132787 & -0.2075135 & -0.2159822 & -0.20731 & -0.2153911 & -0.2127478 & ⋯ &  4.6172838 & -0.4550151 & -0.5551316 & -0.2719937 &  2.252134 & -0.2719937 &  1.8556420 &  1.2603927 & -0.2336948 & -0.26056843\\\\\n",
       "\t -0.4164202 & -0.9068835 & -0.2087311 & -0.216441 & -0.2132787 & -0.2075135 & -0.2159822 & -0.20731 & -0.2153911 & -0.2127478 & ⋯ & -0.2165719 &  2.1976726 & -0.5551316 & -0.2719937 &  1.015971 & -0.2719937 &  0.4855213 & -0.5471552 &  3.4253467 & -0.07343736\\\\\n",
       "\t -0.4164202 &  1.1026489 & -0.2087311 & -0.216441 & -0.2132787 & -0.2075135 & -0.2159822 & -0.20731 & -0.2153911 & -0.2127478 & ⋯ & -0.2165719 &  2.1976726 & -0.5551316 & -0.2719937 &  1.015971 & -0.2719937 &  0.4855213 & -0.5471552 & -0.2336948 & -0.21651639\\\\\n",
       "\\end{tabular}\n"
      ],
      "text/markdown": [
       "\n",
       "A matrix: 6 × 300 of type dbl\n",
       "\n",
       "| version0.13.3 | version0.9.2 | map_nameMap03 | map_nameMap04 | map_nameMap05 | map_nameMap07 | map_nameMap08 | map_nameMap10 | map_nameMap11 | map_nameMap12 | ⋯ | teams.1.3.gadgets_stats.1.idbtrRam01 | teams.1.3.gadgets_stats.1.idmed01 | teams.1.3.gadgets_stats.1.idsprnt01 | teams.1.3.gadgets_stats.1.idthrml01 | teams.1.3.gadgets_stats.1.cnt | teams.1.3.gadgets_stats.2.idsprnt01 | teams.1.3.gadgets_stats.2.cnt | teams.1.3.gadgets_stats.3.cnt | teams.1.3.gadgets_stats.4.cnt | t |\n",
       "|---|---|---|---|---|---|---|---|---|---|---|---|---|---|---|---|---|---|---|---|---|\n",
       "| -0.4164202 |  1.1026489 | -0.2087311 | -0.216441 |  4.6885802 | -0.2075135 | -0.2159822 | -0.20731 | -0.2153911 | -0.2127478 | ⋯ | -0.2165719 | -0.4550151 | -0.5551316 | -0.2719937 |  2.252134 | -0.2719937 |  1.8556420 |  1.2603927 | -0.2336948 |  0.43042378 |\n",
       "| -0.4164202 |  1.1026489 | -0.2087311 | -0.216441 | -0.2132787 | -0.2075135 | -0.2159822 | -0.20731 | -0.2153911 | -0.2127478 | ⋯ | -0.2165719 |  2.1976726 | -0.5551316 | -0.2719937 |  1.015971 | -0.2719937 | -0.8845993 | -0.5471552 | -0.2336948 |  0.56693041 |\n",
       "| -0.4164202 |  1.1026489 | -0.2087311 | -0.216441 | -0.2132787 | -0.2075135 | -0.2159822 | -0.20731 | -0.2153911 | -0.2127478 | ⋯ | -0.2165719 | -0.4550151 | -0.5551316 | -0.2719937 | -0.220193 | -0.2719937 | -0.8845993 | -0.5471552 | -0.2336948 |  0.48428355 |\n",
       "| -0.4164202 | -0.9068835 | -0.2087311 | -0.216441 | -0.2132787 | -0.2075135 | -0.2159822 | -0.20731 | -0.2153911 | -0.2127478 | ⋯ |  4.6172838 | -0.4550151 | -0.5551316 | -0.2719937 |  2.252134 | -0.2719937 |  1.8556420 |  1.2603927 | -0.2336948 | -0.26056843 |\n",
       "| -0.4164202 | -0.9068835 | -0.2087311 | -0.216441 | -0.2132787 | -0.2075135 | -0.2159822 | -0.20731 | -0.2153911 | -0.2127478 | ⋯ | -0.2165719 |  2.1976726 | -0.5551316 | -0.2719937 |  1.015971 | -0.2719937 |  0.4855213 | -0.5471552 |  3.4253467 | -0.07343736 |\n",
       "| -0.4164202 |  1.1026489 | -0.2087311 | -0.216441 | -0.2132787 | -0.2075135 | -0.2159822 | -0.20731 | -0.2153911 | -0.2127478 | ⋯ | -0.2165719 |  2.1976726 | -0.5551316 | -0.2719937 |  1.015971 | -0.2719937 |  0.4855213 | -0.5471552 | -0.2336948 | -0.21651639 |\n",
       "\n"
      ],
      "text/plain": [
       "     version0.13.3 version0.9.2 map_nameMap03 map_nameMap04 map_nameMap05\n",
       "[1,] -0.4164202     1.1026489   -0.2087311    -0.216441      4.6885802   \n",
       "[2,] -0.4164202     1.1026489   -0.2087311    -0.216441     -0.2132787   \n",
       "[3,] -0.4164202     1.1026489   -0.2087311    -0.216441     -0.2132787   \n",
       "[4,] -0.4164202    -0.9068835   -0.2087311    -0.216441     -0.2132787   \n",
       "[5,] -0.4164202    -0.9068835   -0.2087311    -0.216441     -0.2132787   \n",
       "[6,] -0.4164202     1.1026489   -0.2087311    -0.216441     -0.2132787   \n",
       "     map_nameMap07 map_nameMap08 map_nameMap10 map_nameMap11 map_nameMap12 ⋯\n",
       "[1,] -0.2075135    -0.2159822    -0.20731      -0.2153911    -0.2127478    ⋯\n",
       "[2,] -0.2075135    -0.2159822    -0.20731      -0.2153911    -0.2127478    ⋯\n",
       "[3,] -0.2075135    -0.2159822    -0.20731      -0.2153911    -0.2127478    ⋯\n",
       "[4,] -0.2075135    -0.2159822    -0.20731      -0.2153911    -0.2127478    ⋯\n",
       "[5,] -0.2075135    -0.2159822    -0.20731      -0.2153911    -0.2127478    ⋯\n",
       "[6,] -0.2075135    -0.2159822    -0.20731      -0.2153911    -0.2127478    ⋯\n",
       "     teams.1.3.gadgets_stats.1.idbtrRam01 teams.1.3.gadgets_stats.1.idmed01\n",
       "[1,] -0.2165719                           -0.4550151                       \n",
       "[2,] -0.2165719                            2.1976726                       \n",
       "[3,] -0.2165719                           -0.4550151                       \n",
       "[4,]  4.6172838                           -0.4550151                       \n",
       "[5,] -0.2165719                            2.1976726                       \n",
       "[6,] -0.2165719                            2.1976726                       \n",
       "     teams.1.3.gadgets_stats.1.idsprnt01 teams.1.3.gadgets_stats.1.idthrml01\n",
       "[1,] -0.5551316                          -0.2719937                         \n",
       "[2,] -0.5551316                          -0.2719937                         \n",
       "[3,] -0.5551316                          -0.2719937                         \n",
       "[4,] -0.5551316                          -0.2719937                         \n",
       "[5,] -0.5551316                          -0.2719937                         \n",
       "[6,] -0.5551316                          -0.2719937                         \n",
       "     teams.1.3.gadgets_stats.1.cnt teams.1.3.gadgets_stats.2.idsprnt01\n",
       "[1,]  2.252134                     -0.2719937                         \n",
       "[2,]  1.015971                     -0.2719937                         \n",
       "[3,] -0.220193                     -0.2719937                         \n",
       "[4,]  2.252134                     -0.2719937                         \n",
       "[5,]  1.015971                     -0.2719937                         \n",
       "[6,]  1.015971                     -0.2719937                         \n",
       "     teams.1.3.gadgets_stats.2.cnt teams.1.3.gadgets_stats.3.cnt\n",
       "[1,]  1.8556420                     1.2603927                   \n",
       "[2,] -0.8845993                    -0.5471552                   \n",
       "[3,] -0.8845993                    -0.5471552                   \n",
       "[4,]  1.8556420                     1.2603927                   \n",
       "[5,]  0.4855213                    -0.5471552                   \n",
       "[6,]  0.4855213                    -0.5471552                   \n",
       "     teams.1.3.gadgets_stats.4.cnt t          \n",
       "[1,] -0.2336948                     0.43042378\n",
       "[2,] -0.2336948                     0.56693041\n",
       "[3,] -0.2336948                     0.48428355\n",
       "[4,] -0.2336948                    -0.26056843\n",
       "[5,]  3.4253467                    -0.07343736\n",
       "[6,] -0.2336948                    -0.21651639"
      ]
     },
     "metadata": {},
     "output_type": "display_data"
    }
   ],
   "source": [
    "head(mm)"
   ]
  },
  {
   "cell_type": "code",
   "execution_count": 588,
   "id": "refined-royal",
   "metadata": {
    "scrolled": false
   },
   "outputs": [
    {
     "name": "stdout",
     "output_type": "stream",
     "text": [
      "[1]\ttrain-auc:0.749736\ttest-auc:0.735538 \n",
      "[11]\ttrain-auc:0.830086\ttest-auc:0.815160 \n",
      "[21]\ttrain-auc:0.843001\ttest-auc:0.825158 \n",
      "[31]\ttrain-auc:0.851406\ttest-auc:0.830984 \n",
      "[41]\ttrain-auc:0.858697\ttest-auc:0.834977 \n",
      "[51]\ttrain-auc:0.864601\ttest-auc:0.837806 \n",
      "[61]\ttrain-auc:0.870265\ttest-auc:0.840111 \n",
      "[71]\ttrain-auc:0.875768\ttest-auc:0.842259 \n",
      "[81]\ttrain-auc:0.880456\ttest-auc:0.843741 \n",
      "[91]\ttrain-auc:0.884950\ttest-auc:0.844977 \n",
      "[101]\ttrain-auc:0.888857\ttest-auc:0.846209 \n",
      "[111]\ttrain-auc:0.892431\ttest-auc:0.847158 \n",
      "[121]\ttrain-auc:0.895704\ttest-auc:0.847997 \n",
      "[131]\ttrain-auc:0.898893\ttest-auc:0.848634 \n",
      "[141]\ttrain-auc:0.901825\ttest-auc:0.849039 \n",
      "[151]\ttrain-auc:0.904560\ttest-auc:0.849461 \n",
      "[161]\ttrain-auc:0.907298\ttest-auc:0.849698 \n",
      "[170]\ttrain-auc:0.909416\ttest-auc:0.849935 \n"
     ]
    },
    {
     "data": {
      "text/plain": [
       "NULL"
      ]
     },
     "metadata": {},
     "output_type": "display_data"
    }
   ],
   "source": [
    "mdcv <- xgb.cv(\n",
    "    params=list(\n",
    "        objective=\"binary:logistic\",\n",
    "        eval_metric=list(\"auc\"),\n",
    "        min_child_weight=15,\n",
    "        gamma=5\n",
    "    ),\n",
    "    data=mm, # conceptData, # mm\n",
    "    eta=0.10,\n",
    "    metric=list(\"auc\"),\n",
    "    label=y,\n",
    "    nfold=5,\n",
    "    nrounds=170,\n",
    "    max_depth = 5,\n",
    "    print_every_n = 10,\n",
    "    showsd=F,\n",
    ")\n",
    "mdcv$test.error.mean"
   ]
  },
  {
   "cell_type": "code",
   "execution_count": 607,
   "id": "central-basin",
   "metadata": {},
   "outputs": [
    {
     "data": {
      "text/html": [
       "<style>\n",
       ".list-inline {list-style: none; margin:0; padding: 0}\n",
       ".list-inline>li {display: inline-block}\n",
       ".list-inline>li:not(:last-child)::after {content: \"\\00b7\"; padding: 0 .5ex}\n",
       "</style>\n",
       "<ol class=list-inline><li>38658</li><li>300</li></ol>\n"
      ],
      "text/latex": [
       "\\begin{enumerate*}\n",
       "\\item 38658\n",
       "\\item 300\n",
       "\\end{enumerate*}\n"
      ],
      "text/markdown": [
       "1. 38658\n",
       "2. 300\n",
       "\n",
       "\n"
      ],
      "text/plain": [
       "[1] 38658   300"
      ]
     },
     "metadata": {},
     "output_type": "display_data"
    },
    {
     "data": {
      "text/html": [
       "<style>\n",
       ".list-inline {list-style: none; margin:0; padding: 0}\n",
       ".list-inline>li {display: inline-block}\n",
       ".list-inline>li:not(:last-child)::after {content: \"\\00b7\"; padding: 0 .5ex}\n",
       "</style>\n",
       "<ol class=list-inline><li>20000</li><li>300</li></ol>\n"
      ],
      "text/latex": [
       "\\begin{enumerate*}\n",
       "\\item 20000\n",
       "\\item 300\n",
       "\\end{enumerate*}\n"
      ],
      "text/markdown": [
       "1. 20000\n",
       "2. 300\n",
       "\n",
       "\n"
      ],
      "text/plain": [
       "[1] 20000   300"
      ]
     },
     "metadata": {},
     "output_type": "display_data"
    }
   ],
   "source": [
    "dim(mm)\n",
    "dim(cleaned_test_mm)\n",
    "\n",
    "result <- predict(xgb, newdata=cleaned_test_mm) %>% data.frame\n",
    "\n",
    "store(result, fname=\"xgboost_full_md5_mcw15_g5.txt\")\n",
    "\n"
   ]
  },
  {
   "cell_type": "code",
   "execution_count": 598,
   "id": "dying-legislature",
   "metadata": {},
   "outputs": [
    {
     "data": {
      "text/html": [
       "<style>\n",
       ".list-inline {list-style: none; margin:0; padding: 0}\n",
       ".list-inline>li {display: inline-block}\n",
       ".list-inline>li:not(:last-child)::after {content: \"\\00b7\"; padding: 0 .5ex}\n",
       "</style>\n",
       "<ol class=list-inline><li>20000</li><li>300</li></ol>\n"
      ],
      "text/latex": [
       "\\begin{enumerate*}\n",
       "\\item 20000\n",
       "\\item 300\n",
       "\\end{enumerate*}\n"
      ],
      "text/markdown": [
       "1. 20000\n",
       "2. 300\n",
       "\n",
       "\n"
      ],
      "text/plain": [
       "[1] 20000   300"
      ]
     },
     "metadata": {},
     "output_type": "display_data"
    }
   ],
   "source": [
    "mm %>% dim"
   ]
  },
  {
   "cell_type": "code",
   "execution_count": 606,
   "id": "centered-blackjack",
   "metadata": {},
   "outputs": [
    {
     "name": "stdout",
     "output_type": "stream",
     "text": [
      "[1]\ttrain-auc:0.749517 \n",
      "[6]\ttrain-auc:0.817074 \n",
      "[11]\ttrain-auc:0.828491 \n",
      "[16]\ttrain-auc:0.835645 \n",
      "[21]\ttrain-auc:0.840645 \n",
      "[26]\ttrain-auc:0.844528 \n",
      "[31]\ttrain-auc:0.848667 \n",
      "[36]\ttrain-auc:0.852161 \n",
      "[41]\ttrain-auc:0.855269 \n",
      "[46]\ttrain-auc:0.857962 \n",
      "[51]\ttrain-auc:0.860827 \n",
      "[56]\ttrain-auc:0.863564 \n",
      "[61]\ttrain-auc:0.866873 \n",
      "[66]\ttrain-auc:0.869464 \n",
      "[71]\ttrain-auc:0.871710 \n",
      "[76]\ttrain-auc:0.874030 \n",
      "[81]\ttrain-auc:0.876337 \n",
      "[86]\ttrain-auc:0.878349 \n",
      "[91]\ttrain-auc:0.880464 \n",
      "[96]\ttrain-auc:0.882342 \n",
      "[101]\ttrain-auc:0.884023 \n",
      "[106]\ttrain-auc:0.885577 \n",
      "[111]\ttrain-auc:0.887593 \n",
      "[116]\ttrain-auc:0.888951 \n",
      "[121]\ttrain-auc:0.890454 \n",
      "[126]\ttrain-auc:0.891901 \n",
      "[131]\ttrain-auc:0.892861 \n",
      "[136]\ttrain-auc:0.894573 \n",
      "[141]\ttrain-auc:0.895765 \n",
      "[146]\ttrain-auc:0.897053 \n",
      "[151]\ttrain-auc:0.898195 \n",
      "[156]\ttrain-auc:0.899287 \n",
      "[161]\ttrain-auc:0.900474 \n",
      "[166]\ttrain-auc:0.901557 \n",
      "[171]\ttrain-auc:0.902990 \n",
      "[176]\ttrain-auc:0.904199 \n",
      "[181]\ttrain-auc:0.905139 \n",
      "[186]\ttrain-auc:0.906234 \n",
      "[191]\ttrain-auc:0.907157 \n",
      "[196]\ttrain-auc:0.908096 \n",
      "[201]\ttrain-auc:0.909153 \n",
      "[206]\ttrain-auc:0.909926 \n",
      "[211]\ttrain-auc:0.910882 \n",
      "[216]\ttrain-auc:0.911815 \n",
      "[221]\ttrain-auc:0.912659 \n",
      "[226]\ttrain-auc:0.913586 \n",
      "[231]\ttrain-auc:0.914413 \n",
      "[236]\ttrain-auc:0.915309 \n",
      "[241]\ttrain-auc:0.916151 \n",
      "[246]\ttrain-auc:0.917083 \n",
      "[251]\ttrain-auc:0.918107 \n",
      "[256]\ttrain-auc:0.919122 \n",
      "[261]\ttrain-auc:0.920027 \n",
      "[266]\ttrain-auc:0.920692 \n",
      "[271]\ttrain-auc:0.921215 \n",
      "[276]\ttrain-auc:0.922112 \n",
      "[281]\ttrain-auc:0.922713 \n",
      "[286]\ttrain-auc:0.923477 \n",
      "[291]\ttrain-auc:0.924199 \n",
      "[296]\ttrain-auc:0.925078 \n",
      "[301]\ttrain-auc:0.925798 \n",
      "[306]\ttrain-auc:0.926408 \n",
      "[311]\ttrain-auc:0.927214 \n",
      "[316]\ttrain-auc:0.927956 \n",
      "[321]\ttrain-auc:0.928697 \n",
      "[326]\ttrain-auc:0.929350 \n",
      "[331]\ttrain-auc:0.930160 \n",
      "[336]\ttrain-auc:0.930758 \n",
      "[341]\ttrain-auc:0.931458 \n",
      "[346]\ttrain-auc:0.932081 \n",
      "[351]\ttrain-auc:0.932674 \n",
      "[356]\ttrain-auc:0.933365 \n",
      "[361]\ttrain-auc:0.934038 \n",
      "[366]\ttrain-auc:0.934495 \n",
      "[371]\ttrain-auc:0.935078 \n",
      "[376]\ttrain-auc:0.935722 \n",
      "[381]\ttrain-auc:0.936094 \n",
      "[386]\ttrain-auc:0.936623 \n",
      "[391]\ttrain-auc:0.937151 \n",
      "[396]\ttrain-auc:0.937151 \n",
      "[401]\ttrain-auc:0.937151 \n",
      "[406]\ttrain-auc:0.937151 \n",
      "[411]\ttrain-auc:0.937151 \n",
      "[416]\ttrain-auc:0.937151 \n",
      "[421]\ttrain-auc:0.937151 \n",
      "[426]\ttrain-auc:0.937151 \n",
      "[431]\ttrain-auc:0.937151 \n",
      "[436]\ttrain-auc:0.937151 \n",
      "[441]\ttrain-auc:0.937151 \n",
      "[446]\ttrain-auc:0.937151 \n",
      "[451]\ttrain-auc:0.937151 \n",
      "[456]\ttrain-auc:0.937151 \n",
      "[461]\ttrain-auc:0.937151 \n",
      "[466]\ttrain-auc:0.937151 \n",
      "[471]\ttrain-auc:0.937151 \n",
      "[476]\ttrain-auc:0.937151 \n",
      "[481]\ttrain-auc:0.937151 \n",
      "[486]\ttrain-auc:0.937151 \n",
      "[491]\ttrain-auc:0.937151 \n",
      "[496]\ttrain-auc:0.937151 \n",
      "[500]\ttrain-auc:0.937151 \n",
      "[1] predict print  \n",
      "see '?methods' for accessing help and source code\n"
     ]
    }
   ],
   "source": [
    "library(xgboost)\n",
    "\n",
    "xgb <- xgboost(\n",
    "    data=mm,\n",
    "    label=y,\n",
    "    objective=\"binary:logistic\",\n",
    "    eval_metric=\"auc\",\n",
    "    print_every_n = 5,\n",
    "    \n",
    "    nrounds=500, \n",
    "    \n",
    "    max_depth=5, \n",
    "    min_child_weight=15,\n",
    "    eta = 0.1,\n",
    "    gamma=5,\n",
    ")\n",
    "\n",
    "m(xgb)\n"
   ]
  },
  {
   "cell_type": "code",
   "execution_count": 323,
   "id": "angry-michael",
   "metadata": {},
   "outputs": [
    {
     "name": "stdout",
     "output_type": "stream",
     "text": [
      "\n",
      "Call:  cv.glmnet(x = mm, y = y, type.measure = \"class\", parallel = TRUE,      family = \"binomial\", alpha = alpha) \n",
      "\n",
      "Measure: Misclassification Error \n",
      "\n",
      "    Lambda Index Measure       SE Nonzero\n",
      "min 0.3664    63  0.2607 0.007384     300\n",
      "1se 0.6403    57  0.2653 0.007170     300\n",
      "\n",
      "Call:  cv.glmnet(x = mm, y = y, type.measure = \"class\", parallel = TRUE,      family = \"binomial\", alpha = alpha) \n",
      "\n",
      "Measure: Misclassification Error \n",
      "\n",
      "     Lambda Index Measure       SE Nonzero\n",
      "min 0.02514    25  0.2447 0.009192      57\n",
      "1se 0.05292    17  0.2533 0.010864      17\n",
      "\n",
      "Call:  cv.glmnet(x = mm, y = y, type.measure = \"class\", parallel = TRUE,      family = \"binomial\", alpha = alpha) \n",
      "\n",
      "Measure: Misclassification Error \n",
      "\n",
      "     Lambda Index Measure      SE Nonzero\n",
      "min 0.01444    29  0.2497 0.01308      94\n",
      "1se 0.08458    10  0.2593 0.01060      16\n",
      "\n",
      "Call:  cv.glmnet(x = mm, y = y, type.measure = \"class\", parallel = TRUE,      family = \"binomial\", alpha = alpha) \n",
      "\n",
      "Measure: Misclassification Error \n",
      "\n",
      "     Lambda Index Measure       SE Nonzero\n",
      "min 0.01636    26  0.2467 0.005067      64\n",
      "1se 0.02859    20  0.2510 0.005093      30\n",
      "\n",
      "Call:  cv.glmnet(x = mm, y = y, type.measure = \"class\", parallel = TRUE,      family = \"binomial\", alpha = alpha) \n",
      "\n",
      "Measure: Misclassification Error \n",
      "\n",
      "     Lambda Index Measure       SE Nonzero\n",
      "min 0.01408    24  0.2450 0.008495      46\n",
      "1se 0.02963    16  0.2533 0.010135      16\n",
      "\n",
      "Call:  cv.glmnet(x = mm, y = y, type.measure = \"class\", parallel = TRUE,      family = \"binomial\", alpha = alpha) \n",
      "\n",
      "Measure: Misclassification Error \n",
      "\n",
      "     Lambda Index Measure       SE Nonzero\n",
      "min 0.00719    31  0.2480 0.008015     111\n",
      "1se 0.03839    13  0.2553 0.006540      16\n"
     ]
    },
    {
     "data": {
      "image/png": "[encoded data removed]",
      "text/plain": [
       "plot without title"
      ]
     },
     "metadata": {
      "image/png": {
       "height": 420,
       "width": 420
      }
     },
     "output_type": "display_data"
    }
   ],
   "source": [
    "library(doParallel)\n",
    "registerDoParallel(4)\n",
    "\n",
    "elastic_fn = function(alpha) {\n",
    "    cvfit <- cv.glmnet(mm, y, family=\"binomial\", type.measure=\"class\", alpha=alpha, parallel=TRUE)\n",
    "    plot(cvfit)\n",
    "    print(cvfit)\n",
    "    cvfit\n",
    "}\n",
    "\n",
    "library(\"purrr\")\n",
    "tuning_alpha = c(0.0, .5, .6, .7, .98, 1.0)\n",
    "\n",
    "par(mfrow=c(2,3))\n",
    "cvfits <- map(tuning_alpha, elastic_fn)\n",
    "\n",
    "# cvfit <- cv.glmnet(mm, y, family = \"binomial\", type.measure = \"class\", alpha=1, parallel=TRUE)\n",
    "# print(cvfit)\n",
    "# plot(cvfit)"
   ]
  },
  {
   "cell_type": "code",
   "execution_count": 324,
   "id": "narrow-founder",
   "metadata": {},
   "outputs": [
    {
     "data": {
      "text/html": [
       "<ol>\n",
       "\t<li>0.00683130051063973</li>\n",
       "\t<li>0.00831776323209463</li>\n",
       "\t<li>0.0111670812526687</li>\n",
       "\t<li>0.00980110852888905</li>\n",
       "\t<li>0.00745687188247224</li>\n",
       "\t<li>0.00825817963380535</li>\n",
       "</ol>\n"
      ],
      "text/latex": [
       "\\begin{enumerate}\n",
       "\\item 0.00683130051063973\n",
       "\\item 0.00831776323209463\n",
       "\\item 0.0111670812526687\n",
       "\\item 0.00980110852888905\n",
       "\\item 0.00745687188247224\n",
       "\\item 0.00825817963380535\n",
       "\\end{enumerate}\n"
      ],
      "text/markdown": [
       "1. 0.00683130051063973\n",
       "2. 0.00831776323209463\n",
       "3. 0.0111670812526687\n",
       "4. 0.00980110852888905\n",
       "5. 0.00745687188247224\n",
       "6. 0.00825817963380535\n",
       "\n",
       "\n"
      ],
      "text/plain": [
       "[[1]]\n",
       "[1] 0.006831301\n",
       "\n",
       "[[2]]\n",
       "[1] 0.008317763\n",
       "\n",
       "[[3]]\n",
       "[1] 0.01116708\n",
       "\n",
       "[[4]]\n",
       "[1] 0.009801109\n",
       "\n",
       "[[5]]\n",
       "[1] 0.007456872\n",
       "\n",
       "[[6]]\n",
       "[1] 0.00825818\n"
      ]
     },
     "metadata": {},
     "output_type": "display_data"
    },
    {
     "data": {
      "image/png": "[encoded data removed]",
      "text/plain": [
       "plot without title"
      ]
     },
     "metadata": {
      "image/png": {
       "height": 420,
       "width": 420
      }
     },
     "output_type": "display_data"
    }
   ],
   "source": [
    "indices_1se <- map(cvfits, function(fit) {fit$cvsd[fit$index[\"1se\",]]} ) \n",
    "par(mfrow=c(2,3))\n",
    "map2(cvfits, indices_1se, function(fit, idx) {plot(fit$cvsd, ylim=c(0, 0.03)) }) %>% invisible\n",
    "cvms <- map2(cvfits, indices_1se, function(fit, idx) { fit$cvsd[[idx]] })\n",
    "cvms"
   ]
  },
  {
   "cell_type": "code",
   "execution_count": 600,
   "id": "appreciated-sussex",
   "metadata": {},
   "outputs": [
    {
     "data": {
      "text/html": [
       "<table class=\"dataframe\">\n",
       "<caption>A matrix: 6 × 1633 of type dbl</caption>\n",
       "<thead>\n",
       "\t<tr><th scope=col>(Intercept)</th><th scope=col>version0.12.0</th><th scope=col>version0.12.1</th><th scope=col>version0.13.3</th><th scope=col>version0.9.2</th><th scope=col>version1.0.0</th><th scope=col>map_nameMap02</th><th scope=col>map_nameMap03</th><th scope=col>map_nameMap04</th><th scope=col>map_nameMap05</th><th scope=col>⋯</th><th scope=col>teams.1.3.gadgets_stats.4.idshd05</th><th scope=col>teams.1.3.gadgets_stats.4.idshd06</th><th scope=col>teams.1.3.gadgets_stats.4.idsprnt01</th><th scope=col>teams.1.3.gadgets_stats.4.idstm01</th><th scope=col>teams.1.3.gadgets_stats.4.idstm02</th><th scope=col>teams.1.3.gadgets_stats.4.idstm03</th><th scope=col>teams.1.3.gadgets_stats.4.idstm04</th><th scope=col>teams.1.3.gadgets_stats.4.idstm05</th><th scope=col>teams.1.3.gadgets_stats.4.cnt</th><th scope=col>t</th></tr>\n",
       "</thead>\n",
       "<tbody>\n",
       "\t<tr><td>1</td><td>0</td><td>0</td><td>1</td><td>0</td><td>0</td><td>0</td><td>0</td><td>0</td><td>0</td><td>⋯</td><td>0</td><td>0</td><td>0</td><td>0</td><td>0</td><td>0</td><td>0</td><td>0</td><td>0</td><td> 80.00335</td></tr>\n",
       "\t<tr><td>1</td><td>0</td><td>0</td><td>0</td><td>0</td><td>0</td><td>0</td><td>0</td><td>0</td><td>0</td><td>⋯</td><td>0</td><td>0</td><td>0</td><td>0</td><td>0</td><td>0</td><td>0</td><td>0</td><td>0</td><td>243.32095</td></tr>\n",
       "\t<tr><td>1</td><td>0</td><td>0</td><td>0</td><td>1</td><td>0</td><td>0</td><td>0</td><td>0</td><td>0</td><td>⋯</td><td>0</td><td>0</td><td>0</td><td>0</td><td>0</td><td>0</td><td>0</td><td>0</td><td>0</td><td> 84.58365</td></tr>\n",
       "\t<tr><td>1</td><td>0</td><td>0</td><td>0</td><td>0</td><td>0</td><td>0</td><td>0</td><td>1</td><td>0</td><td>⋯</td><td>0</td><td>0</td><td>0</td><td>0</td><td>0</td><td>0</td><td>0</td><td>0</td><td>0</td><td> 76.41979</td></tr>\n",
       "\t<tr><td>1</td><td>0</td><td>0</td><td>0</td><td>1</td><td>0</td><td>0</td><td>0</td><td>0</td><td>0</td><td>⋯</td><td>0</td><td>0</td><td>0</td><td>0</td><td>0</td><td>0</td><td>0</td><td>0</td><td>0</td><td>152.01454</td></tr>\n",
       "\t<tr><td>1</td><td>0</td><td>0</td><td>0</td><td>0</td><td>0</td><td>0</td><td>0</td><td>0</td><td>0</td><td>⋯</td><td>0</td><td>0</td><td>0</td><td>0</td><td>0</td><td>0</td><td>0</td><td>0</td><td>0</td><td>122.96463</td></tr>\n",
       "</tbody>\n",
       "</table>\n"
      ],
      "text/latex": [
       "A matrix: 6 × 1633 of type dbl\n",
       "\\begin{tabular}{lllllllllllllllllllll}\n",
       " (Intercept) & version0.12.0 & version0.12.1 & version0.13.3 & version0.9.2 & version1.0.0 & map\\_nameMap02 & map\\_nameMap03 & map\\_nameMap04 & map\\_nameMap05 & ⋯ & teams.1.3.gadgets\\_stats.4.idshd05 & teams.1.3.gadgets\\_stats.4.idshd06 & teams.1.3.gadgets\\_stats.4.idsprnt01 & teams.1.3.gadgets\\_stats.4.idstm01 & teams.1.3.gadgets\\_stats.4.idstm02 & teams.1.3.gadgets\\_stats.4.idstm03 & teams.1.3.gadgets\\_stats.4.idstm04 & teams.1.3.gadgets\\_stats.4.idstm05 & teams.1.3.gadgets\\_stats.4.cnt & t\\\\\n",
       "\\hline\n",
       "\t 1 & 0 & 0 & 1 & 0 & 0 & 0 & 0 & 0 & 0 & ⋯ & 0 & 0 & 0 & 0 & 0 & 0 & 0 & 0 & 0 &  80.00335\\\\\n",
       "\t 1 & 0 & 0 & 0 & 0 & 0 & 0 & 0 & 0 & 0 & ⋯ & 0 & 0 & 0 & 0 & 0 & 0 & 0 & 0 & 0 & 243.32095\\\\\n",
       "\t 1 & 0 & 0 & 0 & 1 & 0 & 0 & 0 & 0 & 0 & ⋯ & 0 & 0 & 0 & 0 & 0 & 0 & 0 & 0 & 0 &  84.58365\\\\\n",
       "\t 1 & 0 & 0 & 0 & 0 & 0 & 0 & 0 & 1 & 0 & ⋯ & 0 & 0 & 0 & 0 & 0 & 0 & 0 & 0 & 0 &  76.41979\\\\\n",
       "\t 1 & 0 & 0 & 0 & 1 & 0 & 0 & 0 & 0 & 0 & ⋯ & 0 & 0 & 0 & 0 & 0 & 0 & 0 & 0 & 0 & 152.01454\\\\\n",
       "\t 1 & 0 & 0 & 0 & 0 & 0 & 0 & 0 & 0 & 0 & ⋯ & 0 & 0 & 0 & 0 & 0 & 0 & 0 & 0 & 0 & 122.96463\\\\\n",
       "\\end{tabular}\n"
      ],
      "text/markdown": [
       "\n",
       "A matrix: 6 × 1633 of type dbl\n",
       "\n",
       "| (Intercept) | version0.12.0 | version0.12.1 | version0.13.3 | version0.9.2 | version1.0.0 | map_nameMap02 | map_nameMap03 | map_nameMap04 | map_nameMap05 | ⋯ | teams.1.3.gadgets_stats.4.idshd05 | teams.1.3.gadgets_stats.4.idshd06 | teams.1.3.gadgets_stats.4.idsprnt01 | teams.1.3.gadgets_stats.4.idstm01 | teams.1.3.gadgets_stats.4.idstm02 | teams.1.3.gadgets_stats.4.idstm03 | teams.1.3.gadgets_stats.4.idstm04 | teams.1.3.gadgets_stats.4.idstm05 | teams.1.3.gadgets_stats.4.cnt | t |\n",
       "|---|---|---|---|---|---|---|---|---|---|---|---|---|---|---|---|---|---|---|---|---|\n",
       "| 1 | 0 | 0 | 1 | 0 | 0 | 0 | 0 | 0 | 0 | ⋯ | 0 | 0 | 0 | 0 | 0 | 0 | 0 | 0 | 0 |  80.00335 |\n",
       "| 1 | 0 | 0 | 0 | 0 | 0 | 0 | 0 | 0 | 0 | ⋯ | 0 | 0 | 0 | 0 | 0 | 0 | 0 | 0 | 0 | 243.32095 |\n",
       "| 1 | 0 | 0 | 0 | 1 | 0 | 0 | 0 | 0 | 0 | ⋯ | 0 | 0 | 0 | 0 | 0 | 0 | 0 | 0 | 0 |  84.58365 |\n",
       "| 1 | 0 | 0 | 0 | 0 | 0 | 0 | 0 | 1 | 0 | ⋯ | 0 | 0 | 0 | 0 | 0 | 0 | 0 | 0 | 0 |  76.41979 |\n",
       "| 1 | 0 | 0 | 0 | 1 | 0 | 0 | 0 | 0 | 0 | ⋯ | 0 | 0 | 0 | 0 | 0 | 0 | 0 | 0 | 0 | 152.01454 |\n",
       "| 1 | 0 | 0 | 0 | 0 | 0 | 0 | 0 | 0 | 0 | ⋯ | 0 | 0 | 0 | 0 | 0 | 0 | 0 | 0 | 0 | 122.96463 |\n",
       "\n"
      ],
      "text/plain": [
       "     (Intercept) version0.12.0 version0.12.1 version0.13.3 version0.9.2\n",
       "[1,] 1           0             0             1             0           \n",
       "[2,] 1           0             0             0             0           \n",
       "[3,] 1           0             0             0             1           \n",
       "[4,] 1           0             0             0             0           \n",
       "[5,] 1           0             0             0             1           \n",
       "[6,] 1           0             0             0             0           \n",
       "     version1.0.0 map_nameMap02 map_nameMap03 map_nameMap04 map_nameMap05 ⋯\n",
       "[1,] 0            0             0             0             0             ⋯\n",
       "[2,] 0            0             0             0             0             ⋯\n",
       "[3,] 0            0             0             0             0             ⋯\n",
       "[4,] 0            0             0             1             0             ⋯\n",
       "[5,] 0            0             0             0             0             ⋯\n",
       "[6,] 0            0             0             0             0             ⋯\n",
       "     teams.1.3.gadgets_stats.4.idshd05 teams.1.3.gadgets_stats.4.idshd06\n",
       "[1,] 0                                 0                                \n",
       "[2,] 0                                 0                                \n",
       "[3,] 0                                 0                                \n",
       "[4,] 0                                 0                                \n",
       "[5,] 0                                 0                                \n",
       "[6,] 0                                 0                                \n",
       "     teams.1.3.gadgets_stats.4.idsprnt01 teams.1.3.gadgets_stats.4.idstm01\n",
       "[1,] 0                                   0                                \n",
       "[2,] 0                                   0                                \n",
       "[3,] 0                                   0                                \n",
       "[4,] 0                                   0                                \n",
       "[5,] 0                                   0                                \n",
       "[6,] 0                                   0                                \n",
       "     teams.1.3.gadgets_stats.4.idstm02 teams.1.3.gadgets_stats.4.idstm03\n",
       "[1,] 0                                 0                                \n",
       "[2,] 0                                 0                                \n",
       "[3,] 0                                 0                                \n",
       "[4,] 0                                 0                                \n",
       "[5,] 0                                 0                                \n",
       "[6,] 0                                 0                                \n",
       "     teams.1.3.gadgets_stats.4.idstm04 teams.1.3.gadgets_stats.4.idstm05\n",
       "[1,] 0                                 0                                \n",
       "[2,] 0                                 0                                \n",
       "[3,] 0                                 0                                \n",
       "[4,] 0                                 0                                \n",
       "[5,] 0                                 0                                \n",
       "[6,] 0                                 0                                \n",
       "     teams.1.3.gadgets_stats.4.cnt t        \n",
       "[1,] 0                              80.00335\n",
       "[2,] 0                             243.32095\n",
       "[3,] 0                              84.58365\n",
       "[4,] 0                              76.41979\n",
       "[5,] 0                             152.01454\n",
       "[6,] 0                             122.96463"
      ]
     },
     "metadata": {},
     "output_type": "display_data"
    }
   ],
   "source": [
    "gen_test_model_matrix = function(fname, train_mm, data_len=10000) {\n",
    "    df <- fread(fname)\n",
    "    dim(df)\n",
    "    \n",
    "    tmp <- which(colSums(is.na(df)) < 1) # remove columns with >20% of NAs   dim(df)[[1]]/5\n",
    "    df <- df[, ..tmp]\n",
    "    dim(df)\n",
    "    \n",
    "    tmp <- (names(df) %in% c(\"players.0.ai\", \"players.1.ai\", \"id\", \"players.1.player_id\", \"players.0.player_id\")) # those values are irrelevant\n",
    "    df <- df[, -..tmp]\n",
    "    dim(df)\n",
    "#     df <- df[sample(nrow(df), data_len), ]\n",
    "    t <- df[,\"t\"]\n",
    "    df <- df %>% select(-\"t\")\n",
    "    dim(df)\n",
    "    \n",
    "    mm <- model.matrix(~., df)\n",
    "    mm <- cbind(mm, t)\n",
    "    mm <- as.matrix(mm)\n",
    "    invisible(gc())\n",
    "    mm\n",
    "}\n",
    "\n",
    "\n",
    "test_mm <- gen_test_model_matrix(TEST_DATA_FNAME, mm, 20000)\n",
    "\n",
    "\n",
    "head(test_mm)\n",
    "\n",
    "# cvfit %>% predict(as.matrix(test_mm), type=\"response\")"
   ]
  },
  {
   "cell_type": "code",
   "execution_count": 601,
   "id": "lovely-tattoo",
   "metadata": {},
   "outputs": [
    {
     "data": {
      "text/html": [
       "<style>\n",
       ".list-inline {list-style: none; margin:0; padding: 0}\n",
       ".list-inline>li {display: inline-block}\n",
       ".list-inline>li:not(:last-child)::after {content: \"\\00b7\"; padding: 0 .5ex}\n",
       "</style>\n",
       "<ol class=list-inline><li>20000</li><li>1633</li></ol>\n"
      ],
      "text/latex": [
       "\\begin{enumerate*}\n",
       "\\item 20000\n",
       "\\item 1633\n",
       "\\end{enumerate*}\n"
      ],
      "text/markdown": [
       "1. 20000\n",
       "2. 1633\n",
       "\n",
       "\n"
      ],
      "text/plain": [
       "[1] 20000  1633"
      ]
     },
     "metadata": {},
     "output_type": "display_data"
    },
    {
     "data": {
      "text/html": [
       "<style>\n",
       ".list-inline {list-style: none; margin:0; padding: 0}\n",
       ".list-inline>li {display: inline-block}\n",
       ".list-inline>li:not(:last-child)::after {content: \"\\00b7\"; padding: 0 .5ex}\n",
       "</style>\n",
       "<ol class=list-inline><li>38658</li><li>300</li></ol>\n"
      ],
      "text/latex": [
       "\\begin{enumerate*}\n",
       "\\item 38658\n",
       "\\item 300\n",
       "\\end{enumerate*}\n"
      ],
      "text/markdown": [
       "1. 38658\n",
       "2. 300\n",
       "\n",
       "\n"
      ],
      "text/plain": [
       "[1] 38658   300"
      ]
     },
     "metadata": {},
     "output_type": "display_data"
    },
    {
     "data": {
      "text/html": [
       "<style>\n",
       ".list-inline {list-style: none; margin:0; padding: 0}\n",
       ".list-inline>li {display: inline-block}\n",
       ".list-inline>li:not(:last-child)::after {content: \"\\00b7\"; padding: 0 .5ex}\n",
       "</style>\n",
       "<ol class=list-inline><li>20000</li><li>300</li></ol>\n"
      ],
      "text/latex": [
       "\\begin{enumerate*}\n",
       "\\item 20000\n",
       "\\item 300\n",
       "\\end{enumerate*}\n"
      ],
      "text/markdown": [
       "1. 20000\n",
       "2. 300\n",
       "\n",
       "\n"
      ],
      "text/plain": [
       "[1] 20000   300"
      ]
     },
     "metadata": {},
     "output_type": "display_data"
    }
   ],
   "source": [
    "test_mm %>% dim\n",
    "mm %>% dim\n",
    "\n",
    "cleaned_test_mm <- test_mm[,which(colnames(test_mm) %in% colnames(mm))]\n",
    "cleaned_test_mm %>% dim"
   ]
  },
  {
   "cell_type": "code",
   "execution_count": 602,
   "id": "generic-camera",
   "metadata": {},
   "outputs": [
    {
     "data": {
      "text/html": [],
      "text/latex": [],
      "text/markdown": [],
      "text/plain": [
       "character(0)"
      ]
     },
     "metadata": {},
     "output_type": "display_data"
    },
    {
     "data": {
      "text/html": [],
      "text/latex": [],
      "text/markdown": [],
      "text/plain": [
       "integer(0)"
      ]
     },
     "metadata": {},
     "output_type": "display_data"
    },
    {
     "data": {
      "text/html": [
       "<style>\n",
       ".list-inline {list-style: none; margin:0; padding: 0}\n",
       ".list-inline>li {display: inline-block}\n",
       ".list-inline>li:not(:last-child)::after {content: \"\\00b7\"; padding: 0 .5ex}\n",
       "</style>\n",
       "<ol class=list-inline><li>20000</li><li>300</li></ol>\n"
      ],
      "text/latex": [
       "\\begin{enumerate*}\n",
       "\\item 20000\n",
       "\\item 300\n",
       "\\end{enumerate*}\n"
      ],
      "text/markdown": [
       "1. 20000\n",
       "2. 300\n",
       "\n",
       "\n"
      ],
      "text/plain": [
       "[1] 20000   300"
      ]
     },
     "metadata": {},
     "output_type": "display_data"
    }
   ],
   "source": [
    "setdiff(colnames(mm), colnames(cleaned_test_mm))\n",
    "\n",
    "dummy_indices <- which(colnames(mm) %in% setdiff(colnames(mm), colnames(cleaned_test_mm)))\n",
    "dummy_indices\n",
    "\n",
    "for (idx in dummy_indices) {\n",
    "    cname = colnames(mm)[[idx]] # paste(\"dummy\", idx, sep=\"\")\n",
    "    total_cols = ncol(cleaned_test_mm)\n",
    "    total_rows = nrow(cleaned_test_mm)\n",
    "#     dummy_col = data.frame(0, nrow=20000)\n",
    "#     head(dummy_col) %>% print\n",
    "    cleaned_test_mm <- cbind(cleaned_test_mm[,1:(idx-1)], 0, cleaned_test_mm[,idx:ncol(cleaned_test_mm)])\n",
    "    colnames(cleaned_test_mm)[idx] <- cname\n",
    "    dummy_id = dummy_id + 1\n",
    "}\n",
    "\n",
    "\n",
    "cleaned_test_mm <- scale(cleaned_test_mm, center=attr(mm, \"scaled:center\"), scale=attr(mm, \"scaled:scale\"))\n",
    "\n",
    "dim(cleaned_test_mm)"
   ]
  },
  {
   "cell_type": "code",
   "execution_count": 377,
   "id": "referenced-vulnerability",
   "metadata": {},
   "outputs": [
    {
     "data": {
      "text/html": [
       "<style>\n",
       ".list-inline {list-style: none; margin:0; padding: 0}\n",
       ".list-inline>li {display: inline-block}\n",
       ".list-inline>li:not(:last-child)::after {content: \"\\00b7\"; padding: 0 .5ex}\n",
       "</style>\n",
       "<ol class=list-inline><li>38658</li><li>200</li></ol>\n"
      ],
      "text/latex": [
       "\\begin{enumerate*}\n",
       "\\item 38658\n",
       "\\item 200\n",
       "\\end{enumerate*}\n"
      ],
      "text/markdown": [
       "1. 38658\n",
       "2. 200\n",
       "\n",
       "\n"
      ],
      "text/plain": [
       "[1] 38658   200"
      ]
     },
     "metadata": {},
     "output_type": "display_data"
    },
    {
     "data": {
      "text/html": [
       "<style>\n",
       ".list-inline {list-style: none; margin:0; padding: 0}\n",
       ".list-inline>li {display: inline-block}\n",
       ".list-inline>li:not(:last-child)::after {content: \"\\00b7\"; padding: 0 .5ex}\n",
       "</style>\n",
       "<ol class=list-inline><li>20000</li><li>200</li></ol>\n"
      ],
      "text/latex": [
       "\\begin{enumerate*}\n",
       "\\item 20000\n",
       "\\item 200\n",
       "\\end{enumerate*}\n"
      ],
      "text/markdown": [
       "1. 20000\n",
       "2. 200\n",
       "\n",
       "\n"
      ],
      "text/plain": [
       "[1] 20000   200"
      ]
     },
     "metadata": {},
     "output_type": "display_data"
    },
    {
     "data": {
      "text/html": [
       "NA"
      ],
      "text/latex": [
       "NA"
      ],
      "text/markdown": [
       "NA"
      ],
      "text/plain": [
       "[1] NA"
      ]
     },
     "metadata": {},
     "output_type": "display_data"
    },
    {
     "data": {
      "text/html": [
       "NA"
      ],
      "text/latex": [
       "NA"
      ],
      "text/markdown": [
       "NA"
      ],
      "text/plain": [
       "[1] NA"
      ]
     },
     "metadata": {},
     "output_type": "display_data"
    }
   ],
   "source": [
    "mm %>% dim\n",
    "cleaned_test_mm %>% dim\n",
    "\n",
    "colnames(cleaned_test_mm)[1608]\n",
    "colnames(mm)[1608]"
   ]
  },
  {
   "cell_type": "code",
   "execution_count": 329,
   "id": "cheap-today",
   "metadata": {},
   "outputs": [
    {
     "data": {
      "text/html": [
       "<table class=\"dataframe\">\n",
       "<caption>A matrix: 6 × 1 of type dbl</caption>\n",
       "<thead>\n",
       "\t<tr><th scope=col>1</th></tr>\n",
       "</thead>\n",
       "<tbody>\n",
       "\t<tr><td>0.4282154</td></tr>\n",
       "\t<tr><td>0.4887874</td></tr>\n",
       "\t<tr><td>0.2695679</td></tr>\n",
       "\t<tr><td>0.4842705</td></tr>\n",
       "\t<tr><td>0.4897907</td></tr>\n",
       "\t<tr><td>0.6157563</td></tr>\n",
       "</tbody>\n",
       "</table>\n"
      ],
      "text/latex": [
       "A matrix: 6 × 1 of type dbl\n",
       "\\begin{tabular}{l}\n",
       " 1\\\\\n",
       "\\hline\n",
       "\t 0.4282154\\\\\n",
       "\t 0.4887874\\\\\n",
       "\t 0.2695679\\\\\n",
       "\t 0.4842705\\\\\n",
       "\t 0.4897907\\\\\n",
       "\t 0.6157563\\\\\n",
       "\\end{tabular}\n"
      ],
      "text/markdown": [
       "\n",
       "A matrix: 6 × 1 of type dbl\n",
       "\n",
       "| 1 |\n",
       "|---|\n",
       "| 0.4282154 |\n",
       "| 0.4887874 |\n",
       "| 0.2695679 |\n",
       "| 0.4842705 |\n",
       "| 0.4897907 |\n",
       "| 0.6157563 |\n",
       "\n"
      ],
      "text/plain": [
       "     1        \n",
       "[1,] 0.4282154\n",
       "[2,] 0.4887874\n",
       "[3,] 0.2695679\n",
       "[4,] 0.4842705\n",
       "[5,] 0.4897907\n",
       "[6,] 0.6157563"
      ]
     },
     "metadata": {},
     "output_type": "display_data"
    }
   ],
   "source": [
    "result <- predict(cvfits[[4]], newx=cleaned_test_mm, s='lambda.min', type=\"response\") \n",
    "result %>% head\n",
    "\n",
    "store = function(result, fname) {\n",
    "    write.table(result, file=fname, sep=\"\", row.names=FALSE, col.names=FALSE)\n",
    "}\n",
    "store(result, fname=\"glmnet_3k_var_300.txt\")"
   ]
  },
  {
   "cell_type": "code",
   "execution_count": 130,
   "id": "through-fields",
   "metadata": {},
   "outputs": [
    {
     "data": {
      "image/png": "[encoded data removed]",
      "text/plain": [
       "Plot with title “Histogram of result”"
      ]
     },
     "metadata": {
      "image/png": {
       "height": 420,
       "width": 420
      }
     },
     "output_type": "display_data"
    },
    {
     "data": {
      "image/png": "[encoded data removed]",
      "text/plain": [
       "Plot with title “Histogram of .”"
      ]
     },
     "metadata": {
      "image/png": {
       "height": 420,
       "width": 420
      }
     },
     "output_type": "display_data"
    }
   ],
   "source": [
    "hist(result)\n",
    "\n",
    "postprocess = function(result) {\n",
    "    th_plus = 0.90\n",
    "    th_minus = 1 - th_plus\n",
    "    sapply(result, function(x) {if (x > th_plus) {1} else if (x < th_minus) {0} else {x}})\n",
    "}\n",
    "\n",
    "result %>% postprocess %>% hist\n",
    "result %>% postprocess %>% store(fname=\"glmnet_full_th90.txt\")"
   ]
  },
  {
   "cell_type": "code",
   "execution_count": 126,
   "id": "still-blade",
   "metadata": {},
   "outputs": [
    {
     "data": {
      "text/html": [
       "<style>\n",
       ".list-inline {list-style: none; margin:0; padding: 0}\n",
       ".list-inline>li {display: inline-block}\n",
       ".list-inline>li:not(:last-child)::after {content: \"\\00b7\"; padding: 0 .5ex}\n",
       "</style>\n",
       "<ol class=list-inline><li>20000</li><li>1578</li></ol>\n"
      ],
      "text/latex": [
       "\\begin{enumerate*}\n",
       "\\item 20000\n",
       "\\item 1578\n",
       "\\end{enumerate*}\n"
      ],
      "text/markdown": [
       "1. 20000\n",
       "2. 1578\n",
       "\n",
       "\n"
      ],
      "text/plain": [
       "[1] 20000  1578"
      ]
     },
     "metadata": {},
     "output_type": "display_data"
    },
    {
     "data": {
      "text/html": [
       "<style>\n",
       ".list-inline {list-style: none; margin:0; padding: 0}\n",
       ".list-inline>li {display: inline-block}\n",
       ".list-inline>li:not(:last-child)::after {content: \"\\00b7\"; padding: 0 .5ex}\n",
       "</style>\n",
       "<ol class=list-inline><li>3000</li><li>1579</li></ol>\n"
      ],
      "text/latex": [
       "\\begin{enumerate*}\n",
       "\\item 3000\n",
       "\\item 1579\n",
       "\\end{enumerate*}\n"
      ],
      "text/markdown": [
       "1. 3000\n",
       "2. 1579\n",
       "\n",
       "\n"
      ],
      "text/plain": [
       "[1] 3000 1579"
      ]
     },
     "metadata": {},
     "output_type": "display_data"
    },
    {
     "data": {
      "text/html": [
       "1560"
      ],
      "text/latex": [
       "1560"
      ],
      "text/markdown": [
       "1560"
      ],
      "text/plain": [
       "[1] 1560"
      ]
     },
     "metadata": {},
     "output_type": "display_data"
    },
    {
     "data": {
      "text/html": [
       "'teams.1.3.gadgets_stats.4.idmin01'"
      ],
      "text/latex": [
       "'teams.1.3.gadgets\\_stats.4.idmin01'"
      ],
      "text/markdown": [
       "'teams.1.3.gadgets_stats.4.idmin01'"
      ],
      "text/plain": [
       "[1] \"teams.1.3.gadgets_stats.4.idmin01\""
      ]
     },
     "metadata": {},
     "output_type": "display_data"
    }
   ],
   "source": [
    "# cvfit %>% predict(as.matrix(test_mm), type=\"response\")\n",
    "# dim(test_mm)\n",
    "# dim(mm)\n",
    "\n",
    "test_mm <- test_mm[,which(colnames(test_mm) %in% colnames(mm))]\n",
    "dim(test_mm)\n",
    "dim(mm)\n",
    "# test_mm[,\"winner\"]\n",
    "# mm[,\"winner\"]\n",
    "# cvfit %>% predict(as.matrix(test_mm), type=\"response\")\n",
    "\n",
    "# mm[,-which(colnames(mm) %in% colnames(test_mm))]\n",
    "setdiff(1:1579, which(colnames(mm) %in% colnames(test_mm)))\n",
    "colnames(mm)[1560]"
   ]
  }
 ],
 "metadata": {
  "kernelspec": {
   "display_name": "R",
   "language": "R",
   "name": "ir"
  },
  "language_info": {
   "codemirror_mode": "r",
   "file_extension": ".r",
   "mimetype": "text/x-r-source",
   "name": "R",
   "pygments_lexer": "r",
   "version": "4.0.4"
  }
 },
 "nbformat": 4,
 "nbformat_minor": 5
}
