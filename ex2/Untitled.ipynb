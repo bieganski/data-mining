{
 "cells": [
  {
   "cell_type": "code",
   "execution_count": 6,
   "id": "fitted-symphony",
   "metadata": {},
   "outputs": [],
   "source": [
    "import pandas as pd\n",
    "import numpy as np\n",
    "import matplotlib.pyplot as plt\n",
    "\n",
    "from sklearn.model_selection import train_test_split\n",
    "from sklearn.preprocessing import StandardScaler\n",
    "from sklearn.ensemble import GradientBoostingClassifier\n",
    "from sklearn.metrics import auc, mean_squared_error\n",
    "from sklearn.metrics import roc_auc_score\n",
    "mse = mean_squared_error\n",
    "\n",
    "TRAIN_FNAME = \"training_data_tabular_format.csv\"\n",
    "TEST_FNAME = \"test_data_tabular_format.csv\"\n",
    "\n",
    "from pprint import pprint\n",
    "pdd = lambda x: pprint(dir(x))\n",
    "pt = lambda x: print(type(x))\n",
    "\n",
    "import beepy\n",
    "BEEP = lambda: beepy.beep()"
   ]
  },
  {
   "cell_type": "code",
   "execution_count": 2,
   "id": "moved-halloween",
   "metadata": {},
   "outputs": [],
   "source": [
    "from functools import reduce\n",
    "def call(f, **fkwargs):\n",
    "    def g(*args, **gkwargs):\n",
    "        gkwargs.update(fkwargs)\n",
    "        return f(*args, **gkwargs)\n",
    "    return g\n",
    "\n",
    "\n",
    "dftype = pd.core.frame.DataFrame\n",
    "\n",
    "def encode(df):\n",
    "    enc = OneHotEncoder(handle_unknown='ignore')\n",
    "    enc.fit(df)\n",
    "    arr = enc.transform(df).toarray()\n",
    "    return arr\n",
    "\n",
    "DROP_COLUMNS = [\n",
    "    \"version\", \n",
    "    \"players.0.ai\", \n",
    "    \"players.1.ai\", \n",
    "    \"id\", \n",
    "    \"players.1.player_id\", \n",
    "    \"players.0.player_id\",\n",
    "]"
   ]
  },
  {
   "cell_type": "code",
   "execution_count": 3,
   "id": "crucial-miami",
   "metadata": {},
   "outputs": [
    {
     "name": "stdout",
     "output_type": "stream",
     "text": [
      "(38658, 1721) (38658,) (20000, 1721)\n"
     ]
    }
   ],
   "source": [
    "DATA_LEN = 10000\n",
    "PREP_TRAIN_STEPS = [\n",
    "    call(dftype.drop, axis=1, labels=DROP_COLUMNS),\n",
    "#     call(dftype.sample, n=DATA_LEN),\n",
    "    call(dftype.fillna, value=-1),\n",
    "    call(dftype.dropna, axis=\"columns\"),\n",
    "    pd.get_dummies,\n",
    "#     encode,\n",
    "]\n",
    "\n",
    "PREP_TEST_STEPS = PREP_TRAIN_STEPS\n",
    "\n",
    "Y_COLNAME = \"winner\"\n",
    "\n",
    "def split_train(df, ycolname=Y_COLNAME):\n",
    "    y = df[ycolname]\n",
    "    df.drop(ycolname, axis=1, inplace=True)\n",
    "    x = df\n",
    "    return df, y\n",
    "\n",
    "def preprocess(df, step_fns, const_len=False):\n",
    "    if not const_len:\n",
    "        return reduce(lambda df, f: f(df), step_fns, df)\n",
    "    else:\n",
    "        for i, f in enumerate(step_fns):\n",
    "            df_copy = df.copy()\n",
    "            df = f(df)\n",
    "            prev, cur = df_copy.shape[0], df.shape[0]\n",
    "            if (prev != cur):\n",
    "                print(f\"Skipping function {i}, as it would change len from {prev} to {cur}\")\n",
    "                df = df_copy\n",
    "                continue\n",
    "        return df\n",
    "\n",
    "def preprocess_train(df):\n",
    "    return preprocess(df, PREP_TRAIN_STEPS)\n",
    "\n",
    "def preprocess_test(df, train_df):\n",
    "    return preprocess(df, PREP_TEST_STEPS, const_len=True)\n",
    "\n",
    "def get_datasets(train_df, test_df):\n",
    "    X_train = preprocess_train(train_df)\n",
    "    X_test = preprocess_test(test_df, X_train)\n",
    "    \n",
    "    X_train, Y = split_train(X_train)\n",
    "    \n",
    "    common_columns = X_train.columns.intersection(X_test.columns)\n",
    "    X_train = X_train[common_columns]\n",
    "    X_test = X_test[common_columns]\n",
    "    \n",
    "    assert all([x == y for x, y in zip(X_train.columns, X_test.columns)])\n",
    "    \n",
    "    scaler = StandardScaler().fit(X_train)\n",
    "    X_train = scaler.transform(X_train)\n",
    "    X_test = scaler.transform(X_test)\n",
    "\n",
    "#     scoring_data = scaler.transform(scoring_data)\n",
    "#     pt(scoring_data)\n",
    "# np.isnan(X_train).any()\n",
    "    \n",
    "    return X_train, Y, X_test\n",
    "    \n",
    "\n",
    "X_train, Y_train, X_test = get_datasets(pd.read_csv(TRAIN_FNAME), pd.read_csv(TEST_FNAME))\n",
    "\n",
    "print(X_train.shape, Y_train.shape, X_test.shape)"
   ]
  },
  {
   "cell_type": "code",
   "execution_count": 295,
   "id": "pleasant-stupid",
   "metadata": {},
   "outputs": [],
   "source": [
    "XT, XV, YT, YV = train_test_split(X_train,Y_train,test_size=0.1,random_state=43)"
   ]
  },
  {
   "cell_type": "code",
   "execution_count": 202,
   "id": "complimentary-shower",
   "metadata": {},
   "outputs": [],
   "source": [
    "# X_transformed\n",
    "XT, XV, YT, YV = train_test_split(whitened,Y_train,test_size=0.3,random_state=42)"
   ]
  },
  {
   "cell_type": "code",
   "execution_count": 198,
   "id": "prompt-timer",
   "metadata": {},
   "outputs": [
    {
     "name": "stdout",
     "output_type": "stream",
     "text": [
      "(10000, 300)\n"
     ]
    }
   ],
   "source": [
    "from sklearn.decomposition import FastICA, PCA\n",
    "\n",
    "pca = PCA(n_components=300, whiten=True)\n",
    "whitened = pca.fit_transform(X_train)\n",
    "print(whitened.shape)\n",
    "    \n",
    "# transformer = FastICA(\n",
    "#     n_components=None,\n",
    "#     random_state=42,\n",
    "#     algorithm='parallel', \n",
    "#     whiten=True, \n",
    "#     fun='logcosh', \n",
    "#     fun_args=None, \n",
    "#     max_iter=400, \n",
    "#     tol=0.001, \n",
    "#     w_init=None, \n",
    "# )\n",
    "# X_transformed = transformer.fit_transform(X_train)\n",
    "# X_transformed.shape\n",
    "BEEP()"
   ]
  },
  {
   "cell_type": "code",
   "execution_count": 218,
   "id": "white-overhead",
   "metadata": {},
   "outputs": [
    {
     "name": "stderr",
     "output_type": "stream",
     "text": [
      "/home/mateusz/.local/lib/python3.8/site-packages/xgboost/sklearn.py:1146: UserWarning: The use of label encoder in XGBClassifier is deprecated and will be removed in a future release. To remove this warning, do the following: 1) Pass option use_label_encoder=False when constructing XGBClassifier object; and 2) Encode your labels (y) as integers starting with 0, i.e. 0, 1, 2, ..., [num_class - 1].\n",
      "  warnings.warn(label_encoder_deprecation_msg, UserWarning)\n"
     ]
    },
    {
     "data": {
      "text/plain": [
       "0.8528551726468245"
      ]
     },
     "execution_count": 218,
     "metadata": {},
     "output_type": "execute_result"
    }
   ],
   "source": [
    "from xgboost import XGBClassifier\n",
    "model = XGBClassifier(\n",
    "    verbosity=1,\n",
    "    n_estimators=200,\n",
    "    eval_metric=\"error\",\n",
    "    max_depth=3,\n",
    "    gamma=0.5,\n",
    "#     min_child_weight=111,\n",
    "#     max_delta_step=111,\n",
    "#     subsample=111,\n",
    ")\n",
    "# model.score\n",
    "model.fit(XT, YT)\n",
    "model.score(XV, YV)\n",
    "from sklearn.metrics import roc_auc_score\n",
    "roc_auc_score(YV, model.predict_proba(XV)[:,1])"
   ]
  },
  {
   "cell_type": "code",
   "execution_count": 12,
   "id": "bigger-juice",
   "metadata": {},
   "outputs": [
    {
     "name": "stdout",
     "output_type": "stream",
     "text": [
      "Accuracy: 78.81%\n"
     ]
    },
    {
     "data": {
      "image/png": "[encoded data removed]",
      "text/plain": [
       "<Figure size 360x360 with 1 Axes>"
      ]
     },
     "metadata": {},
     "output_type": "display_data"
    },
    {
     "data": {
      "image/png": "[encoded data removed]",
      "text/plain": [
       "<Figure size 360x360 with 1 Axes>"
      ]
     },
     "metadata": {},
     "output_type": "display_data"
    },
    {
     "data": {
      "image/png": "[encoded data removed]",
      "text/plain": [
       "<Figure size 360x360 with 1 Axes>"
      ]
     },
     "metadata": {},
     "output_type": "display_data"
    }
   ],
   "source": [
    "\n",
    "import warnings\n",
    "warnings.filterwarnings(\"ignore\")\n",
    "\n",
    "# load libraries\n",
    "from numpy import loadtxt\n",
    "from xgboost import XGBClassifier\n",
    "from sklearn.model_selection import train_test_split\n",
    "from sklearn.metrics import accuracy_score\n",
    "from matplotlib import pyplot\n",
    "import matplotlib.pyplot as plt    \n",
    "\n",
    "plt.style.use('ggplot')    \n",
    "\n",
    "# split data into train and test sets\n",
    "XT, XV, YT, YV = train_test_split(X_train,Y_train,test_size=0.3,random_state=42321)\n",
    "\n",
    "# fit model no training data\n",
    "model = XGBClassifier(\n",
    "    verbosity=1,\n",
    "    learning_rate=0.1,\n",
    "    n_estimators=500,\n",
    "#     eval_metric=\"error\",\n",
    "    max_depth=3,\n",
    "    subsample=0.5,\n",
    "    min_child_weight=75,\n",
    "    gamma=25,\n",
    "#     reg_lambda=20,\n",
    "#     max_delta_step=10,\n",
    ")\n",
    "\n",
    "eval_set = [(XT, YT), (XV, YV)]\n",
    "model.fit(XT, YT, eval_metric=[\"error\", \"logloss\", \"auc\"], eval_set=eval_set, verbose=False)\n",
    "\n",
    "# make predictions for test data\n",
    "y_pred = model.predict(XV)\n",
    "predictions = [round(value) for value in y_pred]\n",
    "\n",
    "# evaluate predictions\n",
    "accuracy = accuracy_score(YV, predictions)\n",
    "print(\"Accuracy: %.2f%%\" % (accuracy * 100.0))\n",
    "\n",
    "# retrieve performance metrics\n",
    "results = model.evals_result()\n",
    "epochs = len(results['validation_0']['error'])\n",
    "x_axis = range(0, epochs)\n",
    "\n",
    "# plot log loss\n",
    "fig, ax = pyplot.subplots(figsize=(5,5))\n",
    "ax.plot(x_axis, results['validation_0']['logloss'], label='Train')\n",
    "ax.plot(x_axis, results['validation_1']['logloss'], label='Test')\n",
    "ax.legend()\n",
    "\n",
    "pyplot.ylabel('Log Loss')\n",
    "pyplot.title('XGBoost Log Loss')\n",
    "pyplot.show()\n",
    "\n",
    "\n",
    "# plot classification error\n",
    "fig, ax = pyplot.subplots(figsize=(5,5))\n",
    "ax.plot(x_axis, results['validation_0']['error'], label='Train')\n",
    "ax.plot(x_axis, results['validation_1']['error'], label='Test')\n",
    "ax.legend()\n",
    "pyplot.ylabel('Classification Error')\n",
    "pyplot.title('XGBoost Classification Error')\n",
    "pyplot.show()\n",
    "\n",
    "fig, ax = pyplot.subplots(figsize=(5,5))\n",
    "ax.plot(x_axis, results['validation_0']['auc'], label='Train')\n",
    "ax.plot(x_axis, results['validation_1']['auc'], label='Test')\n",
    "ax.legend()\n",
    "pyplot.ylabel('AUUU')\n",
    "pyplot.title('AUUU AUU')\n",
    "pyplot.show()\n",
    "\n",
    "\n",
    "BEEP()"
   ]
  },
  {
   "cell_type": "code",
   "execution_count": 13,
   "id": "solved-devices",
   "metadata": {},
   "outputs": [
    {
     "name": "stdout",
     "output_type": "stream",
     "text": [
      "0.7880669080876013\n",
      "0.8763612407790513\n"
     ]
    }
   ],
   "source": [
    "print(model.score(XV, YV))\n",
    "print(roc_auc_score(YV, model.predict_proba(XV)[:,1]))"
   ]
  },
  {
   "cell_type": "code",
   "execution_count": 205,
   "id": "guilty-guess",
   "metadata": {},
   "outputs": [
    {
     "name": "stdout",
     "output_type": "stream",
     "text": [
      "      Iter       Train Loss   Remaining Time \n",
      "         1           1.3591            1.05m\n",
      "         2           1.3423           52.82s\n",
      "         3           1.3176           51.21s\n",
      "         4           1.2883           48.11s\n",
      "         5           1.2691           48.00s\n",
      "         6           1.2667           49.58s\n",
      "         7           1.2649           56.33s\n",
      "         8           1.2507           55.75s\n",
      "         9           1.2487           53.77s\n",
      "        10           1.2463           55.14s\n",
      "        20           1.1724           48.98s\n",
      "        30           1.1162           45.35s\n",
      "        40           1.0767           43.30s\n",
      "        50           1.0445           42.27s\n",
      "        60           1.0209           40.87s\n",
      "        70           0.9964           39.55s\n",
      "        80           0.9795           38.45s\n",
      "        90           0.9674           37.36s\n",
      "       100           0.9576           36.33s\n",
      "       200           0.8757           27.04s\n",
      "       300           0.8212           17.87s\n",
      "       400           0.7744            8.89s\n",
      "       500           0.7343            0.00s\n",
      "GradientBoostingClassifier(max_features=50, min_samples_leaf=0.15,\n",
      "                           n_estimators=500, random_state=43, verbose=1)\n"
     ]
    },
    {
     "data": {
      "text/plain": [
       "0.7423333333333333"
      ]
     },
     "execution_count": 205,
     "metadata": {},
     "output_type": "execute_result"
    }
   ],
   "source": [
    "n_features = 50 # \"sqrt\"\n",
    "model = GradientBoostingClassifier(\n",
    "    random_state=43,\n",
    "    verbose=1,\n",
    "    \n",
    "    n_estimators=500,\n",
    "    learning_rate=0.1,\n",
    "    max_depth=3,\n",
    "    max_features=n_features,\n",
    "#     min_samples_split=0.5,\n",
    "    min_samples_leaf=0.15,\n",
    "#     subsample = 0.8,\n",
    "    \n",
    ").fit(XT, YT)\n",
    "# ).fit(X_train, Y_train)\n",
    "print(model)\n",
    "\n",
    "model.score(XV, YV)"
   ]
  },
  {
   "cell_type": "code",
   "execution_count": 196,
   "id": "corresponding-swift",
   "metadata": {},
   "outputs": [
    {
     "data": {
      "text/plain": [
       "0.8190207454414808"
      ]
     },
     "execution_count": 196,
     "metadata": {},
     "output_type": "execute_result"
    }
   ],
   "source": [
    "roc_auc_score(YV, model.predict_proba(XV)[:,1])"
   ]
  },
  {
   "cell_type": "code",
   "execution_count": 10,
   "id": "patient-lightning",
   "metadata": {},
   "outputs": [
    {
     "data": {
      "text/plain": [
       "'STAN_real_xgb__lr0.1_md2_s0.5_mcw75_g25_score0.789.txt'"
      ]
     },
     "execution_count": 10,
     "metadata": {},
     "output_type": "execute_result"
    }
   ],
   "source": [
    "def dump_model(m):\n",
    "    params = [\n",
    "        \"n_estimators\", \n",
    "        \"learning_rate\", \n",
    "        \"max_depth\", \n",
    "        \"max_features\", \n",
    "        \"min_samples_split\",\n",
    "        \"min_samples_leaf\"\n",
    "    ]\n",
    "    res_str = \"xgboost_python_\"\n",
    "    if isinstance(m, XGBClassifier):\n",
    "        params = [\n",
    "            \"learning_rate\",\n",
    "            \"max_depth\",\n",
    "            \"subsample\",\n",
    "            \"min_child_weight\",\n",
    "            \"gamma\",\n",
    "        ]\n",
    "        res_str = \"STAN_real_xgb_\"\n",
    "    short = lambda param: \"\".join([ s[0] for s in param.split('_') ])\n",
    "    for p in params:\n",
    "        k = short(p)\n",
    "        v = getattr(model, p)\n",
    "        res_str += f\"_{k}{v}\"\n",
    "    try:\n",
    "        score = model.score(XV, YV)\n",
    "        res_str += f\"_score{round(score, 3)}\"\n",
    "    except:\n",
    "        pass\n",
    "    res_str += \".txt\"\n",
    "    return res_str\n",
    "\n",
    "dump_model(model)"
   ]
  },
  {
   "cell_type": "code",
   "execution_count": 11,
   "id": "executive-mustang",
   "metadata": {},
   "outputs": [
    {
     "name": "stdout",
     "output_type": "stream",
     "text": [
      "File \n",
      "   STAN_real_xgb__lr0.1_md2_s0.5_mcw75_g25_score0.789.txt\n",
      "saved successfully!\n",
      "(20000,)\n"
     ]
    }
   ],
   "source": [
    "def predict(xv, store=False, fname=dump_model(model)):\n",
    "    res = model.predict_proba(xv)[:,1]\n",
    "    if store:\n",
    "        np.savetxt(fname, res, fmt=\"%.5f\")\n",
    "        print(f\"File \\n   {fname}\\nsaved successfully!\")\n",
    "    return res\n",
    "\n",
    "res = predict(X_test, store=True)\n",
    "print(res.shape)\n"
   ]
  },
  {
   "cell_type": "code",
   "execution_count": 227,
   "id": "informal-auction",
   "metadata": {},
   "outputs": [
    {
     "data": {
      "text/plain": [
       "0.03269997131904032"
      ]
     },
     "execution_count": 227,
     "metadata": {},
     "output_type": "execute_result"
    }
   ],
   "source": [
    "def compare(res, fname=\"glmnet_full.txt\"):\n",
    "    snd = np.loadtxt(fname)\n",
    "    err = mse(res, snd)\n",
    "    return err\n",
    "\n",
    "compare(res, fname=\"xgboost_full.txt\")"
   ]
  }
 ],
 "metadata": {
  "kernelspec": {
   "display_name": "Python 3",
   "language": "python",
   "name": "python3"
  },
  "language_info": {
   "codemirror_mode": {
    "name": "ipython",
    "version": 3
   },
   "file_extension": ".py",
   "mimetype": "text/x-python",
   "name": "python",
   "nbconvert_exporter": "python",
   "pygments_lexer": "ipython3",
   "version": "3.8.5"
  }
 },
 "nbformat": 4,
 "nbformat_minor": 5
}
