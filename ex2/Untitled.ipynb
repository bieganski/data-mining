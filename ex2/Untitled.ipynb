{
 "cells": [
  {
   "cell_type": "code",
   "execution_count": 219,
   "id": "fitted-symphony",
   "metadata": {},
   "outputs": [],
   "source": [
    "import pandas as pd\n",
    "import numpy as np\n",
    "import matplotlib.pyplot as plt\n",
    "\n",
    "from sklearn.model_selection import train_test_split\n",
    "from sklearn.preprocessing import StandardScaler\n",
    "from sklearn.ensemble import GradientBoostingClassifier\n",
    "from sklearn.metrics import auc, mean_squared_error\n",
    "mse = mean_squared_error\n",
    "\n",
    "TRAIN_FNAME = \"training_data_tabular_format.csv\"\n",
    "TEST_FNAME = \"test_data_tabular_format.csv\"\n",
    "\n",
    "from pprint import pprint\n",
    "pdd = lambda x: pprint(dir(x))\n",
    "pt = lambda x: print(type(x))"
   ]
  },
  {
   "cell_type": "code",
   "execution_count": 168,
   "id": "impressed-radiation",
   "metadata": {},
   "outputs": [],
   "source": [
    "from functools import reduce\n",
    "def call(f, **fkwargs):\n",
    "    def g(*args, **gkwargs):\n",
    "        gkwargs.update(fkwargs)\n",
    "        return f(*args, **gkwargs)\n",
    "    return g\n",
    "\n",
    "\n",
    "dftype = pd.core.frame.DataFrame\n",
    "\n",
    "def encode(df):\n",
    "    enc = OneHotEncoder(handle_unknown='ignore')\n",
    "    enc.fit(df)\n",
    "    arr = enc.transform(df).toarray()\n",
    "    return arr\n",
    "\n",
    "DROP_COLUMNS = [\n",
    "    \"version\", \n",
    "    \"players.0.ai\", \n",
    "    \"players.1.ai\", \n",
    "    \"id\", \n",
    "    \"players.1.player_id\", \n",
    "    \"players.0.player_id\",\n",
    "]"
   ]
  },
  {
   "cell_type": "code",
   "execution_count": 223,
   "id": "powerful-london",
   "metadata": {},
   "outputs": [
    {
     "name": "stdout",
     "output_type": "stream",
     "text": [
      "(38658, 493) (38658,) (20000, 493)\n"
     ]
    }
   ],
   "source": [
    "DATA_LEN = 3000\n",
    "PREP_TRAIN_STEPS = [\n",
    "    call(dftype.drop, axis=1, labels=DROP_COLUMNS),\n",
    "#     call(dftype.sample, n=DATA_LEN),\n",
    "    call(dftype.dropna, axis=\"columns\"),\n",
    "    pd.get_dummies,\n",
    "#     encode,\n",
    "]\n",
    "\n",
    "PREP_TEST_STEPS = PREP_TRAIN_STEPS\n",
    "\n",
    "Y_COLNAME = \"winner\"\n",
    "\n",
    "def split_train(df, ycolname=Y_COLNAME):\n",
    "    y = df[ycolname]\n",
    "    df.drop(ycolname, axis=1, inplace=True)\n",
    "    x = df\n",
    "    return df, y\n",
    "\n",
    "def preprocess(df, step_fns, const_len=False):\n",
    "    if not const_len:\n",
    "        return reduce(lambda df, f: f(df), step_fns, df)\n",
    "    else:\n",
    "        for i, f in enumerate(step_fns):\n",
    "            df_copy = df.copy()\n",
    "            df = f(df)\n",
    "            prev, cur = df_copy.shape[0], df.shape[0]\n",
    "            if (prev != cur):\n",
    "                print(f\"Skipping function {i}, as it would change len from {prev} to {cur}\")\n",
    "                df = df_copy\n",
    "                continue\n",
    "        return df\n",
    "\n",
    "def preprocess_train(df):\n",
    "    return preprocess(df, PREP_TRAIN_STEPS)\n",
    "\n",
    "def preprocess_test(df, train_df):\n",
    "    return preprocess(df, PREP_TEST_STEPS, const_len=True)\n",
    "\n",
    "def get_datasets(train_df, test_df):\n",
    "    X_train = preprocess_train(train_df)\n",
    "    X_test = preprocess_test(test_df, X_train)\n",
    "    \n",
    "    X_train, Y = split_train(X_train)\n",
    "    \n",
    "    common_columns = X_train.columns.intersection(X_test.columns)\n",
    "    X_train = X_train[common_columns]\n",
    "    X_test = X_test[common_columns]\n",
    "    \n",
    "    assert all([x == y for x, y in zip(X_train.columns, X_test.columns)])\n",
    "    \n",
    "#     scaler = StandardScaler().fit(X_train)\n",
    "#     X_train = scaler.transform(X_train)\n",
    "#     X_test = scaler.transform(X_test)\n",
    "#     scoring_data = scaler.transform(scoring_data)\n",
    "#     pt(scoring_data)\n",
    "# np.isnan(X_train).any()\n",
    "    \n",
    "    return X_train, Y, X_test\n",
    "    \n",
    "\n",
    "X_train, Y_train, X_test = get_datasets(pd.read_csv(TRAIN_FNAME), pd.read_csv(TEST_FNAME))\n",
    "\n",
    "print(X_train.shape, Y_train.shape, X_test.shape)"
   ]
  },
  {
   "cell_type": "code",
   "execution_count": 195,
   "id": "considered-chest",
   "metadata": {},
   "outputs": [],
   "source": [
    "XT, XV, YT, YV = train_test_split(X_train,Y_train,test_size=0.3,random_state=42)"
   ]
  },
  {
   "cell_type": "code",
   "execution_count": 224,
   "id": "dramatic-centre",
   "metadata": {},
   "outputs": [
    {
     "name": "stdout",
     "output_type": "stream",
     "text": [
      "GradientBoostingClassifier(max_depth=5, n_estimators=500, random_state=42)\n"
     ]
    }
   ],
   "source": [
    "model = GradientBoostingClassifier(\n",
    "    random_state=42,\n",
    "    verbose=1,\n",
    "    \n",
    "    n_estimators=500,\n",
    "    learning_rate=0.1, \n",
    "    max_depth=5,\n",
    "    \n",
    ").fit(X_train, Y_train)\n",
    "print(model)"
   ]
  },
  {
   "cell_type": "code",
   "execution_count": 228,
   "id": "headed-behavior",
   "metadata": {},
   "outputs": [
    {
     "name": "stdout",
     "output_type": "stream",
     "text": [
      "(20000,)\n"
     ]
    }
   ],
   "source": [
    "def predict(xv, store=False, fname=\"UNNAMED\"):\n",
    "    res = model.predict_proba(xv)[:,1]\n",
    "    if store:\n",
    "        np.savetxt(fname, res, fmt=\"%.5f\")\n",
    "    return res\n",
    "\n",
    "res = predict(X_test, store=True, fname=\"xgboost_python_n500_md5.txt\")\n",
    "print(res.shape)\n",
    "# print(mse(res, YV))"
   ]
  },
  {
   "cell_type": "code",
   "execution_count": 227,
   "id": "executed-homework",
   "metadata": {},
   "outputs": [
    {
     "data": {
      "text/plain": [
       "0.03269997131904032"
      ]
     },
     "execution_count": 227,
     "metadata": {},
     "output_type": "execute_result"
    }
   ],
   "source": [
    "def compare(res, fname=\"glmnet_full.txt\"):\n",
    "    snd = np.loadtxt(fname)\n",
    "    err = mse(res, snd)\n",
    "    return err\n",
    "\n",
    "compare(res, fname=\"xgboost_full.txt\")"
   ]
  },
  {
   "cell_type": "code",
   "execution_count": 188,
   "id": "confident-driving",
   "metadata": {},
   "outputs": [
    {
     "name": "stdout",
     "output_type": "stream",
     "text": [
      "[1 1 2 1 2 0 1 2 1 1 2 0 1 0 0 2 2 1 1 1 0 1 0 1 2 1 1 2 0 0 0 0 2 0 0 1 2\n",
      " 0 0 0 1 2 2 0 0]\n",
      "Gradient Boosting Tree F1-score: 0.6666666666666666\n"
     ]
    },
    {
     "data": {
      "text/plain": [
       "Text(0, 0.5, 'Deviance')"
      ]
     },
     "execution_count": 188,
     "metadata": {},
     "output_type": "execute_result"
    },
    {
     "data": {
      "image/png": "[encoded data removed]",
      "text/plain": [
       "<Figure size 864x432 with 1 Axes>"
      ]
     },
     "metadata": {
      "needs_background": "light"
     },
     "output_type": "display_data"
    }
   ],
   "source": [
    "#split training data dan cross validation\n",
    "from sklearn import datasets\n",
    "from sklearn.decomposition import PCA\n",
    "\n",
    "# import some data to play with\n",
    "iris = datasets.load_iris()\n",
    "X = iris.data[:, :2]  # we only take the first two features.\n",
    "Y = iris.target\n",
    "\n",
    "from sklearn.model_selection import train_test_split\n",
    "\n",
    "X_train, X_val, Y_train, Y_val = train_test_split(X,Y,test_size=0.3,random_state=42)\n",
    "\n",
    "from sklearn.metrics import mean_squared_error\n",
    "from sklearn.datasets import make_friedman1\n",
    "from sklearn.ensemble import GradientBoostingClassifier\n",
    "\n",
    "params = {'n_estimators': 1000,'learning_rate': 0.3, 'max_features' : 'sqrt'}\n",
    "\n",
    "dtree=GradientBoostingClassifier(**params)\n",
    "dtree.fit(X_train,Y_train)\n",
    "\n",
    "#mau lihat F1-Score\n",
    "from sklearn.metrics import f1_score\n",
    "\n",
    "Y_pred = dtree.predict(X_val) #prediksi data cross validation menggunakan model tadi\n",
    "print (Y_pred)\n",
    "score = f1_score(Y_val, Y_pred, average=\"micro\") \n",
    "\n",
    "print(\"Gradient Boosting Tree F1-score: \"+str(score)) # I got 0.86 F1-Score\n",
    "\n",
    "import matplotlib.pyplot as plt\n",
    "# Plot training deviance\n",
    "\n",
    "# compute test set deviance\n",
    "val_score = np.zeros((params['n_estimators'],), dtype=np.float64)\n",
    "\n",
    "for i, Y_pred in enumerate(dtree.staged_predict(X_val)):\n",
    "    val_score[i] = dtree.loss_(Y_val, Y_pred.reshape(-1, 1))\n",
    "\n",
    "plt.figure(figsize=(12, 6))\n",
    "plt.subplot(1, 2, 1)\n",
    "plt.title('Deviance')\n",
    "plt.plot(np.arange(params['n_estimators']) + 1, dtree.train_score_, 'b-',\n",
    "             label='Training Set Deviance')\n",
    "plt.plot(np.arange(params['n_estimators']) + 1, val_score, 'r-',\n",
    "             label='Validation Set Deviance')\n",
    "plt.legend(loc='upper right')\n",
    "plt.xlabel('Boosting Iterations')\n",
    "plt.ylabel('Deviance')"
   ]
  }
 ],
 "metadata": {
  "kernelspec": {
   "display_name": "Python 3",
   "language": "python",
   "name": "python3"
  },
  "language_info": {
   "codemirror_mode": {
    "name": "ipython",
    "version": 3
   },
   "file_extension": ".py",
   "mimetype": "text/x-python",
   "name": "python",
   "nbconvert_exporter": "python",
   "pygments_lexer": "ipython3",
   "version": "3.8.5"
  }
 },
 "nbformat": 4,
 "nbformat_minor": 5
}
